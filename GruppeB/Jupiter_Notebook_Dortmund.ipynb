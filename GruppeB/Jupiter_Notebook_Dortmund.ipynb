{
 "cells": [
  {
   "cell_type": "markdown",
   "metadata": {},
   "source": [
    "#### JupyterNotebook Gruppe A\n",
    "# Haben der Anteil an Ausländer_innen und die Alterstruktur in den Dortmunder Bezirken einen Einfluss auf die Bundestagswahlergebnisse der AfD in den Jahren 2013 und 2017?\n",
    "\n",
    "## Inhaltsverzeichnis\n",
    "1. Einleitung und Forschungsfrage <br/>\n",
    "2. Datenaufbereitung <br/>\n",
    "2.1 Definitionen <br/>\n",
    "2.2 Datensatz <br/>\n",
    "2.3 Vorüberlegungen <br/>\n",
    "3. Berechnungen\n",
    "3.1 Hypothese 1a: Je höher der Anteil an Ausländer_innen in einem Stadtbezirk, desto weniger Bürger_innen wählen die AfD <br/>\n",
    "3.2 Hypothese 1b: Wächst der Anteil an Ausländer_innen in den Bezirken von 2013 zu 2017, nehmen die Zweitstimmen der AfD ab <br>\n",
    "3.3 Hypothese 2a: Je mehr Menschen im rentenfähigen Alter ab 65 Jahren in einem Bezirk leben, desto mehr Wahlstimmen verzeichnet die AfD <br>\n",
    "3.4 Hypothese 2b: Wenn die Anzahl von Menschen im rentenfähigen Alter ab 65 Jahren in einem Bezirk zunimmt, verzeichnet die AfD mehr Zweitstimmen <br/>\n",
    "3.5 Betrachtung weiterer Altersgruppen <br/>\n",
    "4. Ergebnisse <br/>"
   ]
  },
  {
   "cell_type": "markdown",
   "metadata": {},
   "source": [
    "## 1 Einleitung und Forschungsfrage"
   ]
  },
  {
   "cell_type": "markdown",
   "metadata": {},
   "source": [
    "<b>FRAGE AN TOBIAS: Inhalte: Copy&Paste aus Bericht oder weglassen?</b>\n",
    "\n",
    "\n",
    "Die Forschungsfrage wird im Folgenden beantwortet, indem wir die Zusammenhänge zwischen Ausländer_innenanteil, sowie Altersstruktur und der Anzahl an AfD-Zweitstimmen in den zwölf Stadtteilen Dortmunds untersuchen."
   ]
  },
  {
   "cell_type": "markdown",
   "metadata": {},
   "source": [
    "## 2 Datenaufbereitung"
   ]
  },
  {
   "cell_type": "markdown",
   "metadata": {},
   "source": [
    "## 2.1 Definitionen\n",
    "\n",
    "Als Ausländer_innen definiert sind Menschen ohne deutsche Staatsbürgerschaft. Unter dem Begriff Senior_innen werden Menschen, die im Rentenalter sind, verstanden."
   ]
  },
  {
   "cell_type": "markdown",
   "metadata": {},
   "source": [
    "## 2.2 Datensatz\n",
    "\n",
    "Zuerst wird die Programmbibliothek Pandas importiert, um Datenanalysen durchführen zu können. Ebenso wird der Forschungsdatensatz (Version drei) importiert. Die Stichprobe, welche wir als Forschungsdatensatz verwenden enthält Daten aus den Jahren der letzten und vorletzten Bundestatgswahlen (2017, 2013)."
   ]
  },
  {
   "cell_type": "code",
   "execution_count": 330,
   "metadata": {
    "scrolled": true
   },
   "outputs": [
    {
     "data": {
      "text/html": [
       "<div>\n",
       "<style scoped>\n",
       "    .dataframe tbody tr th:only-of-type {\n",
       "        vertical-align: middle;\n",
       "    }\n",
       "\n",
       "    .dataframe tbody tr th {\n",
       "        vertical-align: top;\n",
       "    }\n",
       "\n",
       "    .dataframe thead th {\n",
       "        text-align: right;\n",
       "    }\n",
       "</style>\n",
       "<table border=\"1\" class=\"dataframe\">\n",
       "  <thead>\n",
       "    <tr style=\"text-align: right;\">\n",
       "      <th></th>\n",
       "      <th>Stadtbezirk</th>\n",
       "      <th>Deutsch2017</th>\n",
       "      <th>Ausländer2017</th>\n",
       "      <th>Deutsch2013</th>\n",
       "      <th>Ausländer2013</th>\n",
       "      <th>Wahlberechtigte2017</th>\n",
       "      <th>WählerInnen2017</th>\n",
       "      <th>UngültigeZweitstimmen2017</th>\n",
       "      <th>GültigeZweitstimmen2017</th>\n",
       "      <th>AfDZweitstimmen2017</th>\n",
       "      <th>Wahlberechtigte2013</th>\n",
       "      <th>WählerInnen2013</th>\n",
       "      <th>UngültigeZweitstimmen2013</th>\n",
       "      <th>GültigeZweitstimmen2013</th>\n",
       "      <th>AfDZweitstimmen2013</th>\n",
       "      <th>2017Alter0bis2</th>\n",
       "      <th>2017Alter3bis5</th>\n",
       "      <th>2017Alter6bis17</th>\n",
       "      <th>2017Alter18bis24</th>\n",
       "      <th>2017Alter25bis34</th>\n",
       "      <th>2017Alter35bis49</th>\n",
       "      <th>2017Alter50bis64</th>\n",
       "      <th>2017Alter65bis70</th>\n",
       "      <th>2017Alter80uÄ</th>\n",
       "      <th>2013Alter0bis2</th>\n",
       "      <th>2013Alter3bis5</th>\n",
       "      <th>2013Alter6bis17</th>\n",
       "      <th>2013Alter18bis24</th>\n",
       "      <th>2013Alter25bis34</th>\n",
       "      <th>2013Alter35bis49</th>\n",
       "      <th>2013Alter50bis64</th>\n",
       "      <th>2013Alter65bis79</th>\n",
       "      <th>2013Alter80uÄ</th>\n",
       "    </tr>\n",
       "  </thead>\n",
       "  <tbody>\n",
       "    <tr>\n",
       "      <th>0</th>\n",
       "      <td>Innenstadt-West</td>\n",
       "      <td>43702</td>\n",
       "      <td>9621</td>\n",
       "      <td>44023</td>\n",
       "      <td>8008</td>\n",
       "      <td>22014</td>\n",
       "      <td>11796</td>\n",
       "      <td>208</td>\n",
       "      <td>11588</td>\n",
       "      <td>1148</td>\n",
       "      <td>23627</td>\n",
       "      <td>11860</td>\n",
       "      <td>194</td>\n",
       "      <td>11666</td>\n",
       "      <td>401</td>\n",
       "      <td>1356</td>\n",
       "      <td>1136</td>\n",
       "      <td>4172</td>\n",
       "      <td>5773</td>\n",
       "      <td>11713</td>\n",
       "      <td>10331</td>\n",
       "      <td>9927</td>\n",
       "      <td>6215</td>\n",
       "      <td>2700</td>\n",
       "      <td>1238</td>\n",
       "      <td>1102</td>\n",
       "      <td>4123</td>\n",
       "      <td>5729</td>\n",
       "      <td>10667</td>\n",
       "      <td>11095</td>\n",
       "      <td>9259</td>\n",
       "      <td>6294</td>\n",
       "      <td>2524</td>\n",
       "    </tr>\n",
       "    <tr>\n",
       "      <th>1</th>\n",
       "      <td>Innenstadt-Nord</td>\n",
       "      <td>29035</td>\n",
       "      <td>30444</td>\n",
       "      <td>31106</td>\n",
       "      <td>23886</td>\n",
       "      <td>41632</td>\n",
       "      <td>32291</td>\n",
       "      <td>204</td>\n",
       "      <td>32087</td>\n",
       "      <td>2318</td>\n",
       "      <td>41679</td>\n",
       "      <td>30478</td>\n",
       "      <td>273</td>\n",
       "      <td>30205</td>\n",
       "      <td>1205</td>\n",
       "      <td>2349</td>\n",
       "      <td>2193</td>\n",
       "      <td>8374</td>\n",
       "      <td>7692</td>\n",
       "      <td>11065</td>\n",
       "      <td>12450</td>\n",
       "      <td>8893</td>\n",
       "      <td>4941</td>\n",
       "      <td>1522</td>\n",
       "      <td>1940</td>\n",
       "      <td>1921</td>\n",
       "      <td>7187</td>\n",
       "      <td>7182</td>\n",
       "      <td>9926</td>\n",
       "      <td>12025</td>\n",
       "      <td>8336</td>\n",
       "      <td>5103</td>\n",
       "      <td>1372</td>\n",
       "    </tr>\n",
       "    <tr>\n",
       "      <th>2</th>\n",
       "      <td>Innenstadt-Ost</td>\n",
       "      <td>48147</td>\n",
       "      <td>8207</td>\n",
       "      <td>47682</td>\n",
       "      <td>6555</td>\n",
       "      <td>38056</td>\n",
       "      <td>28707</td>\n",
       "      <td>185</td>\n",
       "      <td>28522</td>\n",
       "      <td>2114</td>\n",
       "      <td>38272</td>\n",
       "      <td>27430</td>\n",
       "      <td>283</td>\n",
       "      <td>27147</td>\n",
       "      <td>985</td>\n",
       "      <td>1624</td>\n",
       "      <td>1297</td>\n",
       "      <td>4240</td>\n",
       "      <td>4234</td>\n",
       "      <td>10901</td>\n",
       "      <td>11702</td>\n",
       "      <td>10830</td>\n",
       "      <td>7907</td>\n",
       "      <td>3619</td>\n",
       "      <td>1348</td>\n",
       "      <td>1185</td>\n",
       "      <td>3959</td>\n",
       "      <td>4221</td>\n",
       "      <td>9905</td>\n",
       "      <td>11612</td>\n",
       "      <td>10450</td>\n",
       "      <td>8082</td>\n",
       "      <td>3475</td>\n",
       "    </tr>\n",
       "    <tr>\n",
       "      <th>3</th>\n",
       "      <td>Eving</td>\n",
       "      <td>29224</td>\n",
       "      <td>9103</td>\n",
       "      <td>29774</td>\n",
       "      <td>7006</td>\n",
       "      <td>23742</td>\n",
       "      <td>15858</td>\n",
       "      <td>197</td>\n",
       "      <td>15661</td>\n",
       "      <td>2169</td>\n",
       "      <td>24250</td>\n",
       "      <td>15386</td>\n",
       "      <td>203</td>\n",
       "      <td>15183</td>\n",
       "      <td>736</td>\n",
       "      <td>1140</td>\n",
       "      <td>1051</td>\n",
       "      <td>4393</td>\n",
       "      <td>3426</td>\n",
       "      <td>5274</td>\n",
       "      <td>7868</td>\n",
       "      <td>7829</td>\n",
       "      <td>5176</td>\n",
       "      <td>2170</td>\n",
       "      <td>902</td>\n",
       "      <td>1013</td>\n",
       "      <td>4492</td>\n",
       "      <td>3328</td>\n",
       "      <td>4546</td>\n",
       "      <td>8075</td>\n",
       "      <td>7279</td>\n",
       "      <td>5246</td>\n",
       "      <td>1899</td>\n",
       "    </tr>\n",
       "    <tr>\n",
       "      <th>4</th>\n",
       "      <td>Scharnhorst</td>\n",
       "      <td>38301</td>\n",
       "      <td>7574</td>\n",
       "      <td>39230</td>\n",
       "      <td>4993</td>\n",
       "      <td>31072</td>\n",
       "      <td>20677</td>\n",
       "      <td>281</td>\n",
       "      <td>20396</td>\n",
       "      <td>3053</td>\n",
       "      <td>32048</td>\n",
       "      <td>20034</td>\n",
       "      <td>260</td>\n",
       "      <td>19774</td>\n",
       "      <td>774</td>\n",
       "      <td>1436</td>\n",
       "      <td>1503</td>\n",
       "      <td>5946</td>\n",
       "      <td>3559</td>\n",
       "      <td>5232</td>\n",
       "      <td>8751</td>\n",
       "      <td>9756</td>\n",
       "      <td>6784</td>\n",
       "      <td>2908</td>\n",
       "      <td>1144</td>\n",
       "      <td>1258</td>\n",
       "      <td>5616</td>\n",
       "      <td>3486</td>\n",
       "      <td>4856</td>\n",
       "      <td>8913</td>\n",
       "      <td>9348</td>\n",
       "      <td>7099</td>\n",
       "      <td>2503</td>\n",
       "    </tr>\n",
       "    <tr>\n",
       "      <th>5</th>\n",
       "      <td>Brackel</td>\n",
       "      <td>50266</td>\n",
       "      <td>5828</td>\n",
       "      <td>50515</td>\n",
       "      <td>4013</td>\n",
       "      <td>42599</td>\n",
       "      <td>31348</td>\n",
       "      <td>301</td>\n",
       "      <td>31047</td>\n",
       "      <td>3469</td>\n",
       "      <td>42989</td>\n",
       "      <td>29531</td>\n",
       "      <td>311</td>\n",
       "      <td>29220</td>\n",
       "      <td>1225</td>\n",
       "      <td>1503</td>\n",
       "      <td>1498</td>\n",
       "      <td>5645</td>\n",
       "      <td>3891</td>\n",
       "      <td>6517</td>\n",
       "      <td>10658</td>\n",
       "      <td>13330</td>\n",
       "      <td>9064</td>\n",
       "      <td>3988</td>\n",
       "      <td>1196</td>\n",
       "      <td>1263</td>\n",
       "      <td>5540</td>\n",
       "      <td>3998</td>\n",
       "      <td>6004</td>\n",
       "      <td>11281</td>\n",
       "      <td>12346</td>\n",
       "      <td>9587</td>\n",
       "      <td>3313</td>\n",
       "    </tr>\n",
       "    <tr>\n",
       "      <th>6</th>\n",
       "      <td>Aplerbeck</td>\n",
       "      <td>51188</td>\n",
       "      <td>4117</td>\n",
       "      <td>51816</td>\n",
       "      <td>3140</td>\n",
       "      <td>43266</td>\n",
       "      <td>33486</td>\n",
       "      <td>200</td>\n",
       "      <td>33286</td>\n",
       "      <td>2945</td>\n",
       "      <td>43600</td>\n",
       "      <td>32173</td>\n",
       "      <td>253</td>\n",
       "      <td>31920</td>\n",
       "      <td>1289</td>\n",
       "      <td>1307</td>\n",
       "      <td>1353</td>\n",
       "      <td>5788</td>\n",
       "      <td>3591</td>\n",
       "      <td>5754</td>\n",
       "      <td>10736</td>\n",
       "      <td>13140</td>\n",
       "      <td>9353</td>\n",
       "      <td>4283</td>\n",
       "      <td>1232</td>\n",
       "      <td>1269</td>\n",
       "      <td>6070</td>\n",
       "      <td>3536</td>\n",
       "      <td>5538</td>\n",
       "      <td>11920</td>\n",
       "      <td>12156</td>\n",
       "      <td>9812</td>\n",
       "      <td>3423</td>\n",
       "    </tr>\n",
       "    <tr>\n",
       "      <th>7</th>\n",
       "      <td>Hörde</td>\n",
       "      <td>47967</td>\n",
       "      <td>7551</td>\n",
       "      <td>47502</td>\n",
       "      <td>5808</td>\n",
       "      <td>40607</td>\n",
       "      <td>30669</td>\n",
       "      <td>231</td>\n",
       "      <td>30438</td>\n",
       "      <td>2726</td>\n",
       "      <td>40187</td>\n",
       "      <td>28519</td>\n",
       "      <td>280</td>\n",
       "      <td>28239</td>\n",
       "      <td>1146</td>\n",
       "      <td>1504</td>\n",
       "      <td>1337</td>\n",
       "      <td>5596</td>\n",
       "      <td>4084</td>\n",
       "      <td>7132</td>\n",
       "      <td>11013</td>\n",
       "      <td>12302</td>\n",
       "      <td>8869</td>\n",
       "      <td>3681</td>\n",
       "      <td>1188</td>\n",
       "      <td>1268</td>\n",
       "      <td>5550</td>\n",
       "      <td>3850</td>\n",
       "      <td>6344</td>\n",
       "      <td>11497</td>\n",
       "      <td>11436</td>\n",
       "      <td>9113</td>\n",
       "      <td>3064</td>\n",
       "    </tr>\n",
       "    <tr>\n",
       "      <th>8</th>\n",
       "      <td>Hombruch</td>\n",
       "      <td>51367</td>\n",
       "      <td>5687</td>\n",
       "      <td>51836</td>\n",
       "      <td>4700</td>\n",
       "      <td>43870</td>\n",
       "      <td>35169</td>\n",
       "      <td>201</td>\n",
       "      <td>34968</td>\n",
       "      <td>2682</td>\n",
       "      <td>44076</td>\n",
       "      <td>33952</td>\n",
       "      <td>297</td>\n",
       "      <td>33655</td>\n",
       "      <td>1395</td>\n",
       "      <td>1295</td>\n",
       "      <td>1256</td>\n",
       "      <td>5407</td>\n",
       "      <td>5528</td>\n",
       "      <td>7255</td>\n",
       "      <td>10366</td>\n",
       "      <td>12523</td>\n",
       "      <td>9087</td>\n",
       "      <td>4337</td>\n",
       "      <td>1139</td>\n",
       "      <td>1231</td>\n",
       "      <td>5610</td>\n",
       "      <td>5179</td>\n",
       "      <td>7104</td>\n",
       "      <td>11500</td>\n",
       "      <td>11564</td>\n",
       "      <td>9319</td>\n",
       "      <td>3890</td>\n",
       "    </tr>\n",
       "    <tr>\n",
       "      <th>9</th>\n",
       "      <td>Lütgendortmund</td>\n",
       "      <td>42435</td>\n",
       "      <td>6267</td>\n",
       "      <td>43557</td>\n",
       "      <td>4551</td>\n",
       "      <td>35852</td>\n",
       "      <td>25013</td>\n",
       "      <td>214</td>\n",
       "      <td>24799</td>\n",
       "      <td>3098</td>\n",
       "      <td>36598</td>\n",
       "      <td>23570</td>\n",
       "      <td>225</td>\n",
       "      <td>23345</td>\n",
       "      <td>984</td>\n",
       "      <td>1265</td>\n",
       "      <td>1310</td>\n",
       "      <td>5108</td>\n",
       "      <td>4309</td>\n",
       "      <td>6582</td>\n",
       "      <td>9280</td>\n",
       "      <td>11314</td>\n",
       "      <td>6765</td>\n",
       "      <td>2769</td>\n",
       "      <td>1166</td>\n",
       "      <td>1185</td>\n",
       "      <td>5216</td>\n",
       "      <td>4259</td>\n",
       "      <td>6066</td>\n",
       "      <td>10330</td>\n",
       "      <td>10583</td>\n",
       "      <td>6791</td>\n",
       "      <td>2512</td>\n",
       "    </tr>\n",
       "    <tr>\n",
       "      <th>10</th>\n",
       "      <td>Huckarde</td>\n",
       "      <td>30867</td>\n",
       "      <td>5651</td>\n",
       "      <td>31365</td>\n",
       "      <td>4343</td>\n",
       "      <td>25193</td>\n",
       "      <td>16939</td>\n",
       "      <td>156</td>\n",
       "      <td>16783</td>\n",
       "      <td>2339</td>\n",
       "      <td>25756</td>\n",
       "      <td>16332</td>\n",
       "      <td>237</td>\n",
       "      <td>16095</td>\n",
       "      <td>707</td>\n",
       "      <td>1109</td>\n",
       "      <td>1064</td>\n",
       "      <td>4263</td>\n",
       "      <td>3143</td>\n",
       "      <td>4730</td>\n",
       "      <td>7206</td>\n",
       "      <td>8005</td>\n",
       "      <td>4741</td>\n",
       "      <td>2257</td>\n",
       "      <td>870</td>\n",
       "      <td>936</td>\n",
       "      <td>4360</td>\n",
       "      <td>3183</td>\n",
       "      <td>4374</td>\n",
       "      <td>7540</td>\n",
       "      <td>7544</td>\n",
       "      <td>4911</td>\n",
       "      <td>1990</td>\n",
       "    </tr>\n",
       "    <tr>\n",
       "      <th>11</th>\n",
       "      <td>Mengede</td>\n",
       "      <td>32630</td>\n",
       "      <td>6601</td>\n",
       "      <td>33596</td>\n",
       "      <td>4653</td>\n",
       "      <td>26713</td>\n",
       "      <td>17978</td>\n",
       "      <td>214</td>\n",
       "      <td>17764</td>\n",
       "      <td>2646</td>\n",
       "      <td>27565</td>\n",
       "      <td>17269</td>\n",
       "      <td>231</td>\n",
       "      <td>17038</td>\n",
       "      <td>784</td>\n",
       "      <td>1174</td>\n",
       "      <td>1153</td>\n",
       "      <td>4821</td>\n",
       "      <td>3259</td>\n",
       "      <td>4844</td>\n",
       "      <td>7641</td>\n",
       "      <td>8779</td>\n",
       "      <td>5431</td>\n",
       "      <td>2129</td>\n",
       "      <td>921</td>\n",
       "      <td>1013</td>\n",
       "      <td>4804</td>\n",
       "      <td>3333</td>\n",
       "      <td>4454</td>\n",
       "      <td>8124</td>\n",
       "      <td>8370</td>\n",
       "      <td>5361</td>\n",
       "      <td>1869</td>\n",
       "    </tr>\n",
       "  </tbody>\n",
       "</table>\n",
       "</div>"
      ],
      "text/plain": [
       "        Stadtbezirk  Deutsch2017  Ausländer2017  Deutsch2013  Ausländer2013  \\\n",
       "0   Innenstadt-West        43702           9621        44023           8008   \n",
       "1   Innenstadt-Nord        29035          30444        31106          23886   \n",
       "2    Innenstadt-Ost        48147           8207        47682           6555   \n",
       "3             Eving        29224           9103        29774           7006   \n",
       "4       Scharnhorst        38301           7574        39230           4993   \n",
       "5           Brackel        50266           5828        50515           4013   \n",
       "6         Aplerbeck        51188           4117        51816           3140   \n",
       "7             Hörde        47967           7551        47502           5808   \n",
       "8          Hombruch        51367           5687        51836           4700   \n",
       "9    Lütgendortmund        42435           6267        43557           4551   \n",
       "10         Huckarde        30867           5651        31365           4343   \n",
       "11          Mengede        32630           6601        33596           4653   \n",
       "\n",
       "    Wahlberechtigte2017  WählerInnen2017  UngültigeZweitstimmen2017  \\\n",
       "0                 22014            11796                        208   \n",
       "1                 41632            32291                        204   \n",
       "2                 38056            28707                        185   \n",
       "3                 23742            15858                        197   \n",
       "4                 31072            20677                        281   \n",
       "5                 42599            31348                        301   \n",
       "6                 43266            33486                        200   \n",
       "7                 40607            30669                        231   \n",
       "8                 43870            35169                        201   \n",
       "9                 35852            25013                        214   \n",
       "10                25193            16939                        156   \n",
       "11                26713            17978                        214   \n",
       "\n",
       "    GültigeZweitstimmen2017  AfDZweitstimmen2017  Wahlberechtigte2013  \\\n",
       "0                     11588                 1148                23627   \n",
       "1                     32087                 2318                41679   \n",
       "2                     28522                 2114                38272   \n",
       "3                     15661                 2169                24250   \n",
       "4                     20396                 3053                32048   \n",
       "5                     31047                 3469                42989   \n",
       "6                     33286                 2945                43600   \n",
       "7                     30438                 2726                40187   \n",
       "8                     34968                 2682                44076   \n",
       "9                     24799                 3098                36598   \n",
       "10                    16783                 2339                25756   \n",
       "11                    17764                 2646                27565   \n",
       "\n",
       "    WählerInnen2013  UngültigeZweitstimmen2013  GültigeZweitstimmen2013  \\\n",
       "0             11860                        194                    11666   \n",
       "1             30478                        273                    30205   \n",
       "2             27430                        283                    27147   \n",
       "3             15386                        203                    15183   \n",
       "4             20034                        260                    19774   \n",
       "5             29531                        311                    29220   \n",
       "6             32173                        253                    31920   \n",
       "7             28519                        280                    28239   \n",
       "8             33952                        297                    33655   \n",
       "9             23570                        225                    23345   \n",
       "10            16332                        237                    16095   \n",
       "11            17269                        231                    17038   \n",
       "\n",
       "    AfDZweitstimmen2013  2017Alter0bis2  2017Alter3bis5  2017Alter6bis17  \\\n",
       "0                   401            1356            1136             4172   \n",
       "1                  1205            2349            2193             8374   \n",
       "2                   985            1624            1297             4240   \n",
       "3                   736            1140            1051             4393   \n",
       "4                   774            1436            1503             5946   \n",
       "5                  1225            1503            1498             5645   \n",
       "6                  1289            1307            1353             5788   \n",
       "7                  1146            1504            1337             5596   \n",
       "8                  1395            1295            1256             5407   \n",
       "9                   984            1265            1310             5108   \n",
       "10                  707            1109            1064             4263   \n",
       "11                  784            1174            1153             4821   \n",
       "\n",
       "    2017Alter18bis24  2017Alter25bis34  2017Alter35bis49  2017Alter50bis64  \\\n",
       "0               5773             11713             10331              9927   \n",
       "1               7692             11065             12450              8893   \n",
       "2               4234             10901             11702             10830   \n",
       "3               3426              5274              7868              7829   \n",
       "4               3559              5232              8751              9756   \n",
       "5               3891              6517             10658             13330   \n",
       "6               3591              5754             10736             13140   \n",
       "7               4084              7132             11013             12302   \n",
       "8               5528              7255             10366             12523   \n",
       "9               4309              6582              9280             11314   \n",
       "10              3143              4730              7206              8005   \n",
       "11              3259              4844              7641              8779   \n",
       "\n",
       "    2017Alter65bis70  2017Alter80uÄ  2013Alter0bis2  2013Alter3bis5  \\\n",
       "0               6215           2700            1238            1102   \n",
       "1               4941           1522            1940            1921   \n",
       "2               7907           3619            1348            1185   \n",
       "3               5176           2170             902            1013   \n",
       "4               6784           2908            1144            1258   \n",
       "5               9064           3988            1196            1263   \n",
       "6               9353           4283            1232            1269   \n",
       "7               8869           3681            1188            1268   \n",
       "8               9087           4337            1139            1231   \n",
       "9               6765           2769            1166            1185   \n",
       "10              4741           2257             870             936   \n",
       "11              5431           2129             921            1013   \n",
       "\n",
       "    2013Alter6bis17  2013Alter18bis24  2013Alter25bis34  2013Alter35bis49  \\\n",
       "0              4123              5729             10667             11095   \n",
       "1              7187              7182              9926             12025   \n",
       "2              3959              4221              9905             11612   \n",
       "3              4492              3328              4546              8075   \n",
       "4              5616              3486              4856              8913   \n",
       "5              5540              3998              6004             11281   \n",
       "6              6070              3536              5538             11920   \n",
       "7              5550              3850              6344             11497   \n",
       "8              5610              5179              7104             11500   \n",
       "9              5216              4259              6066             10330   \n",
       "10             4360              3183              4374              7540   \n",
       "11             4804              3333              4454              8124   \n",
       "\n",
       "    2013Alter50bis64  2013Alter65bis79  2013Alter80uÄ  \n",
       "0               9259              6294           2524  \n",
       "1               8336              5103           1372  \n",
       "2              10450              8082           3475  \n",
       "3               7279              5246           1899  \n",
       "4               9348              7099           2503  \n",
       "5              12346              9587           3313  \n",
       "6              12156              9812           3423  \n",
       "7              11436              9113           3064  \n",
       "8              11564              9319           3890  \n",
       "9              10583              6791           2512  \n",
       "10              7544              4911           1990  \n",
       "11              8370              5361           1869  "
      ]
     },
     "execution_count": 330,
     "metadata": {},
     "output_type": "execute_result"
    }
   ],
   "source": [
    "#Programmbibliothek Pandas importieren\n",
    "import pandas as pd\n",
    "#vollständige Anzeige aller Spalten einstellen\n",
    "pd.options.display.max_columns = None\n",
    "\n",
    "#Forschungsdatensatz Version vier, vollständige Daten importieren\n",
    "dortmund = pd.read_csv('Forschungsdatensatz_v4.csv')\n",
    "dortmund.head(n=12)"
   ]
  },
  {
   "cell_type": "markdown",
   "metadata": {},
   "source": [
    "## 2.3 Vorüberlegungen zu Relationen und Verteilungen"
   ]
  },
  {
   "cell_type": "markdown",
   "metadata": {},
   "source": [
    "Im Folgenden werden die Relationen und Verteilungen der Ausländer_innen, sowie der verschiedenen Altersgruppen (*Aufzählen??*) auf die Stadtteile in den jeweiligen Jahren betrachtet, um einen ersten Einblick in die Daten zu bekommen."
   ]
  },
  {
   "cell_type": "markdown",
   "metadata": {},
   "source": [
    "### 2.3.1 Ausländer_innen"
   ]
  },
  {
   "cell_type": "markdown",
   "metadata": {},
   "source": [
    "Um einen ersten Überblick über die Einwohnerverteilung nach ethnischer Zugehörigkeit in den Stadtbezirken Dortmunds zu gewinnen, wird exemplarisch für das Jahr 2017 ein Balkendiagramm zu den absoluten Zahlen erstellt.\n",
    "\n"
   ]
  },
  {
   "cell_type": "code",
   "execution_count": 331,
   "metadata": {},
   "outputs": [
    {
     "data": {
      "image/png": "[encoded data removed]",
      "text/plain": [
       "<Figure size 432x288 with 1 Axes>"
      ]
     },
     "metadata": {
      "needs_background": "light"
     },
     "output_type": "display_data"
    }
   ],
   "source": [
    "import matplotlib.pyplot as plt\n",
    "\n",
    "#Erstellen der Spalte Gesamteinwohnerzahl Dortmund 2017\n",
    "dortmund['EinwohnerGesamt2017'] = dortmund['Ausländer2017'] + dortmund['Deutsch2017']\n",
    "\n",
    "deutsch2017 = dortmund.sort_values('EinwohnerGesamt2017',ascending=False)['Deutsch2017']\n",
    "ausländer2017 = dortmund.sort_values('EinwohnerGesamt2017',ascending=False)['Ausländer2017']\n",
    "#die Variablen vorab zu definieren, ist nicht nötig, macht aber den Code unten etwas lesbarer.\n",
    "\n",
    "serie1 = plt.bar(range(len(dortmund)), deutsch2017, color='#133863')\n",
    "serie2 = plt.bar(range(len(dortmund)), ausländer2017, bottom=deutsch2017, color='#609CE1')  \n",
    "plt.xticks(range(len(dortmund)), dortmund.sort_values('EinwohnerGesamt2017',ascending=False)['Stadtbezirk'],rotation=90) \n",
    "\n",
    "\n",
    "plt.title('Ausländer_innen und Deutsche in den Dortmunder Bezirken (2017)') \n",
    "plt.xlabel('Bezirk') \n",
    "plt.ylabel('Zahl der Einwohner') \n",
    "#Fügt eine Legende rechts neben dem Diagramm hinzu.\n",
    "plt.legend((serie2,serie1), ('Ausländer_innen','Deutsche'), loc='center left', bbox_to_anchor=(1, 0.5))\n",
    "plt.show() "
   ]
  },
  {
   "cell_type": "markdown",
   "metadata": {},
   "source": [
    "Aus der grafischen Darstellung geht hervor, dass der Stadtbezirk mit den meisten Einwohnern (Innenstadt-Nord) zugleich die höchste Anzahl an Ausländer_innen aufweist. In diesem Stadtbezirk sind circa die Hälfte der Einwohner_innen Ausländer_innen. Dadurch setzt sich Innenstadt-Nord in der Verteilung von Ausländer_innen und Deutschen deutlich von den anderen Stadtbezirken ab."
   ]
  },
  {
   "cell_type": "markdown",
   "metadata": {},
   "source": [
    "Nachfolgend schauen wir uns die Entwicklung der relativen Zahlen an, um festzustellen, inwiefern sich die Verteilung von Ausländer_innen zwischen den Bundestagswahljahren 2013 und 2017 verändert hat."
   ]
  },
  {
   "cell_type": "code",
   "execution_count": 332,
   "metadata": {},
   "outputs": [
    {
     "data": {
      "text/html": [
       "<div>\n",
       "<style scoped>\n",
       "    .dataframe tbody tr th:only-of-type {\n",
       "        vertical-align: middle;\n",
       "    }\n",
       "\n",
       "    .dataframe tbody tr th {\n",
       "        vertical-align: top;\n",
       "    }\n",
       "\n",
       "    .dataframe thead th {\n",
       "        text-align: right;\n",
       "    }\n",
       "</style>\n",
       "<table border=\"1\" class=\"dataframe\">\n",
       "  <thead>\n",
       "    <tr style=\"text-align: right;\">\n",
       "      <th></th>\n",
       "      <th>Stadtbezirk</th>\n",
       "      <th>RelAusländer2013</th>\n",
       "      <th>RelAusländer2017</th>\n",
       "      <th>DiffRelAusl1317</th>\n",
       "    </tr>\n",
       "  </thead>\n",
       "  <tbody>\n",
       "    <tr>\n",
       "      <th>0</th>\n",
       "      <td>Innenstadt-West</td>\n",
       "      <td>0.153908</td>\n",
       "      <td>0.180429</td>\n",
       "      <td>0.026520</td>\n",
       "    </tr>\n",
       "    <tr>\n",
       "      <th>1</th>\n",
       "      <td>Innenstadt-Nord</td>\n",
       "      <td>0.434354</td>\n",
       "      <td>0.511845</td>\n",
       "      <td>0.077490</td>\n",
       "    </tr>\n",
       "    <tr>\n",
       "      <th>2</th>\n",
       "      <td>Innenstadt-Ost</td>\n",
       "      <td>0.120858</td>\n",
       "      <td>0.145633</td>\n",
       "      <td>0.024775</td>\n",
       "    </tr>\n",
       "    <tr>\n",
       "      <th>3</th>\n",
       "      <td>Eving</td>\n",
       "      <td>0.190484</td>\n",
       "      <td>0.237509</td>\n",
       "      <td>0.047025</td>\n",
       "    </tr>\n",
       "    <tr>\n",
       "      <th>4</th>\n",
       "      <td>Scharnhorst</td>\n",
       "      <td>0.112905</td>\n",
       "      <td>0.165101</td>\n",
       "      <td>0.052196</td>\n",
       "    </tr>\n",
       "    <tr>\n",
       "      <th>5</th>\n",
       "      <td>Brackel</td>\n",
       "      <td>0.073595</td>\n",
       "      <td>0.103897</td>\n",
       "      <td>0.030302</td>\n",
       "    </tr>\n",
       "    <tr>\n",
       "      <th>6</th>\n",
       "      <td>Aplerbeck</td>\n",
       "      <td>0.057137</td>\n",
       "      <td>0.074442</td>\n",
       "      <td>0.017305</td>\n",
       "    </tr>\n",
       "    <tr>\n",
       "      <th>7</th>\n",
       "      <td>Hörde</td>\n",
       "      <td>0.108948</td>\n",
       "      <td>0.136010</td>\n",
       "      <td>0.027062</td>\n",
       "    </tr>\n",
       "    <tr>\n",
       "      <th>8</th>\n",
       "      <td>Hombruch</td>\n",
       "      <td>0.083133</td>\n",
       "      <td>0.099677</td>\n",
       "      <td>0.016545</td>\n",
       "    </tr>\n",
       "    <tr>\n",
       "      <th>9</th>\n",
       "      <td>Lütgendortmund</td>\n",
       "      <td>0.094600</td>\n",
       "      <td>0.128681</td>\n",
       "      <td>0.034081</td>\n",
       "    </tr>\n",
       "    <tr>\n",
       "      <th>10</th>\n",
       "      <td>Huckarde</td>\n",
       "      <td>0.121625</td>\n",
       "      <td>0.154746</td>\n",
       "      <td>0.033120</td>\n",
       "    </tr>\n",
       "    <tr>\n",
       "      <th>11</th>\n",
       "      <td>Mengede</td>\n",
       "      <td>0.121650</td>\n",
       "      <td>0.168260</td>\n",
       "      <td>0.046610</td>\n",
       "    </tr>\n",
       "  </tbody>\n",
       "</table>\n",
       "</div>"
      ],
      "text/plain": [
       "        Stadtbezirk  RelAusländer2013  RelAusländer2017  DiffRelAusl1317\n",
       "0   Innenstadt-West          0.153908          0.180429         0.026520\n",
       "1   Innenstadt-Nord          0.434354          0.511845         0.077490\n",
       "2    Innenstadt-Ost          0.120858          0.145633         0.024775\n",
       "3             Eving          0.190484          0.237509         0.047025\n",
       "4       Scharnhorst          0.112905          0.165101         0.052196\n",
       "5           Brackel          0.073595          0.103897         0.030302\n",
       "6         Aplerbeck          0.057137          0.074442         0.017305\n",
       "7             Hörde          0.108948          0.136010         0.027062\n",
       "8          Hombruch          0.083133          0.099677         0.016545\n",
       "9    Lütgendortmund          0.094600          0.128681         0.034081\n",
       "10         Huckarde          0.121625          0.154746         0.033120\n",
       "11          Mengede          0.121650          0.168260         0.046610"
      ]
     },
     "execution_count": 332,
     "metadata": {},
     "output_type": "execute_result"
    }
   ],
   "source": [
    "#Erstellen der Spalte Gesamteinwohnerzahl Dortmund 2013\n",
    "dortmund['EinwohnerGesamt2013'] = dortmund['Ausländer2013'] + dortmund['Deutsch2013']\n",
    "#Erstellen der Spalte für die relative Anzahl der Ausländer_innen 2013\n",
    "dortmund['RelAusländer2013'] = dortmund['Ausländer2013'] / dortmund['EinwohnerGesamt2013']\n",
    "#Erstellen der Spalte für die relative Anzahl der Ausländer_innen 2013\n",
    "dortmund['RelAusländer2017'] = dortmund['Ausländer2017'] / dortmund['EinwohnerGesamt2017']\n",
    "\n",
    "#Differenz relativer Zahlen von Ausländer_innen zu 2013 und 2017 bilden\n",
    "dortmund['DiffRelAusl1317'] = dortmund['RelAusländer2017'] - dortmund['RelAusländer2013']\n",
    "\n",
    "#Dataframe aus den zuvor ermittelten Spalten\n",
    "RelAuslundDiff = dortmund[['Stadtbezirk', 'RelAusländer2013', 'RelAusländer2017', 'DiffRelAusl1317']]\n",
    "RelAuslundDiff.head(n=12)\n",
    "          "
   ]
  },
  {
   "cell_type": "code",
   "execution_count": 333,
   "metadata": {},
   "outputs": [
    {
     "name": "stdout",
     "output_type": "stream",
     "text": [
      "Zwischen den Jahren 2013 und 2017 ist ein Anstieg an Ausländer_innen von durchschnittlich 3.61 Prozent sichtbar.\n"
     ]
    }
   ],
   "source": [
    "print('Zwischen den Jahren 2013 und 2017 ist ein Anstieg an Ausländer_innen von durchschnittlich ' + str(round(dortmund['DiffRelAusl1317'].mean()*100,2)) + ' Prozent sichtbar.')\n"
   ]
  },
  {
   "cell_type": "markdown",
   "metadata": {},
   "source": [
    "An den obenstehenden Ergebnissen sehen wir, dass in allen Bezirken der Anteil an Ausländer_innen von 2013 zu 2017 zugenommen hat. Der Anstieg beläuft sich im Rahmen von rund zwei bis acht Prozent. Der Stadtbezirk Innenstadt-Nord weist hierbei eine nennenswert höhere Zunahme auf."
   ]
  },
  {
   "cell_type": "markdown",
   "metadata": {},
   "source": [
    "### 2.3.2 AfD-Wähler_innen"
   ]
  },
  {
   "cell_type": "markdown",
   "metadata": {},
   "source": [
    "Auch hier wird eine Übersicht über die relative Verteilung von AfD-Zweitstimmen in den Stadtbezirken Dortmunds erstellt. \n"
   ]
  },
  {
   "cell_type": "code",
   "execution_count": 334,
   "metadata": {},
   "outputs": [
    {
     "data": {
      "image/png": "[encoded data removed]",
      "text/plain": [
       "<Figure size 432x288 with 1 Axes>"
      ]
     },
     "metadata": {
      "needs_background": "light"
     },
     "output_type": "display_data"
    }
   ],
   "source": [
    "dortmund['nichtAfDZweitstimmen2017'] = dortmund['WählerInnen2017'] - dortmund['AfDZweitstimmen2017']\n",
    "\n",
    "#Erstellen der Spalte der realtiven Anzahl AfD Wähler_innen 2013\n",
    "dortmund['RelZweitstimmenAfD2013'] = dortmund['AfDZweitstimmen2013'] / dortmund['WählerInnen2013']\n",
    "#Erstellen der Spalte der realtiven Anzahl AfD Wähler_innen 2017\n",
    "dortmund['RelZweitstimmenAfD2017'] = dortmund['AfDZweitstimmen2017'] / dortmund['WählerInnen2017']\n",
    "#Erstellen der Spalte der realtiven Anzahl AfD Wähler_innen 2017\n",
    "dortmund['RelnichtAfDZweitstimmen2017'] = dortmund['nichtAfDZweitstimmen2017'] / dortmund['WählerInnen2017']\n",
    "\n",
    "nichtAfDWähler2017 = dortmund.sort_values('RelZweitstimmenAfD2017',ascending=False)['RelnichtAfDZweitstimmen2017']*100\n",
    "AfDWähler2017 = dortmund.sort_values('RelZweitstimmenAfD2017',ascending=False)['RelZweitstimmenAfD2017']*100\n",
    "#die Variablen vorab zu definieren, ist nicht nötig, macht aber den Code unten etwas lesbarer.\n",
    "\n",
    "serie1 = plt.bar(range(len(dortmund)), nichtAfDWähler2017, color='#133863')\n",
    "serie2 = plt.bar(range(len(dortmund)), AfDWähler2017, bottom=nichtAfDWähler2017, color='#609CE1')  \n",
    "plt.xticks(range(len(dortmund)), dortmund.sort_values('RelZweitstimmenAfD2017',ascending=False)['Stadtbezirk'],rotation=90) \n",
    "\n",
    "\n",
    "plt.title('Anteile AfD-Zweitstimmen zur Bundestagswahl 2017 in den Dortmunder Bezirken') \n",
    "plt.xlabel('Bezirk') \n",
    "plt.ylabel('Wähler_innenanteile in %') \n",
    "#Fügt eine Legende rechts neben dem Diagramm hinzu.\n",
    "plt.legend((serie2,serie1), ('AfD-Wähler_innen','Nicht-AfD-Wähler_innen'), loc='center left', bbox_to_anchor=(1, 0.5))\n",
    "plt.show() "
   ]
  },
  {
   "cell_type": "markdown",
   "metadata": {},
   "source": [
    "Aus dem Balkendiagramm zu der relativen Verteilung von AfD-Wähler_innen in den Dortmunder Stadtbezirken wird deutlich, dass Scharnhorst den höchsten und Innenstadt-Nord den geringsten Anteil an AfD-Wähler_innen verzeichnet. "
   ]
  },
  {
   "cell_type": "markdown",
   "metadata": {},
   "source": [
    "Um festzustellen, inwiefern sich die Verteilung von AfD-Wähler_innen zwischen den Bundestagswahljahren 2013 und 2017 verändert hat, schauen wir uns im Folgenden die Entwicklung der relativen Zahlen an."
   ]
  },
  {
   "cell_type": "code",
   "execution_count": 335,
   "metadata": {},
   "outputs": [
    {
     "data": {
      "text/html": [
       "<div>\n",
       "<style scoped>\n",
       "    .dataframe tbody tr th:only-of-type {\n",
       "        vertical-align: middle;\n",
       "    }\n",
       "\n",
       "    .dataframe tbody tr th {\n",
       "        vertical-align: top;\n",
       "    }\n",
       "\n",
       "    .dataframe thead th {\n",
       "        text-align: right;\n",
       "    }\n",
       "</style>\n",
       "<table border=\"1\" class=\"dataframe\">\n",
       "  <thead>\n",
       "    <tr style=\"text-align: right;\">\n",
       "      <th></th>\n",
       "      <th>Stadtbezirk</th>\n",
       "      <th>RelZweitstimmenAfD2013</th>\n",
       "      <th>RelZweitstimmenAfD2017</th>\n",
       "      <th>DiffRelZweitstimmenAfD1317</th>\n",
       "    </tr>\n",
       "  </thead>\n",
       "  <tbody>\n",
       "    <tr>\n",
       "      <th>0</th>\n",
       "      <td>Innenstadt-West</td>\n",
       "      <td>0.033811</td>\n",
       "      <td>0.097321</td>\n",
       "      <td>0.063510</td>\n",
       "    </tr>\n",
       "    <tr>\n",
       "      <th>1</th>\n",
       "      <td>Innenstadt-Nord</td>\n",
       "      <td>0.039537</td>\n",
       "      <td>0.071785</td>\n",
       "      <td>0.032248</td>\n",
       "    </tr>\n",
       "    <tr>\n",
       "      <th>2</th>\n",
       "      <td>Innenstadt-Ost</td>\n",
       "      <td>0.035910</td>\n",
       "      <td>0.073641</td>\n",
       "      <td>0.037731</td>\n",
       "    </tr>\n",
       "    <tr>\n",
       "      <th>3</th>\n",
       "      <td>Eving</td>\n",
       "      <td>0.047836</td>\n",
       "      <td>0.136776</td>\n",
       "      <td>0.088941</td>\n",
       "    </tr>\n",
       "    <tr>\n",
       "      <th>4</th>\n",
       "      <td>Scharnhorst</td>\n",
       "      <td>0.038634</td>\n",
       "      <td>0.147652</td>\n",
       "      <td>0.109018</td>\n",
       "    </tr>\n",
       "    <tr>\n",
       "      <th>5</th>\n",
       "      <td>Brackel</td>\n",
       "      <td>0.041482</td>\n",
       "      <td>0.110661</td>\n",
       "      <td>0.069179</td>\n",
       "    </tr>\n",
       "    <tr>\n",
       "      <th>6</th>\n",
       "      <td>Aplerbeck</td>\n",
       "      <td>0.040065</td>\n",
       "      <td>0.087947</td>\n",
       "      <td>0.047883</td>\n",
       "    </tr>\n",
       "    <tr>\n",
       "      <th>7</th>\n",
       "      <td>Hörde</td>\n",
       "      <td>0.040184</td>\n",
       "      <td>0.088885</td>\n",
       "      <td>0.048701</td>\n",
       "    </tr>\n",
       "    <tr>\n",
       "      <th>8</th>\n",
       "      <td>Hombruch</td>\n",
       "      <td>0.041087</td>\n",
       "      <td>0.076260</td>\n",
       "      <td>0.035173</td>\n",
       "    </tr>\n",
       "    <tr>\n",
       "      <th>9</th>\n",
       "      <td>Lütgendortmund</td>\n",
       "      <td>0.041748</td>\n",
       "      <td>0.123856</td>\n",
       "      <td>0.082108</td>\n",
       "    </tr>\n",
       "    <tr>\n",
       "      <th>10</th>\n",
       "      <td>Huckarde</td>\n",
       "      <td>0.043289</td>\n",
       "      <td>0.138084</td>\n",
       "      <td>0.094794</td>\n",
       "    </tr>\n",
       "    <tr>\n",
       "      <th>11</th>\n",
       "      <td>Mengede</td>\n",
       "      <td>0.045399</td>\n",
       "      <td>0.147180</td>\n",
       "      <td>0.101781</td>\n",
       "    </tr>\n",
       "  </tbody>\n",
       "</table>\n",
       "</div>"
      ],
      "text/plain": [
       "        Stadtbezirk  RelZweitstimmenAfD2013  RelZweitstimmenAfD2017  \\\n",
       "0   Innenstadt-West                0.033811                0.097321   \n",
       "1   Innenstadt-Nord                0.039537                0.071785   \n",
       "2    Innenstadt-Ost                0.035910                0.073641   \n",
       "3             Eving                0.047836                0.136776   \n",
       "4       Scharnhorst                0.038634                0.147652   \n",
       "5           Brackel                0.041482                0.110661   \n",
       "6         Aplerbeck                0.040065                0.087947   \n",
       "7             Hörde                0.040184                0.088885   \n",
       "8          Hombruch                0.041087                0.076260   \n",
       "9    Lütgendortmund                0.041748                0.123856   \n",
       "10         Huckarde                0.043289                0.138084   \n",
       "11          Mengede                0.045399                0.147180   \n",
       "\n",
       "    DiffRelZweitstimmenAfD1317  \n",
       "0                     0.063510  \n",
       "1                     0.032248  \n",
       "2                     0.037731  \n",
       "3                     0.088941  \n",
       "4                     0.109018  \n",
       "5                     0.069179  \n",
       "6                     0.047883  \n",
       "7                     0.048701  \n",
       "8                     0.035173  \n",
       "9                     0.082108  \n",
       "10                    0.094794  \n",
       "11                    0.101781  "
      ]
     },
     "execution_count": 335,
     "metadata": {},
     "output_type": "execute_result"
    }
   ],
   "source": [
    "#Differenz relativer Zahlen von AfD-Wähler_innen zu 2013 und 2017 bilden\n",
    "dortmund['DiffRelZweitstimmenAfD1317'] = dortmund['RelZweitstimmenAfD2017'] - dortmund['RelZweitstimmenAfD2013']\n",
    "\n",
    "#Dataframe aus den zuvor ermittelten Spalten\n",
    "RelAfDWählundDiff = dortmund[['Stadtbezirk', 'RelZweitstimmenAfD2013', 'RelZweitstimmenAfD2017', 'DiffRelZweitstimmenAfD1317']]\n",
    "RelAfDWählundDiff.head(n=12)                                                                                           \n",
    "                                                                                            "
   ]
  },
  {
   "cell_type": "code",
   "execution_count": 336,
   "metadata": {},
   "outputs": [
    {
     "name": "stdout",
     "output_type": "stream",
     "text": [
      "Zwischen den Jahren 2013 und 2017 ist ein Anstieg an AfD-Wähler_innen von durchschnittlich 6.76 Prozent sichtbar.\n"
     ]
    }
   ],
   "source": [
    "print('Zwischen den Jahren 2013 und 2017 ist ein Anstieg an AfD-Wähler_innen von durchschnittlich ' + str(round(dortmund['DiffRelZweitstimmenAfD1317'].mean()*100,2)) + ' Prozent sichtbar.')\n",
    " "
   ]
  },
  {
   "cell_type": "markdown",
   "metadata": {},
   "source": [
    "An den obenstehenden Ergebnissen sehen wir, dass der Anteil an AfD-Wähler_innen von 2013 zu 2017 ohne Ausnahme in allen Stadtbezirken zugenommen hat. Der Anstieg beläuft sich im Rahmen von rund drei bis elf Prozent."
   ]
  },
  {
   "cell_type": "markdown",
   "metadata": {},
   "source": [
    "### 2.3.3 Altersgruppen"
   ]
  },
  {
   "cell_type": "code",
   "execution_count": 337,
   "metadata": {},
   "outputs": [
    {
     "data": {
      "image/png": "[encoded data removed]",
      "text/plain": [
       "<Figure size 432x288 with 1 Axes>"
      ]
     },
     "metadata": {
      "needs_background": "light"
     },
     "output_type": "display_data"
    }
   ],
   "source": [
    "#Berechnen der Anzahl von Menschen unter 18 Jahre in der Gesamtbevölkerung 2017 in neuer Spalte\n",
    "dortmund ['2017MenschenBis17'] = dortmund ['2017Alter0bis2'] + dortmund['2017Alter3bis5'] + dortmund['2017Alter6bis17']\n",
    "#Berechnen der Anzahl von Menschen über 65 Jahre in der Gesamtbevölkerung 2017 in neuer Spalte\n",
    "dortmund ['2017MenschenAb65'] = dortmund ['2017Alter65bis70'] + dortmund['2017Alter80uÄ']\n",
    "\n",
    "alterbis17 = dortmund.sort_values('EinwohnerGesamt2017',ascending=False)['2017MenschenBis17']\n",
    "alter18bis24 = dortmund.sort_values('EinwohnerGesamt2017',ascending=False)['2017Alter18bis24']\n",
    "alter25bis34 = dortmund.sort_values('EinwohnerGesamt2017',ascending=False)['2017Alter25bis34']\n",
    "alter35bis49 = dortmund.sort_values('EinwohnerGesamt2017',ascending=False)['2017Alter35bis49']\n",
    "alter50bis64 = dortmund.sort_values('EinwohnerGesamt2017',ascending=False)['2017Alter50bis64']\n",
    "alter65plus = dortmund.sort_values('EinwohnerGesamt2017',ascending=False)['2017MenschenAb65']\n",
    "#die Variablen vorab zu definieren, ist nicht nötig, macht aber den Code unten etwas lesbarer.\n",
    "\n",
    "serie0 = plt.bar(range(len(dortmund)), alterbis17, color='black')\n",
    "serie1 = plt.bar(range(len(dortmund)), alter18bis24, bottom=alterbis17, color='#091D34') \n",
    "serie2 = plt.bar(range(len(dortmund)), alter25bis34, bottom=alterbis17+alter18bis24, color='#133863') #legt den Balken für \"mittlere\" auf den Balken für \"junge\"\n",
    "serie3 = plt.bar(range(len(dortmund)), alter35bis49, bottom=alterbis17+alter18bis24+alter25bis34, color='#236AB9') \n",
    "serie4 = plt.bar(range(len(dortmund)), alter50bis64, bottom=alterbis17+alter18bis24+alter25bis34+alter35bis49, color='#609CE1') \n",
    "serie5 = plt.bar(range(len(dortmund)), alter65plus, bottom=alterbis17+alter18bis24+alter25bis34+alter35bis49+alter50bis64, color='#E1ECF9') \n",
    "plt.xticks(range(len(dortmund)), dortmund.sort_values('EinwohnerGesamt2017',ascending=False)['Stadtbezirk'],rotation=90) \n",
    "\n",
    "\n",
    "plt.title('Einwohner in den Dortmunder Bezirken (2017)') \n",
    "plt.xlabel('Bezirk') \n",
    "plt.ylabel('Zahl der Einwohner') \n",
    "plt.legend((serie5,serie4,serie3,serie2,serie1,serie0), ('65+','50-64','35-49','25-34','18-25','0-17'), loc='center left', bbox_to_anchor=(1, 0.5)) #Fügt eine Legende hinzu.\n",
    "\n",
    "plt.show() \n"
   ]
  },
  {
   "cell_type": "markdown",
   "metadata": {},
   "source": [
    "<b>HIER FEHLT NOCH EIN SATZ</b>"
   ]
  },
  {
   "cell_type": "markdown",
   "metadata": {},
   "source": [
    "# 3 Berechnungen"
   ]
  },
  {
   "cell_type": "markdown",
   "metadata": {},
   "source": [
    "## 3.1 Hypothese 1a: Je höher der Anteil an Ausländer_innen in einem Stadtbezirk, desto weniger Bürger_innen wählen die AfD\n",
    "\n",
    "Statistische Hypothese 1a: Es besteht eine negative Korrelation (r) zwischen der relativen Anzahl an Ausländer_innen in einem Bezirk und der relativen Zahl der Zweitstimmen für die AfD"
   ]
  },
  {
   "cell_type": "markdown",
   "metadata": {},
   "source": [
    "### 3.1.1 Datenbetrachtung Bundestagswahl 2013"
   ]
  },
  {
   "cell_type": "code",
   "execution_count": 338,
   "metadata": {},
   "outputs": [
    {
     "name": "stdout",
     "output_type": "stream",
     "text": [
      "-0.02812858048218001\n"
     ]
    }
   ],
   "source": [
    "#Berechnen der \"relativen\" Korrelation Ausländer_innenanteil zu AfD-Wähler_innenzahlen 2013\n",
    "RelKorrelationAusländerWähler2013 = dortmund['RelAusländer2013'].corr(dortmund['RelZweitstimmenAfD2013'])\n",
    "print(RelKorrelationAusländerWähler2013)"
   ]
  },
  {
   "cell_type": "code",
   "execution_count": 339,
   "metadata": {},
   "outputs": [
    {
     "data": {
      "image/png": "[encoded data removed]",
      "text/plain": [
       "<Figure size 432x288 with 1 Axes>"
      ]
     },
     "metadata": {
      "needs_background": "light"
     },
     "output_type": "display_data"
    }
   ],
   "source": [
    "import numpy as np\n",
    "x=dortmund['RelAusländer2013'] *100\n",
    "y=dortmund['RelZweitstimmenAfD2013']*100 \n",
    "# Für die farbliche Markierung des Ausreißers\n",
    "col = np.where(x<40,'C0','r')\n",
    "#Alternativ mit drei Farbfeldern:\n",
    "#col = np.where(x<40,'k',np.where(y>4,'b','r'))\n",
    "plt.scatter(x, y, c=col) #Umrechnung in Prozent\n",
    "plt.xlabel('Anteil der Ausländer_innen (%)')\n",
    "plt.ylabel('Anteil der AfD Wähler_innen (%)')\n",
    "plt.title('Zusammenhang zwischen Ausländer_innen und AfD-Wähler_innen zur Bundestagswahl 2013 (r=-0.03)')\n",
    "plt.ylim(bottom=0, top=20)\n",
    "plt.show()"
   ]
  },
  {
   "cell_type": "code",
   "execution_count": 340,
   "metadata": {
    "scrolled": true
   },
   "outputs": [
    {
     "data": {
      "text/html": [
       "<div>\n",
       "<style scoped>\n",
       "    .dataframe tbody tr th:only-of-type {\n",
       "        vertical-align: middle;\n",
       "    }\n",
       "\n",
       "    .dataframe tbody tr th {\n",
       "        vertical-align: top;\n",
       "    }\n",
       "\n",
       "    .dataframe thead th {\n",
       "        text-align: right;\n",
       "    }\n",
       "</style>\n",
       "<table border=\"1\" class=\"dataframe\">\n",
       "  <thead>\n",
       "    <tr style=\"text-align: right;\">\n",
       "      <th></th>\n",
       "      <th>Stadtbezirk</th>\n",
       "      <th>RelAusländer2013</th>\n",
       "      <th>RelZweitstimmenAfD2013</th>\n",
       "    </tr>\n",
       "  </thead>\n",
       "  <tbody>\n",
       "    <tr>\n",
       "      <th>0</th>\n",
       "      <td>Innenstadt-West</td>\n",
       "      <td>0.153908</td>\n",
       "      <td>0.033811</td>\n",
       "    </tr>\n",
       "    <tr>\n",
       "      <th>1</th>\n",
       "      <td>Innenstadt-Nord</td>\n",
       "      <td>0.434354</td>\n",
       "      <td>0.039537</td>\n",
       "    </tr>\n",
       "    <tr>\n",
       "      <th>2</th>\n",
       "      <td>Innenstadt-Ost</td>\n",
       "      <td>0.120858</td>\n",
       "      <td>0.035910</td>\n",
       "    </tr>\n",
       "    <tr>\n",
       "      <th>3</th>\n",
       "      <td>Eving</td>\n",
       "      <td>0.190484</td>\n",
       "      <td>0.047836</td>\n",
       "    </tr>\n",
       "    <tr>\n",
       "      <th>4</th>\n",
       "      <td>Scharnhorst</td>\n",
       "      <td>0.112905</td>\n",
       "      <td>0.038634</td>\n",
       "    </tr>\n",
       "    <tr>\n",
       "      <th>5</th>\n",
       "      <td>Brackel</td>\n",
       "      <td>0.073595</td>\n",
       "      <td>0.041482</td>\n",
       "    </tr>\n",
       "    <tr>\n",
       "      <th>6</th>\n",
       "      <td>Aplerbeck</td>\n",
       "      <td>0.057137</td>\n",
       "      <td>0.040065</td>\n",
       "    </tr>\n",
       "    <tr>\n",
       "      <th>7</th>\n",
       "      <td>Hörde</td>\n",
       "      <td>0.108948</td>\n",
       "      <td>0.040184</td>\n",
       "    </tr>\n",
       "    <tr>\n",
       "      <th>8</th>\n",
       "      <td>Hombruch</td>\n",
       "      <td>0.083133</td>\n",
       "      <td>0.041087</td>\n",
       "    </tr>\n",
       "    <tr>\n",
       "      <th>9</th>\n",
       "      <td>Lütgendortmund</td>\n",
       "      <td>0.094600</td>\n",
       "      <td>0.041748</td>\n",
       "    </tr>\n",
       "    <tr>\n",
       "      <th>10</th>\n",
       "      <td>Huckarde</td>\n",
       "      <td>0.121625</td>\n",
       "      <td>0.043289</td>\n",
       "    </tr>\n",
       "    <tr>\n",
       "      <th>11</th>\n",
       "      <td>Mengede</td>\n",
       "      <td>0.121650</td>\n",
       "      <td>0.045399</td>\n",
       "    </tr>\n",
       "  </tbody>\n",
       "</table>\n",
       "</div>"
      ],
      "text/plain": [
       "        Stadtbezirk  RelAusländer2013  RelZweitstimmenAfD2013\n",
       "0   Innenstadt-West          0.153908                0.033811\n",
       "1   Innenstadt-Nord          0.434354                0.039537\n",
       "2    Innenstadt-Ost          0.120858                0.035910\n",
       "3             Eving          0.190484                0.047836\n",
       "4       Scharnhorst          0.112905                0.038634\n",
       "5           Brackel          0.073595                0.041482\n",
       "6         Aplerbeck          0.057137                0.040065\n",
       "7             Hörde          0.108948                0.040184\n",
       "8          Hombruch          0.083133                0.041087\n",
       "9    Lütgendortmund          0.094600                0.041748\n",
       "10         Huckarde          0.121625                0.043289\n",
       "11          Mengede          0.121650                0.045399"
      ]
     },
     "execution_count": 340,
     "metadata": {},
     "output_type": "execute_result"
    }
   ],
   "source": [
    "#Identifizieren des Ausreißers mittels Dataframe\n",
    "dortmundAuslAfD2013 = dortmund [['Stadtbezirk', 'RelAusländer2013', 'RelZweitstimmenAfD2013']]\n",
    "#Anzeige aktualisierter Datensatz\n",
    "dortmundAuslAfD2013.head(n=12)\n"
   ]
  },
  {
   "cell_type": "markdown",
   "metadata": {},
   "source": [
    "Ein Korrelationskoeffizient von rund -0,03 zeigt, dass zwischen den Variablen Ausländer_innenanzahl 2013 und Anzahl der AfD-Zweitstimmen 2013 kein signifikanter Zusammenhang besteht. Die Hypothese 1a wurde somit auf Grundage der Daten für das Jahr 2013 nicht bestätigt. Es wurde ein Ausreißer identifiziert, der Stadtbezirk Innenstadt-Nord. Er zeichnet sich, wie aus den Vorüberlegungen hervor geht, durch einen wesentlich höheren Ausländer_innenanteil aus und setzt sich somit stark von den anderen Bezirken ab.  \n",
    "\n",
    "<b>FRAGE AN TOBIAS: Skalierung (im Chart) sinnvoll gewählt?</b>\n",
    "<b>FRAGE AN TOBIAS: Korrelation ohne \"Ausreißer\" sinnvoll? Wenn ja, warum?</b>"
   ]
  },
  {
   "cell_type": "code",
   "execution_count": 341,
   "metadata": {},
   "outputs": [
    {
     "name": "stdout",
     "output_type": "stream",
     "text": [
      "0.18578075812779019\n"
     ]
    }
   ],
   "source": [
    "# Zeile Innenstadt Nord (IN) aus Dataframe entfernen, um r ohne Ausreißer zu betrachten:\n",
    "dortmund['RelAusländer2013ohneIN'] = dortmund['RelAusländer2013'].drop([1], axis=0)\n",
    "dortmund['RelZweitstimmenAfD2013ohneIN'] = dortmund['RelZweitstimmenAfD2013'].drop([1], axis=0)\n",
    "RelKorrelationAusländerWähler2013ohneIN = dortmund['RelAusländer2013ohneIN'].corr(dortmund['RelZweitstimmenAfD2013ohneIN'])\n",
    "print(RelKorrelationAusländerWähler2013ohneIN)\n"
   ]
  },
  {
   "cell_type": "markdown",
   "metadata": {},
   "source": [
    "### 3.1.2 Datenbetrachtung Bundestagswahl 2017"
   ]
  },
  {
   "cell_type": "code",
   "execution_count": 342,
   "metadata": {},
   "outputs": [
    {
     "name": "stdout",
     "output_type": "stream",
     "text": [
      "-0.17603512255275808\n"
     ]
    }
   ],
   "source": [
    "#Berechnen der \"relativen\" Korratation Ausländer_innenanteil zu AfD-Wähler_innenzahlen 2017\n",
    "RelKorrelationAusländerWähler2017 = dortmund['RelAusländer2017'].corr(dortmund['RelZweitstimmenAfD2017'])\n",
    "print(RelKorrelationAusländerWähler2017)"
   ]
  },
  {
   "cell_type": "code",
   "execution_count": 343,
   "metadata": {},
   "outputs": [
    {
     "data": {
      "image/png": "[encoded data removed]",
      "text/plain": [
       "<Figure size 432x288 with 1 Axes>"
      ]
     },
     "metadata": {
      "needs_background": "light"
     },
     "output_type": "display_data"
    }
   ],
   "source": [
    "col = np.where(dortmund['RelAusländer2017']*100<50,'C0','r')\n",
    "plt.scatter(dortmund['RelAusländer2017']*100, dortmund['RelZweitstimmenAfD2017']*100, c=col) #Umrechnung in Prozent\n",
    "plt.xlabel('Anteil der Ausländer_innen (%)')\n",
    "plt.ylabel('Anteil der AfD-Wähler_innen (%)')\n",
    "plt.title('Zusammenhang zwischen Ausländer_innen und AfD-Wähler_innen zur Bundestagswahl 2017 (r=-0.18)')\n",
    "plt.ylim(bottom=0, top=20)\n",
    "plt.show()"
   ]
  },
  {
   "cell_type": "markdown",
   "metadata": {},
   "source": [
    "Der Korrelationskoeffizient von rund -0,18 zeigt, dass zwischen den Variablen Ausländer_innenanzahl 2017 und Anzahl der AfD-Zweitstimmen 2017 kein Zusammenhang erkennbar ist.\n"
   ]
  },
  {
   "cell_type": "markdown",
   "metadata": {},
   "source": [
    "# 3.2 Hypothese 1b: Wächst der Anteil an Ausländer_innen in den Bezirken von 2013 zu 2017, nehmen die Zweitstimmen der AfD ab\n",
    "\n",
    "Statistische Hypothese 1b: Es besteht eine negative Korrelation (r) zwischen dem Anstieg des Ausländer_innenanteils und dem Anstieg der AfD-Zweitstimmen"
   ]
  },
  {
   "cell_type": "code",
   "execution_count": 344,
   "metadata": {},
   "outputs": [
    {
     "name": "stdout",
     "output_type": "stream",
     "text": [
      "0.23612772398165877\n"
     ]
    }
   ],
   "source": [
    "#Berechnen der Differenz des relativen Ausländer_innenanteils der Jahre 2013 und 2017\n",
    "dortmund['EntwAusländer1317'] = (dortmund['RelAusländer2017']) - (dortmund['RelAusländer2013'])\n",
    "#Berechnen der Differenz des relativen AfD-Zweitstimmenanteils der Jahre 2013 und 2017\n",
    "dortmund['EntwWahlAfD1317'] = (dortmund['RelZweitstimmenAfD2017']) - (dortmund['RelZweitstimmenAfD2013'])\n",
    "\n",
    "#Berechnen der Korrelation: Entwicklung Ausländer_innenanteil zu Entwicklung AfD-Zweitstimmen von 2013 zu 2017\n",
    "KorrelationEntwAuslAfD = dortmund['EntwAusländer1317'].corr(dortmund['EntwWahlAfD1317'])\n",
    "print(KorrelationEntwAuslAfD)"
   ]
  },
  {
   "cell_type": "code",
   "execution_count": 345,
   "metadata": {},
   "outputs": [
    {
     "data": {
      "image/png": "[encoded data removed]",
      "text/plain": [
       "<Figure size 432x288 with 1 Axes>"
      ]
     },
     "metadata": {
      "needs_background": "light"
     },
     "output_type": "display_data"
    }
   ],
   "source": [
    "col = np.where(dortmund['EntwAusländer1317']*100<7,'C0','r')\n",
    "plt.scatter(dortmund['EntwAusländer1317']*100, dortmund['EntwWahlAfD1317']*100, c=col) #Umrechnung in Prozent\n",
    "plt.xlabel('Zuwachs Ausländer_innen (%)')\n",
    "plt.ylabel('Zuwachs AfD-Zweitstimmen (%)')\n",
    "plt.title('Zusammenhang zwischen dem Zuwachs an Ausländer_innen und dem Zuwachs an AfD-Zweitstimmen von 2013 zu 2017 (r=0.24)')\n",
    "plt.ylim(bottom=0, top=20)\n",
    "plt.xlim(0, 20)\n",
    "plt.show()"
   ]
  },
  {
   "cell_type": "markdown",
   "metadata": {},
   "source": [
    "Der Korrelationskoeffizient der Variablen Entwicklung des Ausländer_innenanteils zur Entwicklung der AfD-Zweitstimmen von 2013 zu 2017 beträgt rund 0,24. Daher besteht ein geringer Zusammenhang. Die positive Korrelation wiederlegt die Hypothese 1b, dass mit wachsender Anzahl an Ausländer_innen in einem Stadtbezirk die Zweitstimmenanzahl der AfD abnimmt. "
   ]
  },
  {
   "cell_type": "code",
   "execution_count": 346,
   "metadata": {},
   "outputs": [
    {
     "name": "stdout",
     "output_type": "stream",
     "text": [
      "0.9049893484533246\n"
     ]
    }
   ],
   "source": [
    "# Zeile Innenstadt Nord (IN) aus Dataframe entfernen, um r ohne Ausreißer zu betrachten:\n",
    "dortmund['EntwAusländer1317ohneIN'] = dortmund['EntwAusländer1317'].drop([1], axis=0)\n",
    "dortmund['EntwWahlAfD1317ohneIN'] = dortmund['EntwWahlAfD1317'].drop([1], axis=0)\n",
    "KorrelationEntwAuslAfDohneIN = dortmund['EntwAusländer1317ohneIN'].corr(dortmund['EntwWahlAfD1317ohneIN'])\n",
    "print(KorrelationEntwAuslAfDohneIN)"
   ]
  },
  {
   "cell_type": "markdown",
   "metadata": {},
   "source": [
    "# 3.3 Hypothese 2a: Je mehr Menschen im rentenfähigen Alter ab 65 Jahren in einem Bezirk leben, desto mehr Wahlstimmen verzeichnet die AfD\n",
    "\n",
    "Statistische Hypothese 2a: Es besteht eine postive Korrelation (r) zwischen den relativen Zahlen der Einwohner_innen ab 65 Jahren und dem Ergebnis der relativen Anzahl AfD-Zweitstimmen"
   ]
  },
  {
   "cell_type": "markdown",
   "metadata": {},
   "source": [
    "### 3.3.1 Datenbetrachtung Budestatgswahl 2013"
   ]
  },
  {
   "cell_type": "code",
   "execution_count": 347,
   "metadata": {},
   "outputs": [
    {
     "name": "stdout",
     "output_type": "stream",
     "text": [
      "0.06256708816270694\n"
     ]
    }
   ],
   "source": [
    "#Berechnen der Anzahl von Menschen über 65 Jahre in der Gesamtbevölkerung 2013 in neuer Spalte\n",
    "dortmund ['2013MenschenAb65'] = dortmund ['2013Alter65bis79'] + dortmund['2013Alter80uÄ']\n",
    "#Berechnen der relativen Anzahl von Menschen über 65 Jahre in der Gesamtbevölkerung 2013 in neuer Spalte\n",
    "dortmund['2013RelMenschenAb65'] = dortmund ['2013MenschenAb65'] / dortmund['EinwohnerGesamt2013']\n",
    "\n",
    "#Berechnen der Korratation von rel. Anzahl Menschen über 65 Jahre in der Gesamtbevölkerung zu rel. AfD-Wähler_innenzahlen 2013\n",
    "KorrelationRentnerWähler2013 = dortmund['2013RelMenschenAb65'].corr(dortmund['RelZweitstimmenAfD2013'])\n",
    "print(KorrelationRentnerWähler2013)\n"
   ]
  },
  {
   "cell_type": "code",
   "execution_count": 348,
   "metadata": {},
   "outputs": [
    {
     "data": {
      "image/png": "[encoded data removed]",
      "text/plain": [
       "<Figure size 432x288 with 1 Axes>"
      ]
     },
     "metadata": {
      "needs_background": "light"
     },
     "output_type": "display_data"
    }
   ],
   "source": [
    "plt.scatter(dortmund['2013RelMenschenAb65']*100, dortmund['RelZweitstimmenAfD2013']*100) #Umrechnung in Prozent\n",
    "plt.xlabel('Anteil der Senior_innen (%)')\n",
    "plt.ylabel('Anteil der AfD-Wähler_innen (%)')\n",
    "plt.title('Zusammenhang zwischen Senior_innen und AfD-Wähler_innen zur Bundestagswahl 2013 (r=0.06)')\n",
    "plt.ylim(bottom=0, top=20)\n",
    "plt.show()"
   ]
  },
  {
   "cell_type": "markdown",
   "metadata": {},
   "source": [
    "Der Korrelationskoeffizient von rund 0,06 deutet auf keinen Zusammenhang zwischen Relativer Anzahl an Renter_innen und der AfD Wahlquote hin. Die Hypothese 2a kann auf Grundlage der Daten des Jahres 2013 nicht bestätigt werden."
   ]
  },
  {
   "cell_type": "markdown",
   "metadata": {},
   "source": [
    "### 3.3.2 Datenbetrachtung Budestatgswahl 2017"
   ]
  },
  {
   "cell_type": "code",
   "execution_count": 349,
   "metadata": {},
   "outputs": [
    {
     "name": "stdout",
     "output_type": "stream",
     "text": [
      "0.05370049810090324\n"
     ]
    }
   ],
   "source": [
    "#Berechnen der relativen Anzahl von Menschen über 65 Jahre in der Gesamtbevölkerung 2017 in neuer Spalte\n",
    "dortmund['2017RelMenschenAb65'] = dortmund ['2017MenschenAb65'] / dortmund['EinwohnerGesamt2017']\n",
    "\n",
    "#Berechnen der Korratation von rel. Anzahl Menschen über 65 Jahre in der Gesamtbevölkerung zu rel. AfD-Wähler_innenzahlen 2017\n",
    "KorrelationRentnerWähler2017 = dortmund['2017RelMenschenAb65'].corr(dortmund['RelZweitstimmenAfD2017'])\n",
    "print(KorrelationRentnerWähler2017)"
   ]
  },
  {
   "cell_type": "code",
   "execution_count": 350,
   "metadata": {},
   "outputs": [
    {
     "data": {
      "image/png": "[encoded data removed]",
      "text/plain": [
       "<Figure size 432x288 with 1 Axes>"
      ]
     },
     "metadata": {
      "needs_background": "light"
     },
     "output_type": "display_data"
    }
   ],
   "source": [
    "plt.scatter(dortmund['2017RelMenschenAb65']*100, dortmund['RelZweitstimmenAfD2017']*100) #Umrechnung in Prozent\n",
    "plt.xlabel('Anteil der Senior_innen (%)')\n",
    "plt.ylabel('Anteil der AfD-Wähler_innen (%)')\n",
    "plt.title('Zusammenhang zwischen Senior_innen und AfD-Wähler_innen zur Bundestagswahl 2017 (r=0.05)')\n",
    "plt.ylim(bottom=0, top=20)\n",
    "plt.show()"
   ]
  },
  {
   "cell_type": "markdown",
   "metadata": {},
   "source": [
    "Auch in der Datenbetrachtung zum Jahr 2017 mit dem errechneten Korrelationskoeffizient von rund 0,05 wird deutlich, dass kein Zusammenhang zwischen den genannten Variablen besteht. Die Hypothese 2b kann auf Grundlage der Daten des Jahres 2017 ebenso nicht bestätigt werden."
   ]
  },
  {
   "cell_type": "markdown",
   "metadata": {},
   "source": [
    "# 3.4 Hypothese 2b - Wenn die Anzahl von Menschen im rentenfähigen Alter ab 65 Jahren in einem Bezirk zunimmt, verzeichnet die AfD mehr Zweitstimmen \n",
    "\n",
    "Statistische Hypothese 2b: Es besteht eine positive Korrelation (r) zwischen dem Anstieg der Einwohner_innen über 65 Jahren und dem Anstieg der AfD-Zweitstimmen"
   ]
  },
  {
   "cell_type": "code",
   "execution_count": 351,
   "metadata": {},
   "outputs": [
    {
     "name": "stdout",
     "output_type": "stream",
     "text": [
      "0.1974760387341774\n"
     ]
    }
   ],
   "source": [
    "#Berechnen der Differenz des relativen Anteils von Menschen über 65 Jahren der Jahre 2013 und 2017\n",
    "dortmund['EntwRentner1317'] = (dortmund['2017RelMenschenAb65']) - (dortmund['2013RelMenschenAb65']) \n",
    "\n",
    "#Berechnen der Korratation Entwicklung Anteil der Menschen ab 65 Jahren zu Entwicklung AfD-Zweitstimmen von 2013 zu 2017\n",
    "KorrelationEntwRentnerAfD = dortmund['EntwRentner1317'].corr(dortmund['EntwWahlAfD1317'])\n",
    "print(KorrelationEntwRentnerAfD)"
   ]
  },
  {
   "cell_type": "code",
   "execution_count": 352,
   "metadata": {},
   "outputs": [
    {
     "data": {
      "image/png": "[encoded data removed]",
      "text/plain": [
       "<Figure size 432x288 with 1 Axes>"
      ]
     },
     "metadata": {
      "needs_background": "light"
     },
     "output_type": "display_data"
    }
   ],
   "source": [
    "plt.scatter(dortmund['EntwRentner1317']*100, dortmund['EntwWahlAfD1317']*100) #Umrechnung in Prozent\n",
    "plt.xlabel('Zuwachs Senior_innen (%)')\n",
    "plt.ylabel('Zuwachs AfD-Wähler_innen (%)')\n",
    "plt.title('Zusammenhang zwischen dem Zuwachs von Senior_innen und dem Zuwachs von AfD-Wähler_innen von 2013 zu 2017 (r=0.20)')\n",
    "plt.show()"
   ]
  },
  {
   "cell_type": "code",
   "execution_count": 353,
   "metadata": {},
   "outputs": [
    {
     "data": {
      "text/html": [
       "<div>\n",
       "<style scoped>\n",
       "    .dataframe tbody tr th:only-of-type {\n",
       "        vertical-align: middle;\n",
       "    }\n",
       "\n",
       "    .dataframe tbody tr th {\n",
       "        vertical-align: top;\n",
       "    }\n",
       "\n",
       "    .dataframe thead th {\n",
       "        text-align: right;\n",
       "    }\n",
       "</style>\n",
       "<table border=\"1\" class=\"dataframe\">\n",
       "  <thead>\n",
       "    <tr style=\"text-align: right;\">\n",
       "      <th></th>\n",
       "      <th>Stadtbezirk</th>\n",
       "      <th>2013RelMenschenAb65</th>\n",
       "      <th>2017RelMenschenAb65</th>\n",
       "      <th>EntwRentner1317</th>\n",
       "      <th>RelZweitstimmenAfD2013</th>\n",
       "      <th>RelZweitstimmenAfD2017</th>\n",
       "      <th>EntwWahlAfD1317</th>\n",
       "    </tr>\n",
       "  </thead>\n",
       "  <tbody>\n",
       "    <tr>\n",
       "      <th>0</th>\n",
       "      <td>Innenstadt-West</td>\n",
       "      <td>0.169476</td>\n",
       "      <td>0.167189</td>\n",
       "      <td>-0.002287</td>\n",
       "      <td>0.033811</td>\n",
       "      <td>0.097321</td>\n",
       "      <td>0.063510</td>\n",
       "    </tr>\n",
       "    <tr>\n",
       "      <th>1</th>\n",
       "      <td>Innenstadt-Nord</td>\n",
       "      <td>0.117744</td>\n",
       "      <td>0.108660</td>\n",
       "      <td>-0.009084</td>\n",
       "      <td>0.039537</td>\n",
       "      <td>0.071785</td>\n",
       "      <td>0.032248</td>\n",
       "    </tr>\n",
       "    <tr>\n",
       "      <th>2</th>\n",
       "      <td>Innenstadt-Ost</td>\n",
       "      <td>0.213083</td>\n",
       "      <td>0.204529</td>\n",
       "      <td>-0.008555</td>\n",
       "      <td>0.035910</td>\n",
       "      <td>0.073641</td>\n",
       "      <td>0.037731</td>\n",
       "    </tr>\n",
       "    <tr>\n",
       "      <th>3</th>\n",
       "      <td>Eving</td>\n",
       "      <td>0.194263</td>\n",
       "      <td>0.191666</td>\n",
       "      <td>-0.002597</td>\n",
       "      <td>0.047836</td>\n",
       "      <td>0.136776</td>\n",
       "      <td>0.088941</td>\n",
       "    </tr>\n",
       "    <tr>\n",
       "      <th>4</th>\n",
       "      <td>Scharnhorst</td>\n",
       "      <td>0.217127</td>\n",
       "      <td>0.211270</td>\n",
       "      <td>-0.005857</td>\n",
       "      <td>0.038634</td>\n",
       "      <td>0.147652</td>\n",
       "      <td>0.109018</td>\n",
       "    </tr>\n",
       "    <tr>\n",
       "      <th>5</th>\n",
       "      <td>Brackel</td>\n",
       "      <td>0.236576</td>\n",
       "      <td>0.232681</td>\n",
       "      <td>-0.003895</td>\n",
       "      <td>0.041482</td>\n",
       "      <td>0.110661</td>\n",
       "      <td>0.069179</td>\n",
       "    </tr>\n",
       "    <tr>\n",
       "      <th>6</th>\n",
       "      <td>Aplerbeck</td>\n",
       "      <td>0.240829</td>\n",
       "      <td>0.246560</td>\n",
       "      <td>0.005731</td>\n",
       "      <td>0.040065</td>\n",
       "      <td>0.087947</td>\n",
       "      <td>0.047883</td>\n",
       "    </tr>\n",
       "    <tr>\n",
       "      <th>7</th>\n",
       "      <td>Hörde</td>\n",
       "      <td>0.228419</td>\n",
       "      <td>0.226053</td>\n",
       "      <td>-0.002366</td>\n",
       "      <td>0.040184</td>\n",
       "      <td>0.088885</td>\n",
       "      <td>0.048701</td>\n",
       "    </tr>\n",
       "    <tr>\n",
       "      <th>8</th>\n",
       "      <td>Hombruch</td>\n",
       "      <td>0.233639</td>\n",
       "      <td>0.235286</td>\n",
       "      <td>0.001647</td>\n",
       "      <td>0.041087</td>\n",
       "      <td>0.076260</td>\n",
       "      <td>0.035173</td>\n",
       "    </tr>\n",
       "    <tr>\n",
       "      <th>9</th>\n",
       "      <td>Lütgendortmund</td>\n",
       "      <td>0.193377</td>\n",
       "      <td>0.195762</td>\n",
       "      <td>0.002385</td>\n",
       "      <td>0.041748</td>\n",
       "      <td>0.123856</td>\n",
       "      <td>0.082108</td>\n",
       "    </tr>\n",
       "    <tr>\n",
       "      <th>10</th>\n",
       "      <td>Huckarde</td>\n",
       "      <td>0.193262</td>\n",
       "      <td>0.191632</td>\n",
       "      <td>-0.001630</td>\n",
       "      <td>0.043289</td>\n",
       "      <td>0.138084</td>\n",
       "      <td>0.094794</td>\n",
       "    </tr>\n",
       "    <tr>\n",
       "      <th>11</th>\n",
       "      <td>Mengede</td>\n",
       "      <td>0.189025</td>\n",
       "      <td>0.192705</td>\n",
       "      <td>0.003680</td>\n",
       "      <td>0.045399</td>\n",
       "      <td>0.147180</td>\n",
       "      <td>0.101781</td>\n",
       "    </tr>\n",
       "  </tbody>\n",
       "</table>\n",
       "</div>"
      ],
      "text/plain": [
       "        Stadtbezirk  2013RelMenschenAb65  2017RelMenschenAb65  \\\n",
       "0   Innenstadt-West             0.169476             0.167189   \n",
       "1   Innenstadt-Nord             0.117744             0.108660   \n",
       "2    Innenstadt-Ost             0.213083             0.204529   \n",
       "3             Eving             0.194263             0.191666   \n",
       "4       Scharnhorst             0.217127             0.211270   \n",
       "5           Brackel             0.236576             0.232681   \n",
       "6         Aplerbeck             0.240829             0.246560   \n",
       "7             Hörde             0.228419             0.226053   \n",
       "8          Hombruch             0.233639             0.235286   \n",
       "9    Lütgendortmund             0.193377             0.195762   \n",
       "10         Huckarde             0.193262             0.191632   \n",
       "11          Mengede             0.189025             0.192705   \n",
       "\n",
       "    EntwRentner1317  RelZweitstimmenAfD2013  RelZweitstimmenAfD2017  \\\n",
       "0         -0.002287                0.033811                0.097321   \n",
       "1         -0.009084                0.039537                0.071785   \n",
       "2         -0.008555                0.035910                0.073641   \n",
       "3         -0.002597                0.047836                0.136776   \n",
       "4         -0.005857                0.038634                0.147652   \n",
       "5         -0.003895                0.041482                0.110661   \n",
       "6          0.005731                0.040065                0.087947   \n",
       "7         -0.002366                0.040184                0.088885   \n",
       "8          0.001647                0.041087                0.076260   \n",
       "9          0.002385                0.041748                0.123856   \n",
       "10        -0.001630                0.043289                0.138084   \n",
       "11         0.003680                0.045399                0.147180   \n",
       "\n",
       "    EntwWahlAfD1317  \n",
       "0          0.063510  \n",
       "1          0.032248  \n",
       "2          0.037731  \n",
       "3          0.088941  \n",
       "4          0.109018  \n",
       "5          0.069179  \n",
       "6          0.047883  \n",
       "7          0.048701  \n",
       "8          0.035173  \n",
       "9          0.082108  \n",
       "10         0.094794  \n",
       "11         0.101781  "
      ]
     },
     "execution_count": 353,
     "metadata": {},
     "output_type": "execute_result"
    }
   ],
   "source": [
    "#Dataframe zur Betrachtung rückläufiger Senior_innenzahlen\n",
    "dortmundEntwAusl= dortmund [['Stadtbezirk', '2013RelMenschenAb65', '2017RelMenschenAb65', 'EntwRentner1317', 'RelZweitstimmenAfD2013', 'RelZweitstimmenAfD2017', 'EntwWahlAfD1317']]\n",
    "#Anzeige aktualisierter Datensatz\n",
    "dortmundEntwAusl.head(n=12)\n"
   ]
  },
  {
   "cell_type": "markdown",
   "metadata": {},
   "source": [
    "Der Korrelationskoeffizient beträgt rund 0,20. Das bedeutet, es besteht kein Zusammenhang zwischen der Entwicklung der Anzahl von Senior_innen und AfD-Zweitstimmen. Die Hypothese 2b kann nicht bestätigt werden."
   ]
  },
  {
   "cell_type": "markdown",
   "metadata": {},
   "source": [
    "# 3.5 Betrachtung weiterer Altersgruppen"
   ]
  },
  {
   "cell_type": "markdown",
   "metadata": {},
   "source": [
    "Um eine Aussage zu den Zusammenhängen der Altersstruktur und der AfD-Wählerquote in den Dortmunder Stadtbezirken treffen zu können, ist es notwendig auch die weiteren Altersgruppen zu betrachten. \n",
    "\n",
    "Es wurde sich dabei an der vorliegenden Einteilung der Altersabschnitte aus dem zur Verfügung gestellten Datensätzen der Stadt Dortmund orientiert:<br>\n",
    "18 bis 24,<br>\n",
    "25 bis 34,<br>\n",
    "35 bis 49 und<br>\n",
    "50 bis 64 Jährige."
   ]
  },
  {
   "cell_type": "markdown",
   "metadata": {},
   "source": [
    "### 3.5.1 Betrachtung der Wähler_innengruppen unter 65 Jahren im Zusammenhang mit den AfD-Wahlergebnissen von 2013 (zu Hypothese 2a)"
   ]
  },
  {
   "cell_type": "code",
   "execution_count": 354,
   "metadata": {},
   "outputs": [
    {
     "name": "stdout",
     "output_type": "stream",
     "text": [
      "Der Korrelationskoeffizient für die 18 bis 24 jährigen Dormunder in 2013 ist -0.14\n",
      "Der Korrelationskoeffizient für die 25 bis 34 jährigen Dormunder in 2013 ist -0.64\n",
      "Der Korrelationskoeffizient für die 35 bis 49 jährigen Dormunder in 2013 ist 0.16\n",
      "Der Korrelationskoeffizient für die 50 bis 64 jährigen Dormunder in 2013 ist 0.38\n"
     ]
    }
   ],
   "source": [
    "#Funktion mit Rückgabewert (return), damit in weiterem Code damit gearbeitet werden kann \n",
    "#a ist Anzahl Menschen Alter x in Jahr y, b ist Einwohnerzahl gesamt in Jahr y, c ist Relative AfD-Zweitstimmen in Jahr y\n",
    "def korrelationskoeffizient (a, b, c):\n",
    "    relAlter = a / b\n",
    "    ergebnisKorr = relAlter.corr(c)                                  \n",
    "    return(round(ergebnisKorr,2))\n",
    "\n",
    "#Anwendung der Funktion für alle Altersabschnitte\n",
    "ergebnis18bis24in2013 = korrelationskoeffizient(dortmund['2013Alter18bis24'],dortmund['EinwohnerGesamt2013'], dortmund['RelZweitstimmenAfD2013'])\n",
    "print(\"Der Korrelationskoeffizient für die 18 bis 24 jährigen Dormunder in 2013 ist \" + str(ergebnis18bis24in2013))\n",
    "ergebnis25bis34in2013 = korrelationskoeffizient(dortmund['2013Alter25bis34'],dortmund['EinwohnerGesamt2013'], dortmund['RelZweitstimmenAfD2013'])\n",
    "print(\"Der Korrelationskoeffizient für die 25 bis 34 jährigen Dormunder in 2013 ist \" + str(ergebnis25bis34in2013))\n",
    "ergebnis35bis49in2013 = korrelationskoeffizient(dortmund['2013Alter35bis49'],dortmund['EinwohnerGesamt2013'], dortmund['RelZweitstimmenAfD2013'])\n",
    "print(\"Der Korrelationskoeffizient für die 35 bis 49 jährigen Dormunder in 2013 ist \" + str(ergebnis35bis49in2013))\n",
    "ergebnis50bis64in2013 = korrelationskoeffizient(dortmund['2013Alter50bis64'],dortmund['EinwohnerGesamt2013'], dortmund['RelZweitstimmenAfD2013'])\n",
    "print(\"Der Korrelationskoeffizient für die 50 bis 64 jährigen Dormunder in 2013 ist \" + str(ergebnis50bis64in2013))\n"
   ]
  },
  {
   "cell_type": "code",
   "execution_count": 355,
   "metadata": {},
   "outputs": [
    {
     "data": {
      "image/png": "[encoded data removed]",
      "text/plain": [
       "<Figure size 432x288 with 1 Axes>"
      ]
     },
     "metadata": {
      "needs_background": "light"
     },
     "output_type": "display_data"
    }
   ],
   "source": [
    "plt.scatter(dortmund['2013Alter25bis34']/dortmund['EinwohnerGesamt2013']*100, dortmund['RelZweitstimmenAfD2013']*100) #Umrechnung in Prozent\n",
    "plt.xlabel('Anteil Einwohner_innen 25-34 Jahre (%)')\n",
    "plt.ylabel('Anteil der AfD-Wähler_innen (%)')\n",
    "plt.title('Zusammenhang zwischen Einwohner_innen im Alter von 25 bis 34 Jahren und AfD-Wähler_innen zur Bundestagswahl 2013 (r=-0.64)')\n",
    "#plt.ylim(bottom=0, top=6)\n",
    "plt.show()"
   ]
  },
  {
   "cell_type": "markdown",
   "metadata": {},
   "source": [
    "Zusammenhänge 2013:\n",
    "\n",
    "18-24 Jährige: kein\n",
    "\n",
    "25-34 Jährige: bemerkenswert\n",
    "Der Korrelationskoeffizient ist negativ. Das bedeutet je mehr 25 bis 34 Jährige in den Stadtteilen wohnen, desto weniger Zweitstimmen erhält die AfD.\n",
    "\n",
    "35-49 Jährige: kein\n",
    "\n",
    "50-64 Jährige: bemerkenswert\n",
    "Der Korrelationskoeffizient ist positiv. Das bedeutet je mehr 50 bis 64 Jährige in den Stadtteilen wohnen, desto mehr Zweitstimmen erhält die AfD."
   ]
  },
  {
   "cell_type": "markdown",
   "metadata": {},
   "source": [
    "### 3.5.2 Betrachtung der Wähler_innengruppen unter 65 Jahren im Zusammenhang mit den AfD-Wahlergebnissen von 2017 (zu Hypothese 2a)"
   ]
  },
  {
   "cell_type": "code",
   "execution_count": 356,
   "metadata": {},
   "outputs": [
    {
     "name": "stdout",
     "output_type": "stream",
     "text": [
      "Der Korrelationskoeffizient für die 18 bis 24 jährigen Dormunder in 2017 ist -0.25\n",
      "Der Korrelationskoeffizient für die 25 bis 34 jährigen Dormunder in 2017 ist -0.45\n",
      "Der Korrelationskoeffizient für die 35 bis 49 jährigen Dormunder in 2017 ist -0.18\n",
      "Der Korrelationskoeffizient für die 50 bis 64 jährigen Dormunder in 2017 ist 0.39\n"
     ]
    }
   ],
   "source": [
    "ergebnis18bis24in2017 = korrelationskoeffizient(dortmund['2017Alter18bis24'],dortmund['EinwohnerGesamt2017'], dortmund['RelZweitstimmenAfD2017'])\n",
    "print(\"Der Korrelationskoeffizient für die 18 bis 24 jährigen Dormunder in 2017 ist \" + str(ergebnis18bis24in2017))\n",
    "ergebnis25bis34in2017 = korrelationskoeffizient(dortmund['2017Alter25bis34'],dortmund['EinwohnerGesamt2017'], dortmund['RelZweitstimmenAfD2017'])\n",
    "print(\"Der Korrelationskoeffizient für die 25 bis 34 jährigen Dormunder in 2017 ist \" + str(ergebnis25bis34in2017))\n",
    "ergebnis35bis49in2017 = korrelationskoeffizient(dortmund['2017Alter35bis49'],dortmund['EinwohnerGesamt2017'], dortmund['RelZweitstimmenAfD2017'])\n",
    "print(\"Der Korrelationskoeffizient für die 35 bis 49 jährigen Dormunder in 2017 ist \" + str(ergebnis35bis49in2017))\n",
    "ergebnis50bis64in2017 = korrelationskoeffizient(dortmund['2017Alter50bis64'],dortmund['EinwohnerGesamt2017'], dortmund['RelZweitstimmenAfD2017'])\n",
    "print(\"Der Korrelationskoeffizient für die 50 bis 64 jährigen Dormunder in 2017 ist \" + str(ergebnis50bis64in2017))\n"
   ]
  },
  {
   "cell_type": "markdown",
   "metadata": {},
   "source": [
    "Zusammenhänge 2017:\n",
    "\n",
    "18-24 Jährige: gering\n",
    "Der Korrelationskoeffizient ist negativ. Das bedeutet je mehr 18 bis 24 Jährige in den Stadtteilen wohnen, desto weniger Zweitstimmen erhält die AfD.\n",
    "\n",
    "25-34 Jährige: bemerkenswert\n",
    "Der Korrelationskoeffizient ist negativ. Das bedeutet je mehr 25 bis 34 Jährige in den Stadtteilen wohnen, desto weniger Zweitstimmen erhält die AfD.\n",
    "\n",
    "35-49 Jährige: kein\n",
    "\n",
    "50-64 Jährige: bemerkenswert\n",
    "Der Korrelationskoeffizient ist positiv. Das bedeutet je mehr 50 bis 64 Jährige in den Stadtteilen wohnen, desto mehr Zweitstimmen erhält die AfD.\n",
    "\n",
    "<b>FRAGE AN TOBIAS: Berechnung von r an allen Stellen richtig? Vermeitlich aussagekräftige Zahlen!?<b> "
   ]
  },
  {
   "cell_type": "markdown",
   "metadata": {},
   "source": [
    "### 3.5.3 Betrachtung der Entwicklung aller Wähler_innen zwischen den Jahren 2013 und 2017 und des Zusammenhangs  mit der Wahlstimmenentwicklung der AfD in diesem Zeitraum (zu Hypothese 2b)"
   ]
  },
  {
   "cell_type": "code",
   "execution_count": 357,
   "metadata": {},
   "outputs": [
    {
     "name": "stdout",
     "output_type": "stream",
     "text": [
      "Der Korrelationskoeffizient für die Entwicklung der 18 bis 24 jährigen Dormunder und den AfD-Zweitstimmen in den Jahren 2013 zu 2017 ist -0.48\n",
      "Der Korrelationskoeffizient für die Entwicklung der 25 bis 34 jährigen Dormunder und den AfD-Zweitstimmen in den Jahren 2013 zu 2017 ist 0.15\n",
      "Der Korrelationskoeffizient für die Entwicklung der 35 bis 49 jährigen Dormunder und den AfD-Zweitstimmen in den Jahren 2013 zu 2017 ist -0.02\n",
      "Der Korrelationskoeffizient für die Entwicklung der 50 bis 64 jährigen Dormunder und den AfD-Zweitstimmen in den Jahren 2013 zu 2017 ist -0.07\n"
     ]
    }
   ],
   "source": [
    "#Berechnung relativer Werte aller Altersgruppen der Jahre 2013 und 2017\n",
    "dortmund['2013RelMenschen18bis24'] = dortmund ['2013Alter18bis24'] / dortmund['EinwohnerGesamt2013']\n",
    "dortmund['2017RelMenschen18bis24'] = dortmund ['2017Alter18bis24'] / dortmund['EinwohnerGesamt2017']\n",
    "dortmund['2013RelMenschen25bis34'] = dortmund ['2013Alter25bis34'] / dortmund['EinwohnerGesamt2013']\n",
    "dortmund['2017RelMenschen25bis34'] = dortmund ['2017Alter25bis34'] / dortmund['EinwohnerGesamt2017']\n",
    "dortmund['2013RelMenschen35bis49'] = dortmund ['2013Alter35bis49'] / dortmund['EinwohnerGesamt2013']\n",
    "dortmund['2017RelMenschen35bis49'] = dortmund ['2017Alter35bis49'] / dortmund['EinwohnerGesamt2017']\n",
    "dortmund['2013RelMenschen50bis64'] = dortmund ['2013Alter50bis64'] / dortmund['EinwohnerGesamt2013']\n",
    "dortmund['2017RelMenschen50bis64'] = dortmund ['2017Alter50bis64'] / dortmund['EinwohnerGesamt2017']\n",
    "\n",
    "#Funktion erstellen mit Rückgabewert, bestehend aus folgendenSchritten:\n",
    "#Berechnen der Differenz des relativen Anteils von Menschen des Alters x 2013 und 2017\n",
    "#Korratation Entwicklung Anteil der Menschen des Alters x zu Entwicklung AfD-Zweitstimmen von 2013 zu 2017\n",
    "#d ist die relative Zah der Menschen eines Alters x in 2017, e ist die relative Zah der Menschen eines Alters x in 2013,\n",
    "#f ist Entwicklung AfD-Zweitstimmen von 2013 zu 2017\n",
    "\n",
    "def korrelationskoeffizientEntw (d, e, f):\n",
    "    entwRelAlter = d - e\n",
    "    ergebnisKorr = entwRelAlter.corr(f)                                  \n",
    "    return(round(ergebnisKorr,2))\n",
    " \n",
    "ergebnisEntw18bis24 = korrelationskoeffizientEntw(dortmund['2017RelMenschen18bis24'],dortmund['2013RelMenschen18bis24'], dortmund['EntwWahlAfD1317'])\n",
    "print(\"Der Korrelationskoeffizient für die Entwicklung der 18 bis 24 jährigen Dormunder und den AfD-Zweitstimmen in den Jahren 2013 zu 2017 ist \" + str(ergebnisEntw18bis24))\n",
    "ergebnisEntw25bis34 = korrelationskoeffizientEntw(dortmund['2017RelMenschen25bis34'],dortmund['2013RelMenschen25bis34'], dortmund['EntwWahlAfD1317'])\n",
    "print(\"Der Korrelationskoeffizient für die Entwicklung der 25 bis 34 jährigen Dormunder und den AfD-Zweitstimmen in den Jahren 2013 zu 2017 ist \" + str(ergebnisEntw25bis34))\n",
    "ergebnisEntw35bis49 = korrelationskoeffizientEntw(dortmund['2017RelMenschen35bis49'],dortmund['2013RelMenschen35bis49'], dortmund['EntwWahlAfD1317'])\n",
    "print(\"Der Korrelationskoeffizient für die Entwicklung der 35 bis 49 jährigen Dormunder und den AfD-Zweitstimmen in den Jahren 2013 zu 2017 ist \" + str(ergebnisEntw35bis49))\n",
    "ergebnisEntw50bis64 = korrelationskoeffizientEntw(dortmund['2017RelMenschen50bis64'],dortmund['2013RelMenschen50bis64'], dortmund['EntwWahlAfD1317'])\n",
    "print(\"Der Korrelationskoeffizient für die Entwicklung der 50 bis 64 jährigen Dormunder und den AfD-Zweitstimmen in den Jahren 2013 zu 2017 ist \" + str(ergebnisEntw50bis64))\n",
    "\n",
    "#Dataframe zur Anzeige Bevölkerungswachstums der Jahre wäre hier gut- herausfinden, wie aus Formel gewonnen werden kann  "
   ]
  },
  {
   "cell_type": "markdown",
   "metadata": {},
   "source": [
    "Zusammenhänge für die Entwicklung von 2013 zu 2017:\n",
    "\n",
    "18-24 Jährige: bemerkenswert\n",
    "Der Korrelationskoeffizient ist negativ. Das bedeutet je größer der Zuwachs an 18 bis 24 Jährigen in den Stadtteilen ist, desto weniger Zuwachs an Zweitstimmen verzeichnet die AfD.\n",
    "\n",
    "25-34 Jährige: kein\n",
    "\n",
    "35-49 Jährige: kein\n",
    "\n",
    "50-64 Jährige: kein\n",
    "\n",
    "<b>FRAGE AN TOBIAS: Macht es Sinn, die Entwicklung von 2013 zu 2017 in diesem Fall zu untersuchen?<b>"
   ]
  },
  {
   "cell_type": "markdown",
   "metadata": {},
   "source": [
    "## 4 Ergebnisse"
   ]
  },
  {
   "cell_type": "markdown",
   "metadata": {},
   "source": [
    "<b>FRAGE AN TOBIAS: Braucht man das in einem Jupyter Notebook?<b>"
   ]
  }
 ],
 "metadata": {
  "kernelspec": {
   "display_name": "Python 3",
   "language": "python",
   "name": "python3"
  },
  "language_info": {
   "codemirror_mode": {
    "name": "ipython",
    "version": 3
   },
   "file_extension": ".py",
   "mimetype": "text/x-python",
   "name": "python",
   "nbconvert_exporter": "python",
   "pygments_lexer": "ipython3",
   "version": "3.7.0"
  }
 },
 "nbformat": 4,
 "nbformat_minor": 2
}
