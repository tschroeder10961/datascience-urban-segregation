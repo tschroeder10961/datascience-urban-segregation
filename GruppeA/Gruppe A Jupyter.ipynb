{
 "cells": [
  {
   "cell_type": "markdown",
   "metadata": {},
   "source": [
    "#### JupyterNotebook Gruppe A\n",
    "# Untersuchung des Bevölkerungsanstieges der Stadt Magdeburg seit 2004 bis 2017\n",
    "\n",
    "\n",
    "## Inhaltsverzeichnis\n",
    "1. Einleitung und Forschungsfrage\n",
    "2. Datenaufbereitung\n",
    "3. Berechnung\n",
    "    3.1. demografische Zusammensetzung\n",
    "    3.2  ethnische Zusammensetzung\n",
    "4. Ergebnisse\n",
    "\n",
    "\n",
    "\n",
    "## 1. Einleitung und Forschungsfrage\n",
    "\n",
    "2004 hatte Magdeburg mit 226.610 Einwohnern den geringsten Einwohnerwert seit der Wiedervereinigung erreicht (Anm. noch mit Quelle belegen, Henning). Seitdem ist die Bevölkerungszahl wieder kontinuierlich gestiegen. 2017 lebten mit 241.769 Einwohnern 6,69% mehr Menschen in der Stadt als noch 2004. Die 5. Regionalisierte Bevölkerungsprognose (RBP) für Sachsen-Anhalt ging 2008 noch von einer Stadtbevölkerung von 232.154 Einwohnern im Jahr 2017 aus. Diese Prognose ging mit einem stetigen Bevölkerungsrückgang in den darauffolgenden Jahren einher. (Quelle: https://www.destatis.de/GPStatistik/servlets/MCRFileNodeServlet/STHeft_derivate_00000013/6A111_2008_2025.pdf, S. 25). Der 2006 von der Bertelsmann Stiftung publizierte “Wegweiser Demographischer Wandel 2020” ging sogar noch einen Schritt weiter und prognostizierte für das Jahr 2020 einen Bevölkerungsrückgang um 11,2%, verglichen mit dem Stichjahr 2003. Dies entspricht, bei einer Bevölkerung von ursprünglich 227.129 Menschen (Stand: 2003), insgesamt 201.691 Einwohner. (Quelle: http://shrinking.ums-riate.fr/Ressources/Chap_07/SCH_06.pdf, S. 43)\n",
    "\n",
    "Die Projektgruppe möchte sich deshalb mit folgender Forschungsfrage beschäftigen:\n",
    "\n",
    "#### “Hat sich im Zuge des Bevölkerungsanstieges der Stadt Magdeburg seit 2004 bis 2017 die Zusammensetzung der Bevölkerung verändert?”\n",
    "\n",
    "Dazu wird konkret folgende Unterfrage bearbeitet:\n",
    "#### Wie setzt(e) sich die Bevölkerung im Jahr 2004 gegenüber der Bevölkerung im Jahr 2017 ethnisch und demografisch zusammen?\n",
    "\n",
    "Zusätzlich soll eine Alterssegregation sowie eine ethnische Segregation berechnet werden.\n",
    "--> Hypothesen fehlen noch!"
   ]
  },
  {
   "cell_type": "markdown",
   "metadata": {},
   "source": [
    "## 2. Datenaufbereitung\n",
    "\n",
    "Die benötigten Daten wurden von der Stadt Magdeburg bereit gestellt. (...)\n",
    "--> vllt hier dann einmal alle Daten einladen und beschreiben?\n",
    "--> einmal als Tabelle darstellen?"
   ]
  },
  {
   "cell_type": "markdown",
   "metadata": {},
   "source": [
    "## 3. Berechnung\n",
    "\n",
    "### 3.1. Berechnung demografische Zusammensetzung und Alterssegregation\n",
    "\n",
    "#### Ziele:\n",
    "1. Variable erstellen mit der (Rest)-Quote für das mittlere Alter in den Stadtteilen (Hintergrund: Als Daten liegen uns die Quoten für die Jugend und das Alter vor)\n",
    "2. Absolute Werte für die ALtergruppen erstellen"
   ]
  },
  {
   "cell_type": "markdown",
   "metadata": {},
   "source": [
    "### 3.1 Berechnung ethnische Zusammensetzung\n",
    "\n",
    "Ziele: ethnische Zusammensetzunganhand der Daten 'Ausländische Bevölkerung' für die Zeitpunkte 2004 und 2017 berechnen"
   ]
  },
  {
   "cell_type": "code",
   "execution_count": null,
   "metadata": {},
   "outputs": [],
   "source": []
  }
 ],
 "metadata": {
  "kernelspec": {
   "display_name": "Python 3",
   "language": "python",
   "name": "python3"
  },
  "language_info": {
   "codemirror_mode": {
    "name": "ipython",
    "version": 3
   },
   "file_extension": ".py",
   "mimetype": "text/x-python",
   "name": "python",
   "nbconvert_exporter": "python",
   "pygments_lexer": "ipython3",
   "version": "3.7.0"
  }
 },
 "nbformat": 4,
 "nbformat_minor": 2
}
