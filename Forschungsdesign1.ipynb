{
 "cells": [
  {
   "cell_type": "markdown",
   "metadata": {},
   "source": [
    "## Demographie-  und Migrationsdynamiken auf Bezirksebene Vergleichende Analyse von Kreuzberg und Wedding im Zeitverlauf (2011-2017)"
   ]
  },
  {
   "cell_type": "markdown",
   "metadata": {},
   "source": [
    "### 1. Einleitung\n",
    "\n",
    "Während der Teilung Berlins unterlagen die Ortsteile Kreuzberg und Wedding   einer ähnlichen sozio-demographischen und städtebaulichen  Entwicklung ([spezifizieren:Kahlschlagsanierung, behutsame Stadterneuerung, “Instandbesetzungen”, Migrationspolitik]).Durch verschiedene politische, wirtschaftliche und städtebauliche Interventionen sowie kulturelle und soziale Prozesse, haben sich die Ortsteile nach der Wende jedoch unterschiedlich entwickelt: Während (Friedrichshain-)Kreuzberg sich schon seit einigen Jahren [spezifizieren] als beliebtes Wohnumfeld für  Kreative, Zugezogene und Studierende etabliert hat, wurde Wedding lange Zeit als \"abgehängter\" Ortsteil wahrgenommen, welcher durch hohe Arbeitslosigkeit und Kriminalität im Bewusstsein der Berlinerinnen und Berliner stand (Holm, 2016: S.210; von Einem, 2016: S. 54,). \n",
    "\n",
    "Ziel dieser Arbeit ist es einerseits, die demographische und ethnische Entwicklung zwischen 2011 und 2017 der beiden Stadtteile aufzuzeigen [und andererseits, Faktoren identifizieren, die auf Bezirksebene zu der beschriebenen Disparität geführt haben.]\n"
   ]
  },
  {
   "cell_type": "markdown",
   "metadata": {},
   "source": [
    "### 2. Methode\n",
    "\n",
    "Zunächst wird durch deskriptive Methoden die Annahme überprüft, wonach die demographische und ethnische Zusammensetzung der beiden Bezirke sich tatsächlich stark unterscheidet wie in der Literatur rezipiert  (Holm, von Einem, 2016 ....). [<<-- umformulieren]. \n",
    "\n",
    "Darauf aufbauend wird der Segregationsindex auf Nachbarschaftsebene (LOR-Planungsräume)hinsichtlich ethnischer und demografischer (ggf. auch sozialer) Segregation bestimmt und komparativ zwischen den beiden Stadtteilen betrachtet.\n",
    "\n",
    "Die vielfältige Datenlage zur Stadt Berlin soll genutzt werden, um darüber hinaus im Rahmen einer Regressionsanalyse mögliche Indikatoren und Faktoren für Differenzen zwischen den Stadtteilen zu bestimmen. Dabei sollen insbesondere Daten, die auch dem Berliner Umweltatlas unterliegen, einbezogen werden.\n"
   ]
  },
  {
   "cell_type": "markdown",
   "metadata": {},
   "source": [
    "### 3. Ergebnis\n"
   ]
  },
  {
   "cell_type": "markdown",
   "metadata": {},
   "source": [
    "### 4. Analyse\n"
   ]
  },
  {
   "cell_type": "markdown",
   "metadata": {},
   "source": [
    "### 5. Interpretation"
   ]
  },
  {
   "cell_type": "markdown",
   "metadata": {},
   "source": [
    "### 6. Fazit"
   ]
  },
  {
   "cell_type": "code",
   "execution_count": null,
   "metadata": {},
   "outputs": [],
   "source": []
  }
 ],
 "metadata": {
  "kernelspec": {
   "display_name": "Python 3",
   "language": "python",
   "name": "python3"
  },
  "language_info": {
   "codemirror_mode": {
    "name": "ipython",
    "version": 3
   },
   "file_extension": ".py",
   "mimetype": "text/x-python",
   "name": "python",
   "nbconvert_exporter": "python",
   "pygments_lexer": "ipython3",
   "version": "3.7.0"
  }
 },
 "nbformat": 4,
 "nbformat_minor": 2
}
