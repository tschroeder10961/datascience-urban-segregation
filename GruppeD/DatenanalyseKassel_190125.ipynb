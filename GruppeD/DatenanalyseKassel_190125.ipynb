{
 "cells": [
  {
   "cell_type": "markdown",
   "metadata": {},
   "source": [
    "# Eine Analyse der Einpersonenhaushalte in der Stadt Kassel bezogen auf die Altersgruppen in den Jahren 2007 bis 2017.\n",
    "\n",
    "## 1. Einleitung \n",
    "\n",
    "In Deutschland vollzieht sich ein zunehmender Trend, der die Haushaltsgröße betrifft. “Als privater Haushalt zählt hier jede zusammen wohnende und eine wirtschaftende Einheit bildende Personengemeinschaft sowie Personen, die allein wohnen und wirtschaften. Personen in Alters- oder Pflegeheimen, Kasernen und ähnlichen Einrichtungen, die dort keinen eigenen Haushalt führen, sondern gemeinschaftlich versorgt werden, zählen zu den Personen in Gemeinschaftsunterkünften und nicht zu den Personen in Privathaushalten.” (Statistisches Bundesamt (Destatis) (Hrsg.), 2017, S. 3). Der Anteil der Einpersonenhaushalte in ganz Deutschland ist von 1991 bis 2015 von 17,8 % aller Erwachsenen auf 24,3 % kontinuierlich angestiegen (vgl. Grünheid, 2017, S. 10). Zu der Stadt mit einer hohen Anzahl von Einpersonenhaushalten zählt u.a. Kassel. Im Jahr 2017 betrug der Anteil der Einpersonenhaushalte in Kassel 51,7% (vgl. Stadt Kassel (Hrsg.), 2017, S. 18). Aus diesem Grund wurde im Rahmen des Projektes: “Data Science: Spielerischer und fachwissenschaftlicher Umgang mit digitalen Daten” die Stadt Kassel hinsichtlich der Einpersonenhaushalte nach den Altersgruppen zwischen 2007 bis 2017 untersucht.\n",
    "\n",
    "### 1.1 Forschungsfrage und Abgrenzung \n",
    "\n",
    "Im Rahmen des Projektes wird die folgende Forschungsfrage untersucht: Eine Analyse der Einpersonenhaushalte in der Stadt Kassel bezogen auf die Altersgruppen in den Jahren 2007 bis 2017. Die Analyse beschränkt sich nur auf die Altersgruppen unter 30 Jahren, zwischen 30 bis 60 Jahren und über 60 Jahren.\n",
    "\n",
    "### 1.2 Hypothesen und Fragestellung \n",
    "\n",
    "Es wurden die beiden inhaltlichen Hypothesen aufgestellt, dass je höher der Anteil an Einpersonenhaushalten ist, desto höher ist auch der Anteil der über 60-Jährigen und der unter 30-Jährigen. Aus diesen beiden inhaltlichen Hypothesen folgt dementsprechend die statistische Hypothese, dass ein positiver Korrelationskoeffizient zwischen den Einpersonenhaushalten und den über 60-Jährigen sowie der unter 30-Jährigen vermutet wird. Diese inhaltlichen Hypothesen wurden aus Grünheid 2017 entnommen: “Bei den Jüngeren und den Älteren (bis 70 Jahre) ist vor allem die steigende Zahl Alleinlebender (Alleinstehend im Einpersonenhaushalt) hervorzuheben.” (S. 29). Diese auf ganz Deutschland bezogene Aussage kann demnach auch auf Kassel übertragen werden. Es werden jedoch mit dieser Aussage die Altersgruppen der zwischen 30 bis 60-Jährigen ausgeschlossen. Dementsprechend wurde daraus die dritte inhaltliche Hypothese abgeleitet, dass je höher der Anteil an Einpersonenhaushalten ist, desto geringer ist auch der Anteil der 30 bis 60-Jährigen. Aus dieser dritten Hypothese folgt die statistische Hypothese, dass ein negativer Korrelationskoeffizient zwischen den Einpersonenhaushalten und den 30 bis 60-Jährigen erwartet wird.\n",
    "\n",
    "Des Weiteren wurde die folgende Fragestellung untersucht: Die Entwicklung des Verhältnisses der drei Altersgruppen in den Einpersonenhaushalten über die Jahre 2007-2017. Hierbei wurde die Entwicklung der in Einpersonenhaushalten lebenden Personen über die Jahre berechnet und hinsichtlich der drei Altersgruppen miteinander verglichen.\n",
    "\n",
    "## 2. Forschungsstand \n",
    "\n",
    "Der Jahresbericht der Stadt Kassel 2018: “Statistische Informationen - Jahresbericht 2017” enthält Daten aus diversen Bereichen des städtischen Lebens (S. 1). Es werden u.a. Daten zur Haushaltsgröße tabellarisch zur Verfügung gestellt (S. 18 ff.). Zudem werden die Haushalte nach den Altersgruppen getrennt. Die Anzahl der Einpersonenhaushalte mit unter 30-Jährigen betrug im Jahr 2017 14 920. Die Anzahl der Einpersonenhaushalte mit zwischen 30 und 60-Jährigen betrug im Jahr 2017 23 991 und die Anzahl der Einpersonenhaushalte mit über 60-Jährigen betrug im Jahr 2017 17 758 (S. 19).\n",
    "\n",
    "Des Weiteren hat die Stadt Kassel einen Statistikatlas 2017 veröffentlicht. In diesem Statistikatlas werden die Daten zur Stadt Kassel und zu deren Stadtteilen grafisch von 2005 bis 2017 visualisiert. Insgesamt wurden im Jahr 2017 109.533 Haushalte verzeichnet, wobei im vorderen Westen mehr Haushalte vorhanden waren als im Stadtteil Nordshausen. Im Durchschnitt lebten 1,86 Personen im Haushalt 2017 in ganz Kassel. Das unterscheidet sich zwischen den Stadtteilen, denn in Waldau lebten 2,28 und in Mitte nur 1,55 Personen im Haushalt. Der prozentuale Anteil unterscheidet sich ebenfalls zwischen den Stadtteilen. In Kassel Mitte wurde der höchste Anteil von Einpersonenhaushalten mit 67% verzeichnet, wohingegen in Waldau der Anteil 34,1% betrug. Der Statistikatlas Kassel enthält jedoch keine Daten zu den Altersgruppen, die in Einpersonenhaushalten leben, sondern nur allgemein zum Durchschnittsalter der Bevölkerung.\n",
    "\n",
    "Grünheid (2017) behandelt in dem BiB Working Paper: “Wandel der Lebensformen in Deutschland” die Entwicklung der Lebensformen in Deutschland in den letzten beiden Jahrzehnten. Die Anzahl von Alleinlebenden in Einpersonenhaushalten ist von 1991 bis 2015 in Deutschland deutlich angestiegen. Insgesamt hat der Anteil von Alleinlebenden in Einpersonenhaushalten von jüngeren und älteren Personen über die Jahre zugenommen (S. 10 ff.).\n",
    "\n",
    "Die Studie des statistischen Bundesamtes (Destatis) aus dem Jahr 2017: “Entwicklung der Privathaushalte bis 2035” enthält eine Prognose der zukünftigen Entwicklung der Haushalte bis zum Jahr 2035 in ganz Deutschland. Diese Prognose wurde durch eine Haushaltsvorausberechnung erstellt. Die Berechnung hat ergeben, dass sich die Anzahl der Ein- und Zweipersonenhaushalte bis 2035 vergrößern wird. Im Gegensatz dazu wird sich die Zahl der Mehrpersonenhaushalte mit drei Personen und mehr verkleinern (S. 6 f.).\n",
    "\n",
    "## 3. Methode \n",
    "\n",
    "Da die Daten aus dem Statistikatlas und den Jahresberichten zu den Einwohnerzahlen und zu den Haushaltsgrößen unterschiedliche Zeiträume abdecken, wurde am 27.11.2018 nach einem Telefonat eine E-Mail-Anfrage an die Fachstelle Statistik der Stadt Kassel verfasst (siehe Anhang IV E-Mail an Herr Schippers). Es wurden folgende Daten angefragt:\n",
    "-Haushalte zum 31.12. d.J.\n",
    "-Haushalte nach Anzahl der Personen\n",
    "-Haushaltstypen nach Systematik BfLR\n",
    "-Einwohner im Alter von … zum 31.12. d. J.\n",
    "-Bevölkerung (männlich / weiblich)\n",
    "-Zahl der 1-Personen-Haushalte auch nach Geschlecht aufgeschlüsselt\n",
    "\n",
    "Freundlicherweise wurden die Daten zwei Tage später in Form einer Excel-Datei kostenlos zur Verfügung gestellt. Die Zahl der Einpersonenhaushalte, auch nach Geschlecht aufgeschlüsselt, liegen bei der Stadt Kassel leider nicht vor.\n",
    "\n",
    "Da nicht alle Variablen der Rohdaten, des nun zur Verfügung stehenden Datensatzes, für die Forschungsfrage relevant sind, wurden die relevanten Variablen extrahiert. Der bereinigte Datensatz wurde gespeichert. Die Variablen “Einwohnerzahlen 0 bis 30 Jahre” “Einwohnerzahlen 30 bis 60 Jahre” und “Einwohnerzahlen ab 60 Jahre” wurden aus der Addition der Variablen “Einwohner im Alter von …” berechnet. Die Berechnung wurde in einer separaten Tabelle durchgeführt. Nachdem hier einige Fehler auftraten, wurde der Datensatz angepasst, bis diese Version als finale Version gespeichert wurde.\n",
    "\n",
    "Für die Analyse der Daten im Programm Python, wurde die finale Forschungsdatentabelle angepasst. Die Variablennamen wurden vereinfacht und Zeilen wie “Einheit”, “Quelle” und “Anmerkungen” gelöscht. Diese angepasste Tabelle wurde im Datenspeicher abgelegt. Für die Nutzung in Python wurde sie in das .csv Dateiformat konvertiert.\n",
    "\n",
    "Die Datenanalyse wurde mit Hilfe von Python 3.7, inklusive des Pandas Paketes, durchgeführt. Hierbei wurde die bereinigte und angepasste Forschungsdatentabelle “Forschungsdaten04csv” verwendet. Nach der Berechnung und Auswertung der Daten wurde das Ergebnis analysiert bzw. interpretiert.\n"
   ]
  },
  {
   "cell_type": "markdown",
   "metadata": {},
   "source": [
    "## 4. Berechnung des Verhältnisses zwischen Altersgruppen und Einpersonenhaushalten"
   ]
  },
  {
   "cell_type": "code",
   "execution_count": 1,
   "metadata": {},
   "outputs": [
    {
     "name": "stdout",
     "output_type": "stream",
     "text": [
      "    Jahr  Ewgesamt  EWunter30  EW30bis60  EWueber60  HHgesamt  1PHHgesamt  \\\n",
      "0   2007    192121      33107      79496      48966    102003       49692   \n",
      "1   2008    191959      33763      78989      49045    102384       50656   \n",
      "2   2009    192241      34449      78687      49157    102867       50467   \n",
      "3   2010    193112      35124      79028      49246    103884       51726   \n",
      "4   2011    194109      35400      79448      49482    102343       50814   \n",
      "5   2012    195422      35958      80114      49521    103825       52210   \n",
      "6   2013    196758      36471      80826      49662    105889       54076   \n",
      "7   2014    197092      36726      80572      49924    106459       54653   \n",
      "8   2015    200507      38426      81453      50264    108082       56145   \n",
      "9   2016    201907      38726      81458      50587    108913       56541   \n",
      "10  2017    204021      39396      82160      50988    109533       56669   \n",
      "\n",
      "    1PHHunter30  1PHH30bis60  1PHHueber60  \n",
      "0         11660        21157        16875  \n",
      "1         12451        22425        15780  \n",
      "2         12355        21226        16886  \n",
      "3         12782        21735        17209  \n",
      "4         12782        22026        16006  \n",
      "5         13238        22628        16344  \n",
      "6         14165        23223        16688  \n",
      "7         14341        23392        16920  \n",
      "8         14918        24173        17054  \n",
      "9         15110        23939        17492  \n",
      "10        14920        23991        17758  \n"
     ]
    }
   ],
   "source": [
    "#Importieren des Pandas-Pakets \n",
    "\n",
    "import pandas as pd\n",
    "\n",
    "#Importieren der bereinigten und angepassten Forschungsdatentabelle\n",
    "\n",
    "kassel = pd.read_csv('Forschungsdaten05csv.csv', sep=\",\")\n",
    "print(kassel)"
   ]
  },
  {
   "cell_type": "markdown",
   "metadata": {},
   "source": [
    "### 4.1 Berechnung der ersten Hypothese\n",
    "\n",
    "Entwicklungen und Zusammenhang der relativen Häufigkeit der Einpersonenhaushalte und die relative Häufigkeit der über 60-jährigen Einwohner:\n",
    "\n",
    "1. Inhaltliche Hypothese: Je höher der Anteil an Einpersonenhaushalten, desto höher der Anteil der über 60-Jährigen.\n",
    "1. Statistische Hypothese: Vermutet wird ein positiver Korrelationskoeffizient zwischen Var1 und Var2.\n",
    "\n",
    "Benennen der Variablen: \n",
    "\n",
    "Var1 - die relative Häufigkeit der Einpersonenhaushalte an den Haushalten insgesamt\n",
    "\n",
    "Var2 - die relative Häufigkeit der Einwohner über 60 an den Einwohnern insgesamt\n",
    "\n",
    "Berechnen der Variablen: \n",
    "\n",
    "Var1 = 1PHHgesamt / HHgesamt \n",
    "\n",
    "Var2 = EWueber60 / EWgesamt"
   ]
  },
  {
   "cell_type": "code",
   "execution_count": 2,
   "metadata": {},
   "outputs": [
    {
     "name": "stdout",
     "output_type": "stream",
     "text": [
      "0     0.487162\n",
      "1     0.494765\n",
      "2     0.490604\n",
      "3     0.497921\n",
      "4     0.496507\n",
      "5     0.502865\n",
      "6     0.510686\n",
      "7     0.513371\n",
      "8     0.519467\n",
      "9     0.519139\n",
      "10    0.517369\n",
      "Name: Rel1PHH, dtype: float64\n"
     ]
    }
   ],
   "source": [
    "# Berechnung Var1 (relative Häufigkeit der Einpersonenhaushalte)\n",
    "\n",
    "kassel[\"Rel1PHH\"] = kassel[\"1PHHgesamt\"] / kassel[\"HHgesamt\"]\n",
    "print(kassel[\"Rel1PHH\"])"
   ]
  },
  {
   "cell_type": "markdown",
   "metadata": {},
   "source": [
    "Beschreibung der Entwicklung der Var1: \n",
    "\n",
    "Zwischen 2007 und 2010 steigt und sinkt der Wert jährlich. Zwischen 2011-2015 steigt der\n",
    "Wert kontinuierlich. Im Jahre 2015 erreicht er seinen Höhepunkt. Nach 2015 sinkt die relative Häufigkeit leicht ab."
   ]
  },
  {
   "cell_type": "code",
   "execution_count": 3,
   "metadata": {},
   "outputs": [
    {
     "data": {
      "text/plain": [
       "(0, 100)"
      ]
     },
     "execution_count": 3,
     "metadata": {},
     "output_type": "execute_result"
    }
   ],
   "source": [
    "# Grafische Darstellung der Entwicklung (2007-2017) der relativen Häufigkeit der Einpersonenhaushalte an den Haushalten insgesamt:\n",
    "\n",
    "# Importieren des Matplot-Pakets \n",
    "\n",
    "import matplotlib.pyplot as plt \n",
    "\n",
    "# Umrechnung in prozentuale Anteile\n",
    "\n",
    "plt.plot(kassel[\"Rel1PHH\"]*100) \n",
    "\n",
    "plt.xticks(range(len(kassel)), kassel[\"Jahr\"])\n",
    "plt.title(\"Relative Häufigkeit der Einpersonenhaushalte an den Haushalten insgesamt\")\n",
    "plt.xlabel(\"Jahr\")\n",
    "plt.ylabel(\"Anteil der Einpersonhaushalte (%)\")\n",
    "plt.ylim(0, 100)\n",
    "\n"
   ]
  },
  {
   "cell_type": "code",
   "execution_count": 4,
   "metadata": {},
   "outputs": [
    {
     "data": {
      "text/plain": [
       "Text(0,0.5,'Anteil der Einpersonhaushalte (%)')"
      ]
     },
     "execution_count": 4,
     "metadata": {},
     "output_type": "execute_result"
    },
    {
     "data": {
      "image/png": "[encoded data removed]",
      "text/plain": [
       "<Figure size 432x288 with 1 Axes>"
      ]
     },
     "metadata": {
      "needs_background": "light"
     },
     "output_type": "display_data"
    }
   ],
   "source": [
    "# Grafische Darstellung der Entwicklung (2007-2017) der relativen Häufigkeit der Einpersonenhaushalte an den Haushalten insgesamt:\n",
    "#(Ausschnitt)\n",
    "\n",
    "# Importieren des Matplot-Pakets \n",
    "\n",
    "import matplotlib.pyplot as plt\n",
    "\n",
    "# Umrechnung in prozentuale Anteile\n",
    "\n",
    "plt.plot(kassel[\"Rel1PHH\"]*100) \n",
    "\n",
    "plt.xticks(range(len(kassel)), kassel[\"Jahr\"])\n",
    "plt.title(\"Relative Häufigkeit der Einpersonenhaushalte an den Haushalten insgesamt\")\n",
    "plt.xlabel(\"Jahr\")\n",
    "plt.ylabel(\"Anteil der Einpersonhaushalte (%)\")"
   ]
  },
  {
   "cell_type": "code",
   "execution_count": 5,
   "metadata": {},
   "outputs": [
    {
     "data": {
      "image/png": "[encoded data removed]",
      "text/plain": [
       "<Figure size 432x288 with 1 Axes>"
      ]
     },
     "metadata": {
      "needs_background": "light"
     },
     "output_type": "display_data"
    }
   ],
   "source": [
    "# Grafische Darstellung: Entwicklung der Gesamtzahl der Einpersonenhaushalte von 2007-2017:\n",
    "\n",
    "plt.bar(range(len(kassel)), kassel['1PHHgesamt'])\n",
    "plt.xticks(range(len(kassel)), kassel['Jahr'])\n",
    "plt.ylim(0,60000)\n",
    "plt.title(\"Entwicklung der Gesamtzahl der Einpersonenhaushalte von 2007-2017\")\n",
    "plt.show()"
   ]
  },
  {
   "cell_type": "code",
   "execution_count": 6,
   "metadata": {},
   "outputs": [
    {
     "name": "stdout",
     "output_type": "stream",
     "text": [
      "0     0.254871\n",
      "1     0.255497\n",
      "2     0.255705\n",
      "3     0.255013\n",
      "4     0.254919\n",
      "5     0.253405\n",
      "6     0.252401\n",
      "7     0.253303\n",
      "8     0.250685\n",
      "9     0.250546\n",
      "10    0.249915\n",
      "Name: RelEW60, dtype: float64\n"
     ]
    }
   ],
   "source": [
    "# Berechnung Var2 (relative Häufigkeit der über 60-jährigen Einwohner)\n",
    "\n",
    "kassel[\"RelEW60\"] = kassel[\"EWueber60\"] / kassel[\"Ewgesamt\"]\n",
    "print(kassel[\"RelEW60\"]) "
   ]
  },
  {
   "cell_type": "code",
   "execution_count": 7,
   "metadata": {},
   "outputs": [
    {
     "data": {
      "image/png": "[encoded data removed]",
      "text/plain": [
       "<Figure size 432x288 with 1 Axes>"
      ]
     },
     "metadata": {
      "needs_background": "light"
     },
     "output_type": "display_data"
    }
   ],
   "source": [
    "# Grafische Darstellung der Entwicklung (2007-2017) der relativen Häufigkeit der Einwohnern über 60 Jahre an den Einwohnern insgesamt: \n",
    "\n",
    "plt.plot((kassel[\"RelEW60\"]*100)) \n",
    "plt.xticks(range(len(kassel)), kassel[\"Jahr\"])\n",
    "\n",
    "plt.ylim(0,100)\n",
    "\n",
    "# Achsen-Beschriftungen\n",
    "\n",
    "plt.ylabel('Anteil an den gesamten Einwohnern (%)')\n",
    "plt.xlabel('Jahre')\n",
    "\n",
    "# Diagramm-Beschriftung\n",
    "\n",
    "plt.title('Entwicklung der relativen Häufigkeit der Einwohner über 60 an den Einwohnern insgesamt')\n",
    "          \n",
    "plt.show() "
   ]
  },
  {
   "cell_type": "code",
   "execution_count": 8,
   "metadata": {},
   "outputs": [
    {
     "data": {
      "text/plain": [
       "-0.9263834775423547"
      ]
     },
     "execution_count": 8,
     "metadata": {},
     "output_type": "execute_result"
    }
   ],
   "source": [
    "# Berechnung des Korrelationskoeffizienten zwischen der relativen Häufigkeit der Einpersonenhaushalte und der relativen Häufigkeit der Einwohner über 60 Jahre (Pearson-Koeffizient)\n",
    "\n",
    "kassel[\"Rel1PHH\"].corr(kassel[\"RelEW60\"]) "
   ]
  },
  {
   "cell_type": "code",
   "execution_count": 9,
   "metadata": {},
   "outputs": [
    {
     "data": {
      "text/plain": [
       "Text(0.5,1,'Zusammenhang zwischen den Einpersonenhaushalten und der über 60-jährigen Einwohner r= -0.92')"
      ]
     },
     "execution_count": 9,
     "metadata": {},
     "output_type": "execute_result"
    },
    {
     "data": {
      "image/png": "[encoded data removed]",
      "text/plain": [
       "<Figure size 432x288 with 1 Axes>"
      ]
     },
     "metadata": {
      "needs_background": "light"
     },
     "output_type": "display_data"
    }
   ],
   "source": [
    "# Grafische Darstellung des Zusammenhangs zwischen den Einpersonenhaushalten und der über 60-jährigen Einwohner:\n",
    "\n",
    "plt.scatter(kassel[\"Rel1PHH\"]*100, kassel[\"RelEW60\"]*100)\n",
    "\n",
    "# Achsen-Beschriftungen\n",
    "\n",
    "plt.ylabel('Anteil der Einwohner über 60 Jahre (%)')\n",
    "plt.xlabel('Anteil der Einpersonenhaushalte (%)')\n",
    "\n",
    "# Die Werte auf den Achsen sollen ab 0 beginnen\n",
    "\n",
    "# Diagramm-Beschriftung\n",
    "\n",
    "plt.title('Zusammenhang zwischen den Einpersonenhaushalten und der über 60-jährigen Einwohner r= -0.92')"
   ]
  },
  {
   "cell_type": "markdown",
   "metadata": {},
   "source": [
    "Ergebnis:\n",
    "\n",
    "Die Hypothese hat sich nicht bestätigt. Es besteht im Gegenteil ein starker negativer Zusammenhang zwischen der relativen Häufigkeit der Einpersonenhaushalte und der relativen Häufigkeit der Einwohner über 60 Jahre."
   ]
  },
  {
   "cell_type": "markdown",
   "metadata": {},
   "source": [
    "### 4.2 Berechnung der zweiten Hypothese\n",
    "\n",
    "Entwicklungen und Zusammenhang der relativen Häufigkeit der Einpersonenhaushalte und der relativen Häufigkeit der unter 30-jährigen Einwohner.\n",
    "\n",
    "2. Inhaltliche Hypothese: Je höher der Anteil an Einpersonenhaushalten, desto höher der Anteil der unter 30-Jährigen.\n",
    "2. Statistische Hypothese: Vermutet wird ein positiver Korrelationskoeffizient zwischen Var1 und Var3.\n",
    "\n",
    "Benennen der Variablen: \n",
    "\n",
    "Var1 - die relative Häufigkeit der Einpersonenhaushalte an den Haushalten insgesamt\n",
    "\n",
    "Var3 - die relative Häufigkeit der Einwohner unter 30 an den Einwohnern insgesamt\n",
    "\n",
    "Berechnen der Variablen: \n",
    "\n",
    "Var1 = 1PHHgesamt / HHgesamt \n",
    "\n",
    "Var3 = EWunter30 / Ewgesamt"
   ]
  },
  {
   "cell_type": "code",
   "execution_count": 10,
   "metadata": {},
   "outputs": [
    {
     "name": "stdout",
     "output_type": "stream",
     "text": [
      "0     0.172324\n",
      "1     0.175887\n",
      "2     0.179197\n",
      "3     0.181884\n",
      "4     0.182372\n",
      "5     0.184002\n",
      "6     0.185360\n",
      "7     0.186339\n",
      "8     0.191644\n",
      "9     0.191801\n",
      "10    0.193098\n",
      "Name: RelEW30, dtype: float64\n"
     ]
    }
   ],
   "source": [
    "# Berechnung von Var3 (relative Häufigkeit der unter 30-Jährigen)\n",
    "\n",
    "kassel[\"RelEW30\"] = kassel[\"EWunter30\"] / kassel[\"Ewgesamt\"]\n",
    "print(kassel[\"RelEW30\"])"
   ]
  },
  {
   "cell_type": "markdown",
   "metadata": {},
   "source": [
    "Beschreibung der Entwicklung der Var3: \n",
    "\n",
    "Der Wert steigt kontinuierlich. Die extremste Steigerung findet zwischen den Jahren 2014 und 2015 statt."
   ]
  },
  {
   "cell_type": "code",
   "execution_count": 11,
   "metadata": {},
   "outputs": [
    {
     "data": {
      "image/png": "[encoded data removed]",
      "text/plain": [
       "<Figure size 432x288 with 1 Axes>"
      ]
     },
     "metadata": {
      "needs_background": "light"
     },
     "output_type": "display_data"
    }
   ],
   "source": [
    "# Grafische Darstellung der Entwicklung (2007-2017) der relativen Häufigkeit der Einwohner unter 30 Jahre an den Einwohnern insgesamt:\n",
    "\n",
    "plt.plot((kassel[\"RelEW30\"]*100)) \n",
    "plt.xticks(range(len(kassel)), kassel[\"Jahr\"])\n",
    "\n",
    "plt.ylim(0,100)\n",
    "\n",
    "# Achsen-Beschriftungen\n",
    "\n",
    "plt.ylabel('Anteil an den gesamten Einwohnern (%)')\n",
    "plt.xlabel('Jahr')\n",
    "\n",
    "# Diagramm-Beschriftung\n",
    "\n",
    "plt.title('Entwicklung der relativen Häufigkeit der Einwohner unter 30 an den Einwohnern insgesamt')\n",
    "          \n",
    "plt.show() "
   ]
  },
  {
   "cell_type": "code",
   "execution_count": 12,
   "metadata": {
    "scrolled": true
   },
   "outputs": [
    {
     "data": {
      "text/plain": [
       "0.9471824109642867"
      ]
     },
     "execution_count": 12,
     "metadata": {},
     "output_type": "execute_result"
    }
   ],
   "source": [
    "# Berechnung des Korrelationskoeffizienten zwischen der relativen Häufigkeit der Einpersonenhaushalte und der relativen Häufigkeit der Einwohner unter 30 Jahre (Pearson-Koeffizient)\n",
    "\n",
    "kassel[\"Rel1PHH\"].corr(kassel[\"RelEW30\"])"
   ]
  },
  {
   "cell_type": "markdown",
   "metadata": {},
   "source": [
    "Ergebnis: \n",
    "\n",
    "Die Hypothese hat sich bestätigt. Es besteht ein starker Zusammenhang zwischen der relativen Häufigkeit der Einpersonenhaushalte und der relativen Häufigkeit der Einwohner unter 30 Jahre."
   ]
  },
  {
   "cell_type": "code",
   "execution_count": 13,
   "metadata": {},
   "outputs": [
    {
     "data": {
      "text/plain": [
       "Text(0.5,1,'Zusammenhang zwischen den Einpersonenhaushalten und der unter 30-jährigen Einwohner r= 0.88')"
      ]
     },
     "execution_count": 13,
     "metadata": {},
     "output_type": "execute_result"
    },
    {
     "data": {
      "image/png": "[encoded data removed]",
      "text/plain": [
       "<Figure size 432x288 with 1 Axes>"
      ]
     },
     "metadata": {
      "needs_background": "light"
     },
     "output_type": "display_data"
    }
   ],
   "source": [
    "# Grafische Darstellung des Zusammenhangs zwischen den Einpersonenhaushalten und der unter 30-jährigen Einwohner:\n",
    "\n",
    "plt.scatter(kassel[\"Rel1PHH\"]*100, kassel[\"RelEW30\"]*100)\n",
    "\n",
    "# Achsen-Beschriftungen\n",
    "\n",
    "plt.ylabel('Anteil der Einwohner unter 30 Jahre (%)')\n",
    "plt.xlabel('Anteil der Einpersonenhaushalte (%)')\n",
    "\n",
    "# Diagramm-Beschriftung\n",
    "\n",
    "plt.title('Zusammenhang zwischen den Einpersonenhaushalten und der unter 30-jährigen Einwohner r= 0.88')"
   ]
  },
  {
   "cell_type": "markdown",
   "metadata": {},
   "source": [
    "### 4.3 Berechnung der dritten Hypothese\n",
    "\n",
    "Entwicklungen und Zusammenhang der relativen Häufigkeit der Einpersonenhaushalte und der relativen Häufigkeit der zwischen 30 und 60-jährigen Einwohner\n",
    "\n",
    "3. Inhaltliche Hypothese: Je höher der Anteil an Einpersonenhaushalten, desto geringer der Anteil der 30 bis 60-jährigen\n",
    "3. Statistische Hypothese: Vermutet wird ein negativer Korrelationskoeffizient zwischen Var1 und Var4\n",
    "\n",
    "Benennen der Variablen: \n",
    "\n",
    "Var1 - die relative Häufigkeit der Einpersonenhaushalte an den Haushalten insgesamt\n",
    "\n",
    "Var4 - die relative Häufigkeit der Einwohner zwischen 30 und 60-jährigen an den Einwohnern insgesamt\n",
    "\n",
    "Berechnung der Variablen:\n",
    "\n",
    "Var1 = 1PHHgesamt / HHgesamt\n",
    "\n",
    "Var4 = EW30bis60 / Ewgesamt"
   ]
  },
  {
   "cell_type": "code",
   "execution_count": 14,
   "metadata": {},
   "outputs": [
    {
     "name": "stdout",
     "output_type": "stream",
     "text": [
      "0     0.413781\n",
      "1     0.411489\n",
      "2     0.409314\n",
      "3     0.409234\n",
      "4     0.409296\n",
      "5     0.409954\n",
      "6     0.410789\n",
      "7     0.408804\n",
      "8     0.406235\n",
      "9     0.403443\n",
      "10    0.402704\n",
      "Name: RelEW30bis60, dtype: float64\n"
     ]
    }
   ],
   "source": [
    "# Berechnung von Var4 (relative Häufigkeit der 30 bis 60-jährigen)\n",
    "\n",
    "kassel[\"RelEW30bis60\"] = kassel[\"EW30bis60\"] / kassel[\"Ewgesamt\"]\n",
    "print(kassel[\"RelEW30bis60\"])"
   ]
  },
  {
   "cell_type": "markdown",
   "metadata": {},
   "source": [
    "Beschreibung der Entwicklung der Var4:\n",
    "\n",
    "Der Wert sinkt zwischen 2007-2010. Zwischen 2010-2013 steigt der Wert, besonders zwischen 2011-2012. Seinen Höhepunkt erreicht er im Jahre 2013, danach fällt er kontinuierlich und erreicht seinen Tiefpunkt im Jahre 2017."
   ]
  },
  {
   "cell_type": "code",
   "execution_count": 15,
   "metadata": {},
   "outputs": [
    {
     "data": {
      "image/png": "[encoded data removed]",
      "text/plain": [
       "<Figure size 432x288 with 1 Axes>"
      ]
     },
     "metadata": {
      "needs_background": "light"
     },
     "output_type": "display_data"
    }
   ],
   "source": [
    "# Grafische Darstellung der Entwicklung (2007-2017) der relativen Häufigkeit der Einwohner zwischen 30 und 60 Jahren an den Einwohnern insgesamt: \n",
    "\n",
    "plt.plot((kassel[\"RelEW30\"]*100)) \n",
    "plt.xticks(range(len(kassel)), kassel[\"Jahr\"])\n",
    "\n",
    "plt.ylim(0,100)\n",
    "\n",
    "# Achsen-Beschriftungen\n",
    "\n",
    "plt.ylabel('Anteil an den gesamten Einwohnern (%)')\n",
    "plt.xlabel('Jahr')\n",
    "\n",
    "# Diagramm-Beschriftung\n",
    "\n",
    "plt.title('Entwicklung der relativen Häufigkeit der Einwohner zwischen 30-60 Jahren an den Einwohnern insgesamt')\n",
    "          \n",
    "plt.show() "
   ]
  },
  {
   "cell_type": "code",
   "execution_count": 16,
   "metadata": {},
   "outputs": [
    {
     "data": {
      "text/plain": [
       "-0.7871079878497586"
      ]
     },
     "execution_count": 16,
     "metadata": {},
     "output_type": "execute_result"
    }
   ],
   "source": [
    "# Berechnung des Korrelationskoeffizienten zwischen der relativen Häufigkeit der Einpersonenhaushalte und der relativen Häufigkeit der Einwohner zwischen 30 bis 60 Jahren (Pearson-Koeffizient)\n",
    "\n",
    "kassel[\"Rel1PHH\"].corr(kassel[\"RelEW30bis60\"]) "
   ]
  },
  {
   "cell_type": "markdown",
   "metadata": {},
   "source": [
    "Ergebnis:\n",
    "\n",
    "Die Hypothese hat sich bestätigt. Es gibt einen starken Zusammenhang zwischen der relativen Häufigkeit der Einpersonenhaushalte und der relativen Häufigkeit der Einwohner zwischen 30 und 60 Jahren."
   ]
  },
  {
   "cell_type": "code",
   "execution_count": 17,
   "metadata": {},
   "outputs": [
    {
     "data": {
      "text/plain": [
       "Text(0.5,1,'Zusammenhang zwischen den Einpersonenhaushalten und der zwischen 30 und 60-jährigen Einwohner r= -0.78')"
      ]
     },
     "execution_count": 17,
     "metadata": {},
     "output_type": "execute_result"
    },
    {
     "data": {
      "image/png": "[encoded data removed]",
      "text/plain": [
       "<Figure size 432x288 with 1 Axes>"
      ]
     },
     "metadata": {
      "needs_background": "light"
     },
     "output_type": "display_data"
    }
   ],
   "source": [
    "# Grafische Darstellung des Zusammenhangs zwischen den Einpersonenhaushalten und der zwischen 30 und 60-jährigen Einwohner:\n",
    "\n",
    "plt.scatter(kassel[\"Rel1PHH\"]*100, kassel[\"RelEW30bis60\"]*100)\n",
    "\n",
    "# Achsen-Beschriftungen\n",
    "\n",
    "plt.ylabel('Anteil der Einwohner zwischen 30 und 60 Jahren (%)')\n",
    "plt.xlabel('Anteil der Einpersonenhaushalte (%)')\n",
    "\n",
    "# Diagramm-Beschriftung\n",
    "\n",
    "plt.title('Zusammenhang zwischen den Einpersonenhaushalten und der zwischen 30 und 60-jährigen Einwohner r= -0.78')"
   ]
  },
  {
   "cell_type": "code",
   "execution_count": 19,
   "metadata": {},
   "outputs": [
    {
     "ename": "KeyError",
     "evalue": "'Rel1PHHunter30'",
     "output_type": "error",
     "traceback": [
      "\u001b[1;31m---------------------------------------------------------------------------\u001b[0m",
      "\u001b[1;31mKeyError\u001b[0m                                  Traceback (most recent call last)",
      "\u001b[1;32m~\\Anaconda3\\lib\\site-packages\\pandas\\core\\indexes\\base.py\u001b[0m in \u001b[0;36mget_loc\u001b[1;34m(self, key, method, tolerance)\u001b[0m\n\u001b[0;32m   3077\u001b[0m             \u001b[1;32mtry\u001b[0m\u001b[1;33m:\u001b[0m\u001b[1;33m\u001b[0m\u001b[0m\n\u001b[1;32m-> 3078\u001b[1;33m                 \u001b[1;32mreturn\u001b[0m \u001b[0mself\u001b[0m\u001b[1;33m.\u001b[0m\u001b[0m_engine\u001b[0m\u001b[1;33m.\u001b[0m\u001b[0mget_loc\u001b[0m\u001b[1;33m(\u001b[0m\u001b[0mkey\u001b[0m\u001b[1;33m)\u001b[0m\u001b[1;33m\u001b[0m\u001b[0m\n\u001b[0m\u001b[0;32m   3079\u001b[0m             \u001b[1;32mexcept\u001b[0m \u001b[0mKeyError\u001b[0m\u001b[1;33m:\u001b[0m\u001b[1;33m\u001b[0m\u001b[0m\n",
      "\u001b[1;32mpandas\\_libs\\index.pyx\u001b[0m in \u001b[0;36mpandas._libs.index.IndexEngine.get_loc\u001b[1;34m()\u001b[0m\n",
      "\u001b[1;32mpandas\\_libs\\index.pyx\u001b[0m in \u001b[0;36mpandas._libs.index.IndexEngine.get_loc\u001b[1;34m()\u001b[0m\n",
      "\u001b[1;32mpandas\\_libs\\hashtable_class_helper.pxi\u001b[0m in \u001b[0;36mpandas._libs.hashtable.PyObjectHashTable.get_item\u001b[1;34m()\u001b[0m\n",
      "\u001b[1;32mpandas\\_libs\\hashtable_class_helper.pxi\u001b[0m in \u001b[0;36mpandas._libs.hashtable.PyObjectHashTable.get_item\u001b[1;34m()\u001b[0m\n",
      "\u001b[1;31mKeyError\u001b[0m: 'Rel1PHHunter30'",
      "\nDuring handling of the above exception, another exception occurred:\n",
      "\u001b[1;31mKeyError\u001b[0m                                  Traceback (most recent call last)",
      "\u001b[1;32m<ipython-input-19-e80e8fbd588f>\u001b[0m in \u001b[0;36m<module>\u001b[1;34m()\u001b[0m\n\u001b[0;32m      6\u001b[0m \u001b[1;32mimport\u001b[0m \u001b[0mnumpy\u001b[0m \u001b[1;32mas\u001b[0m \u001b[0mnp\u001b[0m\u001b[1;33m\u001b[0m\u001b[0m\n\u001b[0;32m      7\u001b[0m \u001b[1;33m\u001b[0m\u001b[0m\n\u001b[1;32m----> 8\u001b[1;33m \u001b[0mjunge\u001b[0m \u001b[1;33m=\u001b[0m \u001b[0mkassel\u001b[0m\u001b[1;33m[\u001b[0m\u001b[1;34m\"Rel1PHHunter30\"\u001b[0m\u001b[1;33m]\u001b[0m\u001b[1;33m*\u001b[0m\u001b[1;36m100\u001b[0m\u001b[1;33m\u001b[0m\u001b[0m\n\u001b[0m\u001b[0;32m      9\u001b[0m \u001b[0mmittlere\u001b[0m \u001b[1;33m=\u001b[0m \u001b[0mkassel\u001b[0m\u001b[1;33m[\u001b[0m\u001b[1;34m\"Rel1PHH30bis60\"\u001b[0m\u001b[1;33m]\u001b[0m\u001b[1;33m*\u001b[0m\u001b[1;36m100\u001b[0m\u001b[1;33m\u001b[0m\u001b[0m\n\u001b[0;32m     10\u001b[0m \u001b[0malte\u001b[0m \u001b[1;33m=\u001b[0m \u001b[0mkassel\u001b[0m\u001b[1;33m[\u001b[0m\u001b[1;34m\"Rel1PHHueber60\"\u001b[0m\u001b[1;33m]\u001b[0m\u001b[1;33m*\u001b[0m\u001b[1;36m100\u001b[0m\u001b[1;33m\u001b[0m\u001b[0m\n",
      "\u001b[1;32m~\\Anaconda3\\lib\\site-packages\\pandas\\core\\frame.py\u001b[0m in \u001b[0;36m__getitem__\u001b[1;34m(self, key)\u001b[0m\n\u001b[0;32m   2686\u001b[0m             \u001b[1;32mreturn\u001b[0m \u001b[0mself\u001b[0m\u001b[1;33m.\u001b[0m\u001b[0m_getitem_multilevel\u001b[0m\u001b[1;33m(\u001b[0m\u001b[0mkey\u001b[0m\u001b[1;33m)\u001b[0m\u001b[1;33m\u001b[0m\u001b[0m\n\u001b[0;32m   2687\u001b[0m         \u001b[1;32melse\u001b[0m\u001b[1;33m:\u001b[0m\u001b[1;33m\u001b[0m\u001b[0m\n\u001b[1;32m-> 2688\u001b[1;33m             \u001b[1;32mreturn\u001b[0m \u001b[0mself\u001b[0m\u001b[1;33m.\u001b[0m\u001b[0m_getitem_column\u001b[0m\u001b[1;33m(\u001b[0m\u001b[0mkey\u001b[0m\u001b[1;33m)\u001b[0m\u001b[1;33m\u001b[0m\u001b[0m\n\u001b[0m\u001b[0;32m   2689\u001b[0m \u001b[1;33m\u001b[0m\u001b[0m\n\u001b[0;32m   2690\u001b[0m     \u001b[1;32mdef\u001b[0m \u001b[0m_getitem_column\u001b[0m\u001b[1;33m(\u001b[0m\u001b[0mself\u001b[0m\u001b[1;33m,\u001b[0m \u001b[0mkey\u001b[0m\u001b[1;33m)\u001b[0m\u001b[1;33m:\u001b[0m\u001b[1;33m\u001b[0m\u001b[0m\n",
      "\u001b[1;32m~\\Anaconda3\\lib\\site-packages\\pandas\\core\\frame.py\u001b[0m in \u001b[0;36m_getitem_column\u001b[1;34m(self, key)\u001b[0m\n\u001b[0;32m   2693\u001b[0m         \u001b[1;31m# get column\u001b[0m\u001b[1;33m\u001b[0m\u001b[1;33m\u001b[0m\u001b[0m\n\u001b[0;32m   2694\u001b[0m         \u001b[1;32mif\u001b[0m \u001b[0mself\u001b[0m\u001b[1;33m.\u001b[0m\u001b[0mcolumns\u001b[0m\u001b[1;33m.\u001b[0m\u001b[0mis_unique\u001b[0m\u001b[1;33m:\u001b[0m\u001b[1;33m\u001b[0m\u001b[0m\n\u001b[1;32m-> 2695\u001b[1;33m             \u001b[1;32mreturn\u001b[0m \u001b[0mself\u001b[0m\u001b[1;33m.\u001b[0m\u001b[0m_get_item_cache\u001b[0m\u001b[1;33m(\u001b[0m\u001b[0mkey\u001b[0m\u001b[1;33m)\u001b[0m\u001b[1;33m\u001b[0m\u001b[0m\n\u001b[0m\u001b[0;32m   2696\u001b[0m \u001b[1;33m\u001b[0m\u001b[0m\n\u001b[0;32m   2697\u001b[0m         \u001b[1;31m# duplicate columns & possible reduce dimensionality\u001b[0m\u001b[1;33m\u001b[0m\u001b[1;33m\u001b[0m\u001b[0m\n",
      "\u001b[1;32m~\\Anaconda3\\lib\\site-packages\\pandas\\core\\generic.py\u001b[0m in \u001b[0;36m_get_item_cache\u001b[1;34m(self, item)\u001b[0m\n\u001b[0;32m   2487\u001b[0m         \u001b[0mres\u001b[0m \u001b[1;33m=\u001b[0m \u001b[0mcache\u001b[0m\u001b[1;33m.\u001b[0m\u001b[0mget\u001b[0m\u001b[1;33m(\u001b[0m\u001b[0mitem\u001b[0m\u001b[1;33m)\u001b[0m\u001b[1;33m\u001b[0m\u001b[0m\n\u001b[0;32m   2488\u001b[0m         \u001b[1;32mif\u001b[0m \u001b[0mres\u001b[0m \u001b[1;32mis\u001b[0m \u001b[1;32mNone\u001b[0m\u001b[1;33m:\u001b[0m\u001b[1;33m\u001b[0m\u001b[0m\n\u001b[1;32m-> 2489\u001b[1;33m             \u001b[0mvalues\u001b[0m \u001b[1;33m=\u001b[0m \u001b[0mself\u001b[0m\u001b[1;33m.\u001b[0m\u001b[0m_data\u001b[0m\u001b[1;33m.\u001b[0m\u001b[0mget\u001b[0m\u001b[1;33m(\u001b[0m\u001b[0mitem\u001b[0m\u001b[1;33m)\u001b[0m\u001b[1;33m\u001b[0m\u001b[0m\n\u001b[0m\u001b[0;32m   2490\u001b[0m             \u001b[0mres\u001b[0m \u001b[1;33m=\u001b[0m \u001b[0mself\u001b[0m\u001b[1;33m.\u001b[0m\u001b[0m_box_item_values\u001b[0m\u001b[1;33m(\u001b[0m\u001b[0mitem\u001b[0m\u001b[1;33m,\u001b[0m \u001b[0mvalues\u001b[0m\u001b[1;33m)\u001b[0m\u001b[1;33m\u001b[0m\u001b[0m\n\u001b[0;32m   2491\u001b[0m             \u001b[0mcache\u001b[0m\u001b[1;33m[\u001b[0m\u001b[0mitem\u001b[0m\u001b[1;33m]\u001b[0m \u001b[1;33m=\u001b[0m \u001b[0mres\u001b[0m\u001b[1;33m\u001b[0m\u001b[0m\n",
      "\u001b[1;32m~\\Anaconda3\\lib\\site-packages\\pandas\\core\\internals.py\u001b[0m in \u001b[0;36mget\u001b[1;34m(self, item, fastpath)\u001b[0m\n\u001b[0;32m   4113\u001b[0m \u001b[1;33m\u001b[0m\u001b[0m\n\u001b[0;32m   4114\u001b[0m             \u001b[1;32mif\u001b[0m \u001b[1;32mnot\u001b[0m \u001b[0misna\u001b[0m\u001b[1;33m(\u001b[0m\u001b[0mitem\u001b[0m\u001b[1;33m)\u001b[0m\u001b[1;33m:\u001b[0m\u001b[1;33m\u001b[0m\u001b[0m\n\u001b[1;32m-> 4115\u001b[1;33m                 \u001b[0mloc\u001b[0m \u001b[1;33m=\u001b[0m \u001b[0mself\u001b[0m\u001b[1;33m.\u001b[0m\u001b[0mitems\u001b[0m\u001b[1;33m.\u001b[0m\u001b[0mget_loc\u001b[0m\u001b[1;33m(\u001b[0m\u001b[0mitem\u001b[0m\u001b[1;33m)\u001b[0m\u001b[1;33m\u001b[0m\u001b[0m\n\u001b[0m\u001b[0;32m   4116\u001b[0m             \u001b[1;32melse\u001b[0m\u001b[1;33m:\u001b[0m\u001b[1;33m\u001b[0m\u001b[0m\n\u001b[0;32m   4117\u001b[0m                 \u001b[0mindexer\u001b[0m \u001b[1;33m=\u001b[0m \u001b[0mnp\u001b[0m\u001b[1;33m.\u001b[0m\u001b[0marange\u001b[0m\u001b[1;33m(\u001b[0m\u001b[0mlen\u001b[0m\u001b[1;33m(\u001b[0m\u001b[0mself\u001b[0m\u001b[1;33m.\u001b[0m\u001b[0mitems\u001b[0m\u001b[1;33m)\u001b[0m\u001b[1;33m)\u001b[0m\u001b[1;33m[\u001b[0m\u001b[0misna\u001b[0m\u001b[1;33m(\u001b[0m\u001b[0mself\u001b[0m\u001b[1;33m.\u001b[0m\u001b[0mitems\u001b[0m\u001b[1;33m)\u001b[0m\u001b[1;33m]\u001b[0m\u001b[1;33m\u001b[0m\u001b[0m\n",
      "\u001b[1;32m~\\Anaconda3\\lib\\site-packages\\pandas\\core\\indexes\\base.py\u001b[0m in \u001b[0;36mget_loc\u001b[1;34m(self, key, method, tolerance)\u001b[0m\n\u001b[0;32m   3078\u001b[0m                 \u001b[1;32mreturn\u001b[0m \u001b[0mself\u001b[0m\u001b[1;33m.\u001b[0m\u001b[0m_engine\u001b[0m\u001b[1;33m.\u001b[0m\u001b[0mget_loc\u001b[0m\u001b[1;33m(\u001b[0m\u001b[0mkey\u001b[0m\u001b[1;33m)\u001b[0m\u001b[1;33m\u001b[0m\u001b[0m\n\u001b[0;32m   3079\u001b[0m             \u001b[1;32mexcept\u001b[0m \u001b[0mKeyError\u001b[0m\u001b[1;33m:\u001b[0m\u001b[1;33m\u001b[0m\u001b[0m\n\u001b[1;32m-> 3080\u001b[1;33m                 \u001b[1;32mreturn\u001b[0m \u001b[0mself\u001b[0m\u001b[1;33m.\u001b[0m\u001b[0m_engine\u001b[0m\u001b[1;33m.\u001b[0m\u001b[0mget_loc\u001b[0m\u001b[1;33m(\u001b[0m\u001b[0mself\u001b[0m\u001b[1;33m.\u001b[0m\u001b[0m_maybe_cast_indexer\u001b[0m\u001b[1;33m(\u001b[0m\u001b[0mkey\u001b[0m\u001b[1;33m)\u001b[0m\u001b[1;33m)\u001b[0m\u001b[1;33m\u001b[0m\u001b[0m\n\u001b[0m\u001b[0;32m   3081\u001b[0m \u001b[1;33m\u001b[0m\u001b[0m\n\u001b[0;32m   3082\u001b[0m         \u001b[0mindexer\u001b[0m \u001b[1;33m=\u001b[0m \u001b[0mself\u001b[0m\u001b[1;33m.\u001b[0m\u001b[0mget_indexer\u001b[0m\u001b[1;33m(\u001b[0m\u001b[1;33m[\u001b[0m\u001b[0mkey\u001b[0m\u001b[1;33m]\u001b[0m\u001b[1;33m,\u001b[0m \u001b[0mmethod\u001b[0m\u001b[1;33m=\u001b[0m\u001b[0mmethod\u001b[0m\u001b[1;33m,\u001b[0m \u001b[0mtolerance\u001b[0m\u001b[1;33m=\u001b[0m\u001b[0mtolerance\u001b[0m\u001b[1;33m)\u001b[0m\u001b[1;33m\u001b[0m\u001b[0m\n",
      "\u001b[1;32mpandas\\_libs\\index.pyx\u001b[0m in \u001b[0;36mpandas._libs.index.IndexEngine.get_loc\u001b[1;34m()\u001b[0m\n",
      "\u001b[1;32mpandas\\_libs\\index.pyx\u001b[0m in \u001b[0;36mpandas._libs.index.IndexEngine.get_loc\u001b[1;34m()\u001b[0m\n",
      "\u001b[1;32mpandas\\_libs\\hashtable_class_helper.pxi\u001b[0m in \u001b[0;36mpandas._libs.hashtable.PyObjectHashTable.get_item\u001b[1;34m()\u001b[0m\n",
      "\u001b[1;32mpandas\\_libs\\hashtable_class_helper.pxi\u001b[0m in \u001b[0;36mpandas._libs.hashtable.PyObjectHashTable.get_item\u001b[1;34m()\u001b[0m\n",
      "\u001b[1;31mKeyError\u001b[0m: 'Rel1PHHunter30'"
     ]
    }
   ],
   "source": [
    "# Zusammenfassung:\n",
    "# Grafische Darstellung der Entwicklung (2007-2017) der prozentualen Anteile der Altersgruppen am Einpersonhaushalt:\n",
    "\n",
    "# Definieren der Variablen für die lesbarkeit und Umrechnen in prozentuale Anteile\n",
    "\n",
    "import numpy as np\n",
    "\n",
    "junge = kassel[\"Rel1PHHunter30\"]*100\n",
    "mittlere = kassel[\"Rel1PHH30bis60\"]*100\n",
    "alte = kassel[\"Rel1PHHueber60\"]*100\n",
    "\n",
    "# Erstellen von Balken, sodass sie aufeinander liegen und mit verschiedenem Farbton unterschieden werden können \n",
    "\n",
    "serie1 = plt.bar(range(len(kassel)), junge, color=\"CornflowerBlue\") \n",
    "serie2 = plt.bar(range(len(kassel)), mittlere, bottom=junge, color=\"Blue\") \n",
    "serie3 = plt.bar(range(len(kassel)), alte, bottom=junge+mittlere, color=\"DarkBlue\")\n",
    "\n",
    "# Benennen der Grafik und der x-Achse  \n",
    "\n",
    "plt.xticks(range(len(kassel)), kassel[\"Jahr\"])\n",
    "plt.title(\"Anteil der 3 Altersgruppen an den gesamten Einpersonhaushalten (in %)\")\n",
    "plt.xlabel(\"Jahr\")\n",
    "\n",
    "# Einfügen der Legende\n",
    "# Offene Frage: wie verschiebt man die Legende?? (ist bislang nicht geglückt..)\n",
    "\n",
    "plt.legend((serie1,serie2,serie3), (\"1PHHunter30\", \"1PHH30bis60\", \"1PHHueber60\"), loc=\"center left\", bbox_to_anchor=(1, 0.5))\n",
    "\n",
    "\n",
    "plt.show()"
   ]
  },
  {
   "cell_type": "code",
   "execution_count": 20,
   "metadata": {},
   "outputs": [
    {
     "data": {
      "image/png": "[encoded data removed]",
      "text/plain": [
       "<Figure size 864x432 with 1 Axes>"
      ]
     },
     "metadata": {
      "needs_background": "light"
     },
     "output_type": "display_data"
    }
   ],
   "source": [
    "# Zusammenfassung\n",
    "# Grafische Darstellung der Entwicklung (2007-2017) der Altersgruppen am Einpersonenhaushalt - absolute Zahlen:\n",
    "import numpy as np\n",
    "\n",
    "junge = kassel[\"1PHHunter30\"]\n",
    "mittlere = kassel[\"1PHH30bis60\"]\n",
    "alte = kassel[\"1PHHueber60\"]\n",
    "\n",
    "n_groups = 11\n",
    "\n",
    "\n",
    "plt.figure(figsize=(12, 6))\n",
    "index = np.arange(n_groups)\n",
    "opacity = 0.9\n",
    "bar_width = 0.3\n",
    "\n",
    "rects1 = plt.bar(index, junge, bar_width, alpha=opacity, color='CornflowerBlue', label='1PHHunter30')\n",
    " \n",
    "rects2 = plt.bar(index + bar_width, mittlere, bar_width, alpha=opacity, color='Blue', label='1PHH30bis60')\n",
    "\n",
    "rects3 = plt.bar(index + bar_width*2, alte, bar_width, alpha=opacity, color='DarkBlue',label='1PHHueber60')\n",
    "\n",
    " \n",
    "plt.xlabel(\"Jahr\")\n",
    "plt.title(\"Anteile der 3 Altersgruppen an der Gesamtzahl der Einpersonhaushalte (absolute Häufigkeiten)\")\n",
    "plt.xticks(range(len(kassel)), kassel['Jahr'])\n",
    "plt.legend(loc=\"center left\", bbox_to_anchor=(1, 0.5))\n",
    "\n",
    " \n",
    "plt.show()"
   ]
  },
  {
   "cell_type": "code",
   "execution_count": 21,
   "metadata": {},
   "outputs": [
    {
     "data": {
      "text/html": [
       "<div>\n",
       "<style scoped>\n",
       "    .dataframe tbody tr th:only-of-type {\n",
       "        vertical-align: middle;\n",
       "    }\n",
       "\n",
       "    .dataframe tbody tr th {\n",
       "        vertical-align: top;\n",
       "    }\n",
       "\n",
       "    .dataframe thead th {\n",
       "        text-align: right;\n",
       "    }\n",
       "</style>\n",
       "<table border=\"1\" class=\"dataframe\">\n",
       "  <thead>\n",
       "    <tr style=\"text-align: right;\">\n",
       "      <th></th>\n",
       "      <th>Jahr</th>\n",
       "      <th>Ewgesamt</th>\n",
       "      <th>EWunter30</th>\n",
       "      <th>EW30bis60</th>\n",
       "      <th>EWueber60</th>\n",
       "      <th>HHgesamt</th>\n",
       "      <th>1PHHgesamt</th>\n",
       "      <th>1PHHunter30</th>\n",
       "      <th>1PHH30bis60</th>\n",
       "      <th>1PHHueber60</th>\n",
       "      <th>Rel1PHH</th>\n",
       "      <th>RelEW60</th>\n",
       "      <th>RelEW30</th>\n",
       "      <th>RelEW30bis60</th>\n",
       "    </tr>\n",
       "  </thead>\n",
       "  <tbody>\n",
       "    <tr>\n",
       "      <th>count</th>\n",
       "      <td>11.000000</td>\n",
       "      <td>11.000000</td>\n",
       "      <td>11.000000</td>\n",
       "      <td>11.000000</td>\n",
       "      <td>11.000000</td>\n",
       "      <td>11.000000</td>\n",
       "      <td>11.000000</td>\n",
       "      <td>11.000000</td>\n",
       "      <td>11.000000</td>\n",
       "      <td>11.000000</td>\n",
       "      <td>11.000000</td>\n",
       "      <td>11.000000</td>\n",
       "      <td>11.000000</td>\n",
       "      <td>11.000000</td>\n",
       "    </tr>\n",
       "    <tr>\n",
       "      <th>mean</th>\n",
       "      <td>2012.000000</td>\n",
       "      <td>196295.363636</td>\n",
       "      <td>36140.545455</td>\n",
       "      <td>80202.818182</td>\n",
       "      <td>49712.909091</td>\n",
       "      <td>105107.454545</td>\n",
       "      <td>53059.000000</td>\n",
       "      <td>13520.181818</td>\n",
       "      <td>22719.545455</td>\n",
       "      <td>16819.272727</td>\n",
       "      <td>0.504532</td>\n",
       "      <td>0.253296</td>\n",
       "      <td>0.183992</td>\n",
       "      <td>0.408640</td>\n",
       "    </tr>\n",
       "    <tr>\n",
       "      <th>std</th>\n",
       "      <td>3.316625</td>\n",
       "      <td>4220.265899</td>\n",
       "      <td>2056.437714</td>\n",
       "      <td>1171.415197</td>\n",
       "      <td>660.447342</td>\n",
       "      <td>2796.627553</td>\n",
       "      <td>2638.602319</td>\n",
       "      <td>1210.824828</td>\n",
       "      <td>1101.796566</td>\n",
       "      <td>595.237447</td>\n",
       "      <td>0.011913</td>\n",
       "      <td>0.002129</td>\n",
       "      <td>0.006646</td>\n",
       "      <td>0.003319</td>\n",
       "    </tr>\n",
       "    <tr>\n",
       "      <th>min</th>\n",
       "      <td>2007.000000</td>\n",
       "      <td>191959.000000</td>\n",
       "      <td>33107.000000</td>\n",
       "      <td>78687.000000</td>\n",
       "      <td>48966.000000</td>\n",
       "      <td>102003.000000</td>\n",
       "      <td>49692.000000</td>\n",
       "      <td>11660.000000</td>\n",
       "      <td>21157.000000</td>\n",
       "      <td>15780.000000</td>\n",
       "      <td>0.487162</td>\n",
       "      <td>0.249915</td>\n",
       "      <td>0.172324</td>\n",
       "      <td>0.402704</td>\n",
       "    </tr>\n",
       "    <tr>\n",
       "      <th>25%</th>\n",
       "      <td>2009.500000</td>\n",
       "      <td>192676.500000</td>\n",
       "      <td>34786.500000</td>\n",
       "      <td>79238.000000</td>\n",
       "      <td>49201.500000</td>\n",
       "      <td>102625.500000</td>\n",
       "      <td>50735.000000</td>\n",
       "      <td>12616.500000</td>\n",
       "      <td>21880.500000</td>\n",
       "      <td>16516.000000</td>\n",
       "      <td>0.495636</td>\n",
       "      <td>0.251543</td>\n",
       "      <td>0.180541</td>\n",
       "      <td>0.407520</td>\n",
       "    </tr>\n",
       "    <tr>\n",
       "      <th>50%</th>\n",
       "      <td>2012.000000</td>\n",
       "      <td>195422.000000</td>\n",
       "      <td>35958.000000</td>\n",
       "      <td>80114.000000</td>\n",
       "      <td>49521.000000</td>\n",
       "      <td>103884.000000</td>\n",
       "      <td>52210.000000</td>\n",
       "      <td>13238.000000</td>\n",
       "      <td>22628.000000</td>\n",
       "      <td>16886.000000</td>\n",
       "      <td>0.502865</td>\n",
       "      <td>0.253405</td>\n",
       "      <td>0.184002</td>\n",
       "      <td>0.409296</td>\n",
       "    </tr>\n",
       "    <tr>\n",
       "      <th>75%</th>\n",
       "      <td>2014.500000</td>\n",
       "      <td>198799.500000</td>\n",
       "      <td>37576.000000</td>\n",
       "      <td>81139.500000</td>\n",
       "      <td>50094.000000</td>\n",
       "      <td>107270.500000</td>\n",
       "      <td>55399.000000</td>\n",
       "      <td>14629.500000</td>\n",
       "      <td>23665.500000</td>\n",
       "      <td>17131.500000</td>\n",
       "      <td>0.515370</td>\n",
       "      <td>0.254966</td>\n",
       "      <td>0.188992</td>\n",
       "      <td>0.410371</td>\n",
       "    </tr>\n",
       "    <tr>\n",
       "      <th>max</th>\n",
       "      <td>2017.000000</td>\n",
       "      <td>204021.000000</td>\n",
       "      <td>39396.000000</td>\n",
       "      <td>82160.000000</td>\n",
       "      <td>50988.000000</td>\n",
       "      <td>109533.000000</td>\n",
       "      <td>56669.000000</td>\n",
       "      <td>15110.000000</td>\n",
       "      <td>24173.000000</td>\n",
       "      <td>17758.000000</td>\n",
       "      <td>0.519467</td>\n",
       "      <td>0.255705</td>\n",
       "      <td>0.193098</td>\n",
       "      <td>0.413781</td>\n",
       "    </tr>\n",
       "  </tbody>\n",
       "</table>\n",
       "</div>"
      ],
      "text/plain": [
       "              Jahr       Ewgesamt     EWunter30     EW30bis60     EWueber60  \\\n",
       "count    11.000000      11.000000     11.000000     11.000000     11.000000   \n",
       "mean   2012.000000  196295.363636  36140.545455  80202.818182  49712.909091   \n",
       "std       3.316625    4220.265899   2056.437714   1171.415197    660.447342   \n",
       "min    2007.000000  191959.000000  33107.000000  78687.000000  48966.000000   \n",
       "25%    2009.500000  192676.500000  34786.500000  79238.000000  49201.500000   \n",
       "50%    2012.000000  195422.000000  35958.000000  80114.000000  49521.000000   \n",
       "75%    2014.500000  198799.500000  37576.000000  81139.500000  50094.000000   \n",
       "max    2017.000000  204021.000000  39396.000000  82160.000000  50988.000000   \n",
       "\n",
       "            HHgesamt    1PHHgesamt   1PHHunter30   1PHH30bis60   1PHHueber60  \\\n",
       "count      11.000000     11.000000     11.000000     11.000000     11.000000   \n",
       "mean   105107.454545  53059.000000  13520.181818  22719.545455  16819.272727   \n",
       "std      2796.627553   2638.602319   1210.824828   1101.796566    595.237447   \n",
       "min    102003.000000  49692.000000  11660.000000  21157.000000  15780.000000   \n",
       "25%    102625.500000  50735.000000  12616.500000  21880.500000  16516.000000   \n",
       "50%    103884.000000  52210.000000  13238.000000  22628.000000  16886.000000   \n",
       "75%    107270.500000  55399.000000  14629.500000  23665.500000  17131.500000   \n",
       "max    109533.000000  56669.000000  15110.000000  24173.000000  17758.000000   \n",
       "\n",
       "         Rel1PHH    RelEW60    RelEW30  RelEW30bis60  \n",
       "count  11.000000  11.000000  11.000000     11.000000  \n",
       "mean    0.504532   0.253296   0.183992      0.408640  \n",
       "std     0.011913   0.002129   0.006646      0.003319  \n",
       "min     0.487162   0.249915   0.172324      0.402704  \n",
       "25%     0.495636   0.251543   0.180541      0.407520  \n",
       "50%     0.502865   0.253405   0.184002      0.409296  \n",
       "75%     0.515370   0.254966   0.188992      0.410371  \n",
       "max     0.519467   0.255705   0.193098      0.413781  "
      ]
     },
     "execution_count": 21,
     "metadata": {},
     "output_type": "execute_result"
    }
   ],
   "source": [
    "kassel.describe()"
   ]
  },
  {
   "cell_type": "code",
   "execution_count": 22,
   "metadata": {},
   "outputs": [
    {
     "data": {
      "text/html": [
       "<div>\n",
       "<style scoped>\n",
       "    .dataframe tbody tr th:only-of-type {\n",
       "        vertical-align: middle;\n",
       "    }\n",
       "\n",
       "    .dataframe tbody tr th {\n",
       "        vertical-align: top;\n",
       "    }\n",
       "\n",
       "    .dataframe thead th {\n",
       "        text-align: right;\n",
       "    }\n",
       "</style>\n",
       "<table border=\"1\" class=\"dataframe\">\n",
       "  <thead>\n",
       "    <tr style=\"text-align: right;\">\n",
       "      <th></th>\n",
       "      <th>Jahr</th>\n",
       "      <th>Ewgesamt</th>\n",
       "      <th>EWunter30</th>\n",
       "      <th>EW30bis60</th>\n",
       "      <th>EWueber60</th>\n",
       "      <th>HHgesamt</th>\n",
       "      <th>1PHHgesamt</th>\n",
       "      <th>1PHHunter30</th>\n",
       "      <th>1PHH30bis60</th>\n",
       "      <th>1PHHueber60</th>\n",
       "      <th>Rel1PHH</th>\n",
       "      <th>RelEW60</th>\n",
       "      <th>RelEW30</th>\n",
       "      <th>RelEW30bis60</th>\n",
       "    </tr>\n",
       "  </thead>\n",
       "  <tbody>\n",
       "    <tr>\n",
       "      <th>0</th>\n",
       "      <td>2007</td>\n",
       "      <td>192121</td>\n",
       "      <td>33107</td>\n",
       "      <td>79496</td>\n",
       "      <td>48966</td>\n",
       "      <td>102003</td>\n",
       "      <td>49692</td>\n",
       "      <td>11660</td>\n",
       "      <td>21157</td>\n",
       "      <td>16875</td>\n",
       "      <td>0.487162</td>\n",
       "      <td>0.254871</td>\n",
       "      <td>0.172324</td>\n",
       "      <td>0.413781</td>\n",
       "    </tr>\n",
       "    <tr>\n",
       "      <th>1</th>\n",
       "      <td>2008</td>\n",
       "      <td>191959</td>\n",
       "      <td>33763</td>\n",
       "      <td>78989</td>\n",
       "      <td>49045</td>\n",
       "      <td>102384</td>\n",
       "      <td>50656</td>\n",
       "      <td>12451</td>\n",
       "      <td>22425</td>\n",
       "      <td>15780</td>\n",
       "      <td>0.494765</td>\n",
       "      <td>0.255497</td>\n",
       "      <td>0.175887</td>\n",
       "      <td>0.411489</td>\n",
       "    </tr>\n",
       "    <tr>\n",
       "      <th>2</th>\n",
       "      <td>2009</td>\n",
       "      <td>192241</td>\n",
       "      <td>34449</td>\n",
       "      <td>78687</td>\n",
       "      <td>49157</td>\n",
       "      <td>102867</td>\n",
       "      <td>50467</td>\n",
       "      <td>12355</td>\n",
       "      <td>21226</td>\n",
       "      <td>16886</td>\n",
       "      <td>0.490604</td>\n",
       "      <td>0.255705</td>\n",
       "      <td>0.179197</td>\n",
       "      <td>0.409314</td>\n",
       "    </tr>\n",
       "    <tr>\n",
       "      <th>3</th>\n",
       "      <td>2010</td>\n",
       "      <td>193112</td>\n",
       "      <td>35124</td>\n",
       "      <td>79028</td>\n",
       "      <td>49246</td>\n",
       "      <td>103884</td>\n",
       "      <td>51726</td>\n",
       "      <td>12782</td>\n",
       "      <td>21735</td>\n",
       "      <td>17209</td>\n",
       "      <td>0.497921</td>\n",
       "      <td>0.255013</td>\n",
       "      <td>0.181884</td>\n",
       "      <td>0.409234</td>\n",
       "    </tr>\n",
       "    <tr>\n",
       "      <th>4</th>\n",
       "      <td>2011</td>\n",
       "      <td>194109</td>\n",
       "      <td>35400</td>\n",
       "      <td>79448</td>\n",
       "      <td>49482</td>\n",
       "      <td>102343</td>\n",
       "      <td>50814</td>\n",
       "      <td>12782</td>\n",
       "      <td>22026</td>\n",
       "      <td>16006</td>\n",
       "      <td>0.496507</td>\n",
       "      <td>0.254919</td>\n",
       "      <td>0.182372</td>\n",
       "      <td>0.409296</td>\n",
       "    </tr>\n",
       "  </tbody>\n",
       "</table>\n",
       "</div>"
      ],
      "text/plain": [
       "   Jahr  Ewgesamt  EWunter30  EW30bis60  EWueber60  HHgesamt  1PHHgesamt  \\\n",
       "0  2007    192121      33107      79496      48966    102003       49692   \n",
       "1  2008    191959      33763      78989      49045    102384       50656   \n",
       "2  2009    192241      34449      78687      49157    102867       50467   \n",
       "3  2010    193112      35124      79028      49246    103884       51726   \n",
       "4  2011    194109      35400      79448      49482    102343       50814   \n",
       "\n",
       "   1PHHunter30  1PHH30bis60  1PHHueber60   Rel1PHH   RelEW60   RelEW30  \\\n",
       "0        11660        21157        16875  0.487162  0.254871  0.172324   \n",
       "1        12451        22425        15780  0.494765  0.255497  0.175887   \n",
       "2        12355        21226        16886  0.490604  0.255705  0.179197   \n",
       "3        12782        21735        17209  0.497921  0.255013  0.181884   \n",
       "4        12782        22026        16006  0.496507  0.254919  0.182372   \n",
       "\n",
       "   RelEW30bis60  \n",
       "0      0.413781  \n",
       "1      0.411489  \n",
       "2      0.409314  \n",
       "3      0.409234  \n",
       "4      0.409296  "
      ]
     },
     "execution_count": 22,
     "metadata": {},
     "output_type": "execute_result"
    }
   ],
   "source": [
    "kassel.head()"
   ]
  },
  {
   "cell_type": "markdown",
   "metadata": {},
   "source": [
    "### 4.4 Berechnung der Fragestellung\n",
    "\n",
    "Inhaltliche Fragestellung: Welche der drei Altersgruppen macht den größten Anteil der Alleinwohnenden aus und wie entwickelten sich diese Anteile von 2007 bis 2017?\n",
    "\n",
    "Statistische Herangehensweise: die relative Häufigkeit jeder Altersgruppe in Bezug auf die Gesamtanzahl der Einpersonenhaushalte\n",
    "\n",
    "Benennen der Variablen: \n",
    "\n",
    "Var5 - die relative Häufigkeit der Einpersonenhaushalte der unter 30-jährigen an den Einpersonenhaushalten insgesamt\n",
    "\n",
    "Var6 - die relative Häufigkeit der Einpersonenhaushalte der 30 bis 60-jährigen an den Einpersonenhaushalten insgesamt\n",
    "\n",
    "Var7 - die relative Häufigkeit der Einpersonenhaushalte der über 60-jährigen an den Einpersonenhaushalten insgesamt\n",
    "\n",
    "Berechnen der Variablen: \n",
    "\n",
    "Var5 = Einpersonenhaushalte der unter 30-jährigen / Einpersonenhaushalte gesamt\n",
    "\n",
    "Var6 = Einpersonenhaushalte der 30 bis 60-jährigen / Einpersonenhaushalte gesamt\n",
    "\n",
    "Var7 = Einpersonenhaushalte der über 60-jährigen / Einpersonenhaushalte gesamt"
   ]
  },
  {
   "cell_type": "code",
   "execution_count": null,
   "metadata": {},
   "outputs": [],
   "source": [
    "# Berechnung von Var5 (relative Häufigkeit der Einpersonenhaushalte der unter 30-jährigen an den Einperonenhaushalten insgesamt)\n",
    "\n",
    "kassel[\"Rel1PHHunter30\"] = kassel[\"1PHHunter30\"] / kassel[\"1PHHgesamt\"]\n",
    "print(kassel[\"Rel1PHHunter30\"])"
   ]
  },
  {
   "cell_type": "markdown",
   "metadata": {},
   "source": [
    "Beschreibung der Entwicklung der Variable 5: \n",
    "\n",
    "Zwischen den Jahren 2008 und 2009 sinkt der Wert leicht. Ab 2009 steigt der Wert kontinierlich. Seinen Höhepunkt erreicht er im Jahre 2016, danach fällt er wieder leicht."
   ]
  },
  {
   "cell_type": "code",
   "execution_count": null,
   "metadata": {},
   "outputs": [],
   "source": [
    "# Grafische Darstellung der Entwicklung (2007-2017) der relativen Häufigkeit der Einpersonenhaushalte der unter 30-jährigen an den Einperonenhaushalten insgesamt:\n",
    "\n",
    "plt.plot((kassel[\"Rel1PHHunter30\"]*100)) \n",
    "plt.xticks(range(len(kassel)), kassel[\"Jahr\"])\n",
    "\n",
    "plt.ylim(0,100)\n",
    "\n",
    "# Achsen-Beschriftungen\n",
    "\n",
    "plt.ylabel('Anteil an den gesamten Einwohnern (%)')\n",
    "plt.xlabel('Jahr')\n",
    "\n",
    "# Diagramm-Beschriftung\n",
    "\n",
    "plt.title('Entwicklung der relativen Häufigkeit der Einpersonenhaushalte der unter 30-jährigen')\n",
    "          \n",
    "plt.show() "
   ]
  },
  {
   "cell_type": "code",
   "execution_count": null,
   "metadata": {},
   "outputs": [],
   "source": [
    "# Berechnung von Var6 (relative Häufigkeit der Einpersonenhaushalte der 30 bis 60-jährigen an den Einpersonenhaushalten insgesamt)\n",
    "\n",
    "kassel[\"Rel1PHH30bis60\"] = kassel[\"1PHH30bis60\"] / kassel[\"1PHHgesamt\"]\n",
    "print(kassel[\"Rel1PHH30bis60\"])"
   ]
  },
  {
   "cell_type": "markdown",
   "metadata": {},
   "source": [
    "Beschreibung der Entwicklung der Variable 6:\n",
    "\n",
    "Der Wert schwankt zwischen 2007 und 2017. Die höchste relative Häufigkeit kann in den Jahren 2011, 2012 und 2015 verzeichnet werden. Die niedrigste in den Jahren 2009 und 2010."
   ]
  },
  {
   "cell_type": "code",
   "execution_count": null,
   "metadata": {},
   "outputs": [],
   "source": [
    "# Grafische Darstellung der Entwicklung (2007-2017) der relativen Häufigkeit der Einpersonenhaushalte der zwischen 30-60-Jährigen an den Einperonenhaushalten insgesamt:\n",
    "\n",
    "plt.plot((kassel[\"Rel1PHH30bis60\"]*100)) \n",
    "plt.xticks(range(len(kassel)), kassel[\"Jahr\"])\n",
    "\n",
    "plt.ylim(0,100)\n",
    "\n",
    "# Achsen-Beschriftungen\n",
    "\n",
    "plt.ylabel('Anteil an den gesamten Einwohnern (%)')\n",
    "plt.xlabel('Jahr')\n",
    "\n",
    "# Diagramm-Beschriftung\n",
    "\n",
    "plt.title('Entwicklung der relativen Häufigkeit der Einpersonenhaushalte der 30-60-jährigen')\n",
    "          \n",
    "plt.show() "
   ]
  },
  {
   "cell_type": "code",
   "execution_count": null,
   "metadata": {},
   "outputs": [],
   "source": [
    "# Berechnung von Var7 (relative Häufigkeit der Einpersonenhaushalte der über 60-jährigen an den Haushalten insgesamt)\n",
    "\n",
    "kassel[\"Rel1PHHueber60\"] = kassel[\"1PHHueber60\"] / kassel[\"1PHHgesamt\"]\n",
    "print(kassel[\"Rel1PHHueber60\"])"
   ]
  },
  {
   "cell_type": "markdown",
   "metadata": {},
   "source": [
    "Beschreibung der Entwicklung der Variable 7: \n",
    "\n",
    "Die relative Häufigkeit ist im Jahr 2007 am höchsten. Der Wert schwankt in den darauffolgenden Jahren. Im Jahr 2015 erreicht er zwar seinen Tiefpunkt, aber in den beiden darauffolgenden Jahren kann wieder ein Anstieg beobachtet werden."
   ]
  },
  {
   "cell_type": "code",
   "execution_count": null,
   "metadata": {},
   "outputs": [],
   "source": [
    "# Grafische Darstellung der Entwicklung (2007-2017) der relativen Häufigkeit der Einpersonenhaushalte der über 60-Jährigen an den Einpersonenhaushalten insgesamt:\n",
    "\n",
    "plt.plot((kassel[\"Rel1PHHueber60\"]*100)) \n",
    "plt.xticks(range(len(kassel)), kassel[\"Jahr\"])\n",
    "\n",
    "plt.ylim(0,100)\n",
    "\n",
    "# Achsen-Beschriftungen\n",
    "\n",
    "plt.ylabel('Anteil an den gesamten Einwohnern (%)')\n",
    "plt.xlabel('Jahr')\n",
    "\n",
    "# Diagramm-Beschriftung\n",
    "\n",
    "plt.title('Entwicklung der relativen Häufigkeit der Einpersonenhaushalte der über 60-jährigen')\n",
    "\n",
    "plt.show() "
   ]
  },
  {
   "cell_type": "code",
   "execution_count": null,
   "metadata": {},
   "outputs": [],
   "source": [
    "# Zusammenfassung: Grafische Darstellung der relativen Häufigkeiten der Altersgruppen an den Einpersonenhaushalten\n",
    "\n",
    "#Umrechnen der Var4,5,6 (relative Häufigkeiten) % und Anpassen der Grafik:\n",
    "plt.plot((kassel[\"Rel1PHHunter30\"]*100), label='1PHHunter30')\n",
    "plt.plot((kassel[\"Rel1PHH30bis60\"]*100), label='1PHH30bis60')\n",
    "plt.plot((kassel[\"Rel1PHHueber60\"]*100), label='1PHHueber60')\n",
    "\n",
    "# Achsen-Beschriftungen\n",
    "\n",
    "plt.ylabel('Anteil an den gesamten Einpersonenhaushalten')\n",
    "plt.xlabel('Jahre 2007-2017')\n",
    "\n",
    "# Diagramm-Beschriftung\n",
    "\n",
    "plt.title('Entwicklung der prozentualen Anteile der Altersgruppen an den Bewohnern von Einpersonenhaushalten')\n",
    "plt.legend(loc=\"center left\", bbox_to_anchor=(1, 0.5))\n",
    "\n",
    "plt.show() "
   ]
  },
  {
   "cell_type": "code",
   "execution_count": null,
   "metadata": {},
   "outputs": [],
   "source": [
    "kassel.head()"
   ]
  },
  {
   "cell_type": "markdown",
   "metadata": {},
   "source": [
    "### 4.5 Auswertung\n",
    "\n",
    "Insgesamt ist der Anteil der unter 30-Jährigen, die in Einpersonenhaushalten leben in den Jahren 2007 bis 2017 gestiegen. Zu erkennen ist ein Anstieg von ca. 3%, von 23% auf ca. 26%. Von 2008 bis 2009 lässt sich ein minimaler Rückgang um 0,1% erkennen. Auch in den Jahren 2016 bis 2017 lässt sich eine prozentuale Abnahme feststellen. Hier sank der Anteil um ca. 0,4%. Der größte Anstieg jedoch erfolgte in den Jahren 2007 bis 2008. Der Anteil der unter 30-Jährigen, die in Einpersonenhaushalten leben stieg hier um ca. 1,1%. \n",
    "\n",
    "Der Anteil der 30-60-jährigen, die in Einpersonenhaushalten leben ist insgesamt von 2007 bis 2017 gesunken. Dieser Rückgang jedoch erfolgte nicht stetig. Über die Jahre stieg und fiel der Anteil immer wieder. Von 2007 bis 2008 lässt sich ein großer prozentualer Anstieg von ca. 1,7% erkennen. Den größten Rückgang weist die Berechnung in den Jahren 2008 bis 2010 auf. Hier sank der prozentuale Anteil um ca. 2,2%. Von 2010 bis 2011 lässt sich wieder eine Zunahme von ca. 1,3% identifizieren, von 2011 bis 2014 wieder eine Abnahme um 0,5%. Anschließend erfolgte wieder ein kurzer Anstieg von 2014 bis 2015 um ca. 0,3%. Ab 2015 bis 2017 sank der Anteil jedoch wieder um 0,7%. \n",
    "\n",
    "Diese Berechnung zeigt ebenfalls einen deutlichen Abwärtstrend. Von 2007 bis 2017 hat sich der Anteil der über 60-jährigen, die in Einpersonenhaushalten leben von ca. 34% auf ca. 31% verringert. Aber auch anhand dieser Berechnung ist zu erkennen, dass der Anteil ständig gestiegen und auch wieder gesunken ist. In den Jahren 2007 bis 2008 lässt sich ein Rückgang um ca. 2,8% erkennen, von 2008 bis 2009 hingegen erfolgt wieder ein starker Zuwachs um 2,3%. Ab 2009 sinkt der Anteil jedoch bis 2013 stetig um 2,6%. Abgelöst wird dieser Rückgang von einem erneuten minimalem Anstieg um 0,1%, gefolgt von einer Abnahme von 2014 bis 2015 um 0,6%. Ab dem Jahr 2015 jedoch steigt der Anteil der über 60-jährigen bis 2017 wieder um ca. 1,0%. Jedoch ist dieser prozentuale Anteil ca. 2,6% geringer als noch im Ausgangsjahr 2007."
   ]
  },
  {
   "cell_type": "markdown",
   "metadata": {},
   "source": [
    "## 5. Das Verhältnis zwischen den Altersgruppen und Einpersonenhaushalten\n",
    "\n",
    "Im Allgemeinen lässt sich sagen, dass der Anteil der Altersgruppe 30 bis 60 Jahre mit insgesamt 42,3 % im Jahr 2017 in Einpersonenhaushalten am meisten vertreten ist. Fast 50% dieser Altersgruppe leben in Einpersonenhaushalten.\n",
    "Der zweitgrößte Anteil ist mit 31,3% der Anteil der Altersgruppe der über 60-Jährigen. Mit 26,3% Anteil an Personen, die in Einpersonenhaushalten leben, verzeichnet die Altersgruppe der unter 30-Jährigen den geringsten Anteil.\n",
    "Die Altersgruppe der unter 30-jährigen ist jedoch die Einzige, die einen positiven Trend von 2007 bis 2017 aufzuweisen hat. Denn hier stieg der Anteil der unter 30-Jährigen, die in Einpersonenhaushalten leben, um ca. 2,8%.\n",
    "Dahingegen lassen sich bei den beiden anderen Altersgruppen nur Abwärtstrend erkennen. Bei den 30 bis 60-jährigen sank der Anteil um 0,2%, bei den über 60-jährigen sogar um ca. 2,6%.\n",
    "\n",
    "Seltsamerweise hat sich jedoch die dritte Hypothese bestätigt, die besagt, dass je höher der Anteil an Einpersonenhaushalten, desto geringer der Anteil der 30 bis 60-jährigen. Das widerspricht jedoch dem Ergebnis, dass generell mehr 30 bis 60-jährige in Einpersonenhaushalten am meisten vertreten sind und zwar insgesamt 42,3 %. Das kann damit zusammenhängen, dass insgesamt mehr Einwohner in Kassel vorhanden sind, die zwischen 30 und 60 Jahre alt sind. Aus diesem Grund erscheint es nur logisch, dass aus diesem Anteil auch der größte Anteil an Personen entsteht, die in Einpersonenhaushalten leben, sodass hierbei das Verhältnis zu den anderen Altersgruppen ungleich ist."
   ]
  },
  {
   "cell_type": "markdown",
   "metadata": {},
   "source": [
    "## 6. Fazit\n",
    "\n",
    "Der Anteil der Altersgruppe der 30 bis 60-jährigen ist in den Einpersonenhaushalten in Kassel am höchsten. Dieses Ergebnis stimmt somit nicht mit der Feststellung in der Literatur überein, dass vor allem jüngere und ältere Personen häufiger in Einpersonenhaushalten leben. Die statistische Berechnung hat zwar ergeben, dass die Hypothesen 2 und 3 verifiziert, die Hypothese 3 jedoch falsifiziert wurde, aber die Berechnung des Verhältnisses hat gezeigt, dass 30 bis 60-Jährige Personen in Kassel häufiger in Einpersonenhaushalten leben. Der Anteil dieser Altersgruppe betrug im Jahr 2017 nämlich 42,3%. \n",
    "Dieses Ergebnis widerspricht zudem der These, dass jüngere Personen unter 30 Jahren  aufgrund der späteren Familiengründung vermehrt in Einpersonenhaushalten leben."
   ]
  },
  {
   "cell_type": "markdown",
   "metadata": {},
   "source": [
    "## 7. Ausblick\n",
    "\n",
    "Es könnte der Unterschied von Einpersonenhaushalten in den Stadtteilen Kassels untersucht werden. Diese Forschungsfrage könnte auch in anderen deutschen Städten untersucht werden. In den anderen deutschen Städten könnte das Ergebnis auch anders ausfallen. Dieser Sachverhalt konnte aber im Rahmen dieses Projektes nicht untersucht werden, da es über den Rahmen hinausgehen würde. Das wäre evtl. für andere Forscher von Interesse. Es wäre auch möglich, einen Vergleich mit den anderen Städten durchzuführen.\n",
    "\n",
    "Des Weiteren könnte die Stadt Kassel die Altersgruppen anders einteilen und die Daten zu den Einpersonenhaushalten nochmals erheben, um ein valides Ergebnis zu erhalten."
   ]
  },
  {
   "cell_type": "markdown",
   "metadata": {},
   "source": [
    "## Literaturverzeichnis\n",
    "\n",
    "Baas, Stephan, Schmitt, Marina, Wahl, Hans-Werner (2008): Singles im mittleren und höheren Erwachsenenalter: sozialwissenschaftliche und psychologische Befunde.\n",
    "\n",
    "Blasius, Jörg (2017): Wohnen. In: Kühnhardt, Ludger, Mayer, Tilman (Hrsg.): Bonner Enzyklopädie der Globalität. S. 811 - 821.\n",
    "\n",
    "Bundesamt für Arbeit und Soziales (Hrsg.) (2013): Lebenslagen in Deutschland. Der Vierte Armuts- und Reichtumsbericht der Bundesregierung. Online verfügbar unter: https://www.bmas.de/SharedDocs/Downloads/DE/PDF-Publikationen-DinA4/a334-4-armuts-reichtumsbericht-2013.pdf%3f__blob%3dpublicationFile\n",
    "\n",
    "Droth, Wolfram, Dangschat, Jens (1985): Räumliche Konsequenzen der Entstehung „neuer Haushaltstypen“. In: Friedrich, Jürgen (Hrsg.): Die Städte in den 80er Jahren. Demographische, ökonomische und technologische Entwicklungen. S. 147 - 180.\n",
    "\n",
    "Fischer, Lars (2010): Wie man den Stand der Forschung herausfindet – 13 Tipps für die Recherche. Spektrum Scilogs. Online verfügbar unter:\n",
    "https://scilogs.spektrum.de/fischblog/stand-der-forschung/ \n",
    "\n",
    "Grünheid, Evelyn (2017): Wandel der Lebensformen in Deutschland. BiB Working Paper 2/2017. Wiesbaden: Bundesinstitut für Bevölkerungsforschung. Online verfügbar unter:\n",
    "https://nbn-resolving.org/urn:nbn:de:bib-wp-2017-022\n",
    "\n",
    "Hartl, Robert (Hrsg.) (2019): Wissenschaftliche Suchmaschinen im Vergleich - Suchmaschine für die Wissenschaft. Online verfügbar unter: https://www.suchmaschinen-datenbank.de/thema/spezial-suchmaschinen/wissenschaft/\n",
    "\n",
    "Hannemann, Christine (2014): Zum Wandel des Wohnens. In: Bundeszentrum für politische Bildung. Online verfügbar unter: http://www.bpb.de/apuz/183450/zum-wandel-des-wohnens#fr-footnode21 \n",
    "\n",
    "Institut der deutschen Wirtschaft Köln Consult GmbH, 2011,\n",
    "\n",
    "Kaschlik, Anke (2008): Segregation unter Stagnationsbedingungen: Selektive Veränderungen von sozialräumlicher Struktur, baulich- räumlichen Qualitäten und Wohnungsversorgung dargestellt am Beispiel der Stadt Kassel seit den 1970er Jahren. Universität Kassel, Dissertation. Online verfügbar unter:\n",
    "https://d-nb.info/994831854/34#\n",
    "\n",
    "Mächler, Ruth (1995): Alleinleben - eine individualisierte Lebensform? Zeitschrift für Familienforschung. Vol.7, nr. 2, S. 149-178.\n",
    "\n",
    "PC- Magazin (Hrsg.) (2010): „Wissenschaftliche Suchmaschinen im Überblick. Online verfügbar unter:\n",
    "https://www.pc-magazin.de/ratgeber/wissenschaftliche-suchmaschinen-im-ueberblick-973818-3323.html\n",
    "\n",
    "Sántha, Ágnes Rózsa (2016): Lebensform Single in Berlin und Budapest. \n",
    "\n",
    "Stadt Kassel (Hrsg.) (2017): Statistikatlas Kassel. Online verfügbar unter: https://statistikatlas.kassel.de/bericht1/atlas.html, verwiesen in https://www.serviceportal-kassel.de/cms11/verwaltung/statistik/ \n",
    "\n",
    "Stadt Kassel (Hrsg.) (2018): Statistische Informationen - Jahresbericht 2017: Zahlen, Daten und Fakten aus der Fachstelle Statistik Kassel, ISSN: 1862-7064. Online verfügbar unter: https://www.serviceportal-kassel.de/imperia/md/content/cms01/07rathaus-info/statistik/jahresbericht_2017.pdf\n",
    "\n",
    "Statistisches Bundesamt (Destatis) (Hrsg.) (2017): Entwicklung der Privathaushalte bis 2035: Ergebnisse der Haushaltsvorausberechnung - 2017. Online verfügbar unter:\n",
    "https://www.destatis.de/DE/Publikationen/Thematisch/Bevoelkerung/HaushalteMikrozensus/EntwicklungPrivathaushalte5124001179004.pdf?__blob=publicationFile\n",
    "\n",
    "Weick, Stefan (1990): Junge Frauen und Männer bleiben wieder länger im Elternhaus: Ergebnisse einer kohortenspezifischen Verlaufsdatenanalyse.Informationsdienst Soziale Indikatoren, 4, 5-8."
   ]
  }
 ],
 "metadata": {
  "kernelspec": {
   "display_name": "Python 3",
   "language": "python",
   "name": "python3"
  },
  "language_info": {
   "codemirror_mode": {
    "name": "ipython",
    "version": 3
   },
   "file_extension": ".py",
   "mimetype": "text/x-python",
   "name": "python",
   "nbconvert_exporter": "python",
   "pygments_lexer": "ipython3",
   "version": "3.7.0"
  }
 },
 "nbformat": 4,
 "nbformat_minor": 2
}
