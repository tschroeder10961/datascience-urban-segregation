{
 "cells": [
  {
   "cell_type": "markdown",
   "metadata": {},
   "source": [
    "# 1. Einleitung\n",
    "In Deutschland vollzieht sich ein zunehmender Trend, der die Haushaltsgröße betrifft. “Als privater Haushalt zählt hier jede zusammen wohnende und eine wirtschaftende Einheit bildende Personengemeinschaft sowie Personen, die allein wohnen und wirtschaften. Personen in Alters- oder Pflegeheimen, Kasernen und ähnlichen Einrichtungen, die dort keinen eigenen Haushalt führen, sondern gemeinschaftlich versorgt werden, zählen zu den Personen in Gemeinschaftsunterkünften und nicht zu den Personen in Privathaushalten.” (Statistisches Bundesamt (Destatis) (Hrsg.), 2017, S. 3). Der Anteil der Einpersonenhaushalte in ganz Deutschland ist von 1991 bis 2015 von 17,8 % aller Erwachsenen auf 24,3 % kontinuierlich angestiegen (vgl. Grünheid, 2017, S. 10). \n",
    "Zu der Stadt mit einer hohen Anzahl von Einpersonenhaushalten zählt u.a. Kassel. Im Jahr 2017 betrug der Anteil der Einpersonenhaushalte in Kassel 51,7% (vgl. Stadt Kassel (Hrsg.), 2017, S. 18). Aus diesem Grund wurde im Rahmen des Projektes: “Data Science: Spielerischer und fachwissenschaftlicher Umgang mit digitalen Daten” die Stadt Kassel hinsichtlich der Einpersonenhaushalte nach den Altersgruppen zwischen 2007 bis 2017 untersucht.\n",
    "\n",
    "# 1.1 Forschungsfrage und Abgrenzung\n",
    "Im Rahmen des Projektes wird die folgende Forschungsfrage untersucht: Eine Analyse der Einpersonenhaushalte in der Stadt Kassel bezogen auf die Altersgruppen in den Jahren 2007 bis 2017. Die Analyse beschränkt sich nur auf die Altersgruppen unter 30 Jahren, zwischen 30 bis 60 Jahren und über 60 Jahren.\n",
    "\n",
    "# 1.2 Hypothesen und Fragestellungen\n",
    "Es wurden die beiden inhaltlichen Hypothesen aufgestellt, dass je höher der Anteil an Einpersonenhaushalten ist, desto höher ist auch der Anteil der über 60-jährigen und der unter 30-jährigen. Aus diesen beiden inhaltlichen Hypothesen folgt dementsprechend die statistische Hypothese, dass ein positiver Korrelationskoeffizient zwischen den Einpersonenhaushalten und den über 60-jährigen sowie der unter 30-jährigen vermutet wird."
   ]
  },
  {
   "cell_type": "markdown",
   "metadata": {},
   "source": [
    "# 2. Forschungsstand\n",
    "Der Jahresbericht der Stadt Kassel 2018: “Statistische Informationen - Jahresbericht 2017” enthält Daten aus diversen Bereichen des städtischen Lebens (S. 1). Es werden u.a. Daten zur Haushaltsgröße tabellarisch zur Verfügung gestellt (S. 18 ff.). Zudem werden die Haushalte nach den Altersgruppen getrennt. Die Anzahl der Einpersonenhaushalte mit unter 30-jährigen betrug im Jahr 2017 14 920. Die Anzahl der Einpersonenhaushalte mit zwischen 30 und 60-jährigen betrug im Jahr 2017 23 991 und die Anzahl der Einpersonenhaushalte mit über 60-jährigen betrug im Jahr 2017 17 758 (S. 19).\n",
    "\n",
    "Grünheid (2017) behandelt in dem BiB Working Paper: “Wandel der Lebensformen in Deutschland” die Entwicklung der Lebensformen in Deutschland in den letzten beiden Jahrzehnten. Die Anzahl von Alleinlebenden in Einpersonenhaushalten ist von 1991 bis 2015 in Deutschland deutlich angestiegen. Insgesamt hat der Anteil von Alleinlebenden in Einpersonenhaushalten von jüngeren und älteren Personen über die Jahre zugenommen (S. 10 ff.).\n",
    "\n",
    "Die Studie des statistischen Bundesamtes (Destatis) aus dem Jahr 2017: “Entwicklung der Privathaushalte bis 2035” enthält eine Prognose der zukünftigen Entwicklung der Haushalte bis zum Jahr 2035 in ganz Deutschland. Diese Prognose wurde durch eine Haushaltsvorausberechnung erstellt. Die Berechnung hat ergeben, dass sich die Anzahl der Ein- und Zweipersonenhaushalte bis 2035 vergrößern wird. Im Gegensatz dazu wird sich die Zahl der Mehrpersonenhaushalte mit drei Personen und mehr verkleinern (S. 6 f.).\n",
    "\n",
    "\n",
    "# 3. Methode\n",
    "Es wurde vorerst nach relevanten Studien und Daten recherchiert. Es wurde hauptsächlich im Stadtportal Kassel recherchiert, aber auch in Google mit den Suchbegriffen: Haushaltsgröße UND Alter UND Geschlecht sowie Kassel in Zahlen.\n",
    "\n",
    "Nach der Literaturrecherche erfolgte die Datenbereinigung.\n",
    "\n",
    "Nach der Datenbereinigung erfolgte die Datenanalyse.\n",
    "\n",
    "# 4. Berechnung und Auswertung der Daten"
   ]
  },
  {
   "cell_type": "code",
   "execution_count": 10,
   "metadata": {},
   "outputs": [
    {
     "name": "stdout",
     "output_type": "stream",
     "text": [
      "      EWgesamt  EWunter30  EW30bis60  EWueber60  HHgesamt  1PHHgesamt  \\\n",
      "2007    192121      49052      45602      42072    102003       49692   \n",
      "2008    191959      49004      45549      42397    102384       50656   \n",
      "2009    192241      49177      45515      42510    102867       50467   \n",
      "2010    193112      49393      45524      42466    103884       51726   \n",
      "2011    194109      49623      45862      42588    102343       50814   \n",
      "2012    195422      49521      46600      42695    103825       52210   \n",
      "2013    196758      66270      51125      49662    105889       54076   \n",
      "2014    197092      66596      80572      49924    106459       54653   \n",
      "2015    200507      68790      81453      50264    108082       56145   \n",
      "2016    201907      69862      81458      50587    108913       56541   \n",
      "2017    204021      70873      82160      50988    109533       56669   \n",
      "\n",
      "      1PHHunter30  1PHH30bis60  1PHHueber60  \n",
      "2007        11660        21157        16875  \n",
      "2008        12451        22425        15780  \n",
      "2009        12355        21226        16886  \n",
      "2010        12782        21735        17209  \n",
      "2011        12782        22026        16006  \n",
      "2012        13238        22628        16344  \n",
      "2013        14165        23223        16688  \n",
      "2014        14341        23392        16920  \n",
      "2015        14918        24173        17054  \n",
      "2016        15110        23939        17492  \n",
      "2017        14920        23991        17758  \n"
     ]
    }
   ],
   "source": [
    "# Einfügen der Forschungsdatentabelle in Python:\n",
    "import pandas as pd\n",
    "kassel = pd.read_csv('Forschungsdaten_03_csv.csv', index_col=0, sep=\";\")\n",
    "print(kassel)"
   ]
  },
  {
   "cell_type": "markdown",
   "metadata": {},
   "source": [
    "# 4.1 Berechnung der ersten Hypothese"
   ]
  },
  {
   "cell_type": "code",
   "execution_count": null,
   "metadata": {},
   "outputs": [],
   "source": [
    "# 1. Inhaltliche Hypothese: Je höher der Anteil an Einpersonenhaushalten, desto höher der Anteil der über 60-jährigen.\n",
    "# 1. Statistische Hypothese: Vermutet wird ein positiver Korrelationskoeffizient zwischen Var1 und Var2.\n",
    "\n",
    "# Benennen der Variablen:\n",
    "# Var1 = 1PHHgesamt / HHgesamt\n",
    "# Var2 = EWueber60 / EWgesamt\n",
    "\n",
    "# Berechnung der relativen Häufigkeit der Einpersonenhaushalte:\n",
    "kassel[\"Rel1PHH\"] = kassel[\"1PHHgesamt\"] / kassel[\"HHgesamt\"]\n",
    "print(kassel)"
   ]
  },
  {
   "cell_type": "code",
   "execution_count": 12,
   "metadata": {},
   "outputs": [
    {
     "name": "stdout",
     "output_type": "stream",
     "text": [
      "      EWgesamt  EWunter30  EW30bis60  EWueber60  HHgesamt  1PHHgesamt  \\\n",
      "2007    192121      49052      45602      42072    102003       49692   \n",
      "2008    191959      49004      45549      42397    102384       50656   \n",
      "2009    192241      49177      45515      42510    102867       50467   \n",
      "2010    193112      49393      45524      42466    103884       51726   \n",
      "2011    194109      49623      45862      42588    102343       50814   \n",
      "2012    195422      49521      46600      42695    103825       52210   \n",
      "2013    196758      66270      51125      49662    105889       54076   \n",
      "2014    197092      66596      80572      49924    106459       54653   \n",
      "2015    200507      68790      81453      50264    108082       56145   \n",
      "2016    201907      69862      81458      50587    108913       56541   \n",
      "2017    204021      70873      82160      50988    109533       56669   \n",
      "\n",
      "      1PHHunter30  1PHH30bis60  1PHHueber60   Rel1PHH   RelEW60  \n",
      "2007        11660        21157        16875  0.487162  0.218987  \n",
      "2008        12451        22425        15780  0.494765  0.220865  \n",
      "2009        12355        21226        16886  0.490604  0.221129  \n",
      "2010        12782        21735        17209  0.497921  0.219903  \n",
      "2011        12782        22026        16006  0.496507  0.219403  \n",
      "2012        13238        22628        16344  0.502865  0.218476  \n",
      "2013        14165        23223        16688  0.510686  0.252401  \n",
      "2014        14341        23392        16920  0.513371  0.253303  \n",
      "2015        14918        24173        17054  0.519467  0.250685  \n",
      "2016        15110        23939        17492  0.519139  0.250546  \n",
      "2017        14920        23991        17758  0.517369  0.249915  \n"
     ]
    }
   ],
   "source": [
    "# Berechnung der relativen Häufigkeit der über 60-jährigen:\n",
    "kassel[\"RelEW60\"] = kassel[\"EWueber60\"] / kassel[\"EWgesamt\"]\n",
    "print(kassel)\n"
   ]
  },
  {
   "cell_type": "code",
   "execution_count": 13,
   "metadata": {},
   "outputs": [
    {
     "data": {
      "text/plain": [
       "0.9056696482355895"
      ]
     },
     "execution_count": 13,
     "metadata": {},
     "output_type": "execute_result"
    }
   ],
   "source": [
    "# Berechnung des Korrelationskoeffizienten nach Pearson:\n",
    "kassel[\"Rel1PHH\"].corr(kassel[\"RelEW60\"])"
   ]
  },
  {
   "cell_type": "code",
   "execution_count": 14,
   "metadata": {},
   "outputs": [],
   "source": [
    "# Ergebnis: positiver Korrelationskoeffizient, die Hypothese wurde verifiziert\n",
    "# Seltsame Auffälligkeit: von 2012 bis 2013 enormer Anstieg von über 60-jährigen, evtl. andere Datenerfassung, kann aber im Rahmen dieses Projektes nicht untersucht werden"
   ]
  },
  {
   "cell_type": "markdown",
   "metadata": {},
   "source": [
    "# 4.2 Berechnung der zweiten Hypothese"
   ]
  },
  {
   "cell_type": "code",
   "execution_count": 15,
   "metadata": {},
   "outputs": [
    {
     "name": "stdout",
     "output_type": "stream",
     "text": [
      "      EWgesamt  EWunter30  EW30bis60  EWueber60  HHgesamt  1PHHgesamt  \\\n",
      "2007    192121      49052      45602      42072    102003       49692   \n",
      "2008    191959      49004      45549      42397    102384       50656   \n",
      "2009    192241      49177      45515      42510    102867       50467   \n",
      "2010    193112      49393      45524      42466    103884       51726   \n",
      "2011    194109      49623      45862      42588    102343       50814   \n",
      "2012    195422      49521      46600      42695    103825       52210   \n",
      "2013    196758      66270      51125      49662    105889       54076   \n",
      "2014    197092      66596      80572      49924    106459       54653   \n",
      "2015    200507      68790      81453      50264    108082       56145   \n",
      "2016    201907      69862      81458      50587    108913       56541   \n",
      "2017    204021      70873      82160      50988    109533       56669   \n",
      "\n",
      "      1PHHunter30  1PHH30bis60  1PHHueber60   Rel1PHH   RelEW60  \n",
      "2007        11660        21157        16875  0.487162  0.218987  \n",
      "2008        12451        22425        15780  0.494765  0.220865  \n",
      "2009        12355        21226        16886  0.490604  0.221129  \n",
      "2010        12782        21735        17209  0.497921  0.219903  \n",
      "2011        12782        22026        16006  0.496507  0.219403  \n",
      "2012        13238        22628        16344  0.502865  0.218476  \n",
      "2013        14165        23223        16688  0.510686  0.252401  \n",
      "2014        14341        23392        16920  0.513371  0.253303  \n",
      "2015        14918        24173        17054  0.519467  0.250685  \n",
      "2016        15110        23939        17492  0.519139  0.250546  \n",
      "2017        14920        23991        17758  0.517369  0.249915  \n"
     ]
    }
   ],
   "source": [
    "# 2. Inhaltliche Hypothese: Je höher der Anteil an Einpersonenhaushalten, desto höher der Anteil der unter 30-jährigen.\n",
    "# 2. Statistische Hypothese: Vermutet wird ein positiver Korrelationskoeffizient zwischen Var1 und Var2.\n",
    "\n",
    "# Benennen der Variablen:\n",
    "# Var1 = 1PHHgesamt / HHgesamt\n",
    "# Var2 = EWunter30 / EWgesamt\n",
    "\n",
    "# Berechnung der relativen Häufigkeit der Einpersonenhaushalte:\n",
    "kassel[\"Rel1PHH\"] = kassel[\"1PHHgesamt\"] / kassel[\"HHgesamt\"]\n",
    "print(kassel)"
   ]
  },
  {
   "cell_type": "code",
   "execution_count": 16,
   "metadata": {},
   "outputs": [
    {
     "name": "stdout",
     "output_type": "stream",
     "text": [
      "      EWgesamt  EWunter30  EW30bis60  EWueber60  HHgesamt  1PHHgesamt  \\\n",
      "2007    192121      49052      45602      42072    102003       49692   \n",
      "2008    191959      49004      45549      42397    102384       50656   \n",
      "2009    192241      49177      45515      42510    102867       50467   \n",
      "2010    193112      49393      45524      42466    103884       51726   \n",
      "2011    194109      49623      45862      42588    102343       50814   \n",
      "2012    195422      49521      46600      42695    103825       52210   \n",
      "2013    196758      66270      51125      49662    105889       54076   \n",
      "2014    197092      66596      80572      49924    106459       54653   \n",
      "2015    200507      68790      81453      50264    108082       56145   \n",
      "2016    201907      69862      81458      50587    108913       56541   \n",
      "2017    204021      70873      82160      50988    109533       56669   \n",
      "\n",
      "      1PHHunter30  1PHH30bis60  1PHHueber60   Rel1PHH   RelEW60   RelEW30  \n",
      "2007        11660        21157        16875  0.487162  0.218987  0.255318  \n",
      "2008        12451        22425        15780  0.494765  0.220865  0.255284  \n",
      "2009        12355        21226        16886  0.490604  0.221129  0.255809  \n",
      "2010        12782        21735        17209  0.497921  0.219903  0.255774  \n",
      "2011        12782        22026        16006  0.496507  0.219403  0.255645  \n",
      "2012        13238        22628        16344  0.502865  0.218476  0.253405  \n",
      "2013        14165        23223        16688  0.510686  0.252401  0.336810  \n",
      "2014        14341        23392        16920  0.513371  0.253303  0.337893  \n",
      "2015        14918        24173        17054  0.519467  0.250685  0.343080  \n",
      "2016        15110        23939        17492  0.519139  0.250546  0.346011  \n",
      "2017        14920        23991        17758  0.517369  0.249915  0.347381  \n"
     ]
    }
   ],
   "source": [
    "# Berechnung der relativen Häufigkeit der unter 30-jährigen:\n",
    "kassel[\"RelEW30\"] = kassel[\"EWunter30\"] / kassel[\"EWgesamt\"]\n",
    "print(kassel)"
   ]
  },
  {
   "cell_type": "code",
   "execution_count": 17,
   "metadata": {},
   "outputs": [
    {
     "data": {
      "text/plain": [
       "0.9286636497619768"
      ]
     },
     "execution_count": 17,
     "metadata": {},
     "output_type": "execute_result"
    }
   ],
   "source": [
    "# Berechnung des Korrelationskoeffizienten nach Pearson:\n",
    "kassel[\"Rel1PHH\"].corr(kassel[\"RelEW30\"])"
   ]
  },
  {
   "cell_type": "code",
   "execution_count": 18,
   "metadata": {},
   "outputs": [],
   "source": [
    "# Ergebnis: positiver Korrelationskoeffizient, die Hypothese wurde verifiziert\n",
    "# Selbe Auffälligkeit, wie in der ersten Berechnung: von 2012 bis 2013 enormer Anstieg von unter 30-jährigen, evtl. andere Datenerfassung, kann aber im Rahmen dieses Projektes nicht untersucht werden"
   ]
  },
  {
   "cell_type": "markdown",
   "metadata": {},
   "source": [
    "# 5. Analyse der Daten\n",
    "# 6. Fazit\n",
    "# 7. Ausblick\n",
    "# Literaturverzeichnis\n"
   ]
  }
 ],
 "metadata": {
  "kernelspec": {
   "display_name": "Python 3",
   "language": "python",
   "name": "python3"
  },
  "language_info": {
   "codemirror_mode": {
    "name": "ipython",
    "version": 3
   },
   "file_extension": ".py",
   "mimetype": "text/x-python",
   "name": "python",
   "nbconvert_exporter": "python",
   "pygments_lexer": "ipython3",
   "version": "3.7.0"
  }
 },
 "nbformat": 4,
 "nbformat_minor": 2
}
