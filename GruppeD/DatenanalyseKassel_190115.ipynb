{
 "cells": [
  {
   "cell_type": "markdown",
   "metadata": {},
   "source": [
    "## 1. Einleitung \n",
    "\n",
    "In Deutschland vollzieht sich ein zunehmender Trend, der die Haushaltsgröße betrifft. “Als privater Haushalt zählt hier jede zusammen wohnende und eine wirtschaftende Einheit bildende Personengemeinschaft sowie Personen, die allein wohnen und wirtschaften. Personen in Alters- oder Pflegeheimen, Kasernen und ähnlichen Einrichtungen, die dort keinen eigenen Haushalt führen, sondern gemeinschaftlich versorgt werden, zählen zu den Personen in Gemeinschaftsunterkünften und nicht zu den Personen in Privathaushalten.” (Statistisches Bundesamt (Destatis) (Hrsg.), 2017, S. 3). Der Anteil der Einpersonenhaushalte in ganz Deutschland ist von 1991 bis 2015 von 17,8 % aller Erwachsenen auf 24,3 % kontinuierlich angestiegen (vgl. Grünheid, 2017, S. 10). Zu der Stadt mit einer hohen Anzahl von Einpersonenhaushalten zählt u.a. Kassel. Im Jahr 2017 betrug der Anteil der Einpersonenhaushalte in Kassel 51,7% (vgl. Stadt Kassel (Hrsg.), 2017, S. 18). Aus diesem Grund wurde im Rahmen des Projektes: “Data Science: Spielerischer und fachwissenschaftlicher Umgang mit digitalen Daten” die Stadt Kassel hinsichtlich der Einpersonenhaushalte nach den Altersgruppen zwischen 2007 bis 2017 untersucht.\n",
    "\n",
    "## 1.1 Forschungsfrage und Abgrenzung \n",
    "\n",
    "Im Rahmen des Projektes wird die folgende Forschungsfrage untersucht: Eine Analyse der Einpersonenhaushalte in der Stadt Kassel bezogen auf die Altersgruppen in den Jahren 2007 bis 2017. Die Analyse beschränkt sich nur auf die Altersgruppen unter 30 Jahren, zwischen 30 bis 60 Jahren und über 60 Jahren.\n",
    "\n",
    "## 1.2 Hypothesen und Fragestellung \n",
    "\n",
    "Es wurden die beiden inhaltlichen Hypothesen aufgestellt, dass je höher der Anteil an Einpersonenhaushalten ist, desto höher ist auch der Anteil der über 60-Jährigen und der unter 30-Jährigen. Aus diesen beiden inhaltlichen Hypothesen folgt dementsprechend die statistische Hypothese, dass ein positiver Korrelationskoeffizient zwischen den Einpersonenhaushalten und den über 60-Jährigen sowie der unter 30-Jährigen vermutet wird. Diese inhaltlichen Hypothesen wurden aus Grünheid 2017 entnommen: “Bei den Jüngeren und den Älteren (bis 70 Jahre) ist vor allem die steigende Zahl Alleinlebender (Alleinstehend im Einpersonenhaushalt) hervorzuheben.” (S. 29). Diese auf ganz Deutschland bezogene Aussage kann demnach auch auf Kassel übertragen werden. Es werden jedoch mit dieser Aussage die Altersgruppen der zwischen 30 bis 60-Jährigen ausgeschlossen. Dementsprechend wurde daraus die dritte inhaltliche Hypothese abgeleitet, dass je höher der Anteil an Einpersonenhaushalten ist, desto geringer ist auch der Anteil der 30 bis 60-Jährigen. Aus dieser dritten Hypothese folgt die statistische Hypothese, dass ein negativer Korrelationskoeffizient zwischen den Einpersonenhaushalten und den 30 bis 60-Jährigen erwartet wird.\n",
    "\n",
    "Des Weiteren wurde die folgende Fragestellung untersucht: Die Entwicklung des Verhältnisses der drei Altersgruppen in den Einpersonenhaushalten über die Jahre 2007-2017. Hierbei wurde die Entwicklung der in Einpersonenhaushalten lebenden Personen über die Jahre berechnet und hinsichtlich der drei Altersgruppen miteinander verglichen.\n",
    "\n",
    "## 2. Forschungsstand \n",
    "\n",
    "Der Jahresbericht der Stadt Kassel 2018: “Statistische Informationen - Jahresbericht 2017” enthält Daten aus diversen Bereichen des städtischen Lebens (S. 1). Es werden u.a. Daten zur Haushaltsgröße tabellarisch zur Verfügung gestellt (S. 18 ff.). Zudem werden die Haushalte nach den Altersgruppen getrennt. Die Anzahl der Einpersonenhaushalte mit unter 30-Jährigen betrug im Jahr 2017 14 920. Die Anzahl der Einpersonenhaushalte mit zwischen 30 und 60-Jährigen betrug im Jahr 2017 23 991 und die Anzahl der Einpersonenhaushalte mit über 60-Jährigen betrug im Jahr 2017 17 758 (S. 19).\n",
    "\n",
    "Des Weiteren hat die Stadt Kassel einen Statistikatlas 2017 veröffentlicht. In diesem Statistikatlas werden die Daten zur Stadt Kassel und zu deren Stadtteilen grafisch von 2005 bis 2017 visualisiert. Insgesamt wurden im Jahr 2017 109.533 Haushalte verzeichnet, wobei im vorderen Westen mehr Haushalte vorhanden waren als im Stadtteil Nordshausen. Im Durchschnitt lebten 1,86 Personen im Haushalt 2017 in ganz Kassel. Das unterscheidet sich zwischen den Stadtteilen, denn in Waldau lebten 2,28 und in Mitte nur 1,55 Personen im Haushalt. Der prozentuale Anteil unterscheidet sich ebenfalls zwischen den Stadtteilen. In Kassel Mitte wurde der höchste Anteil von Einpersonenhaushalten mit 67% verzeichnet, wohingegen in Waldau der Anteil 34,1% betrug. Der Statistikatlas Kassel enthält jedoch keine Daten zu den Altersgruppen, die in Einpersonenhaushalten leben, sondern nur allgemein zum Durchschnittsalter der Bevölkerung.\n",
    "\n",
    "Grünheid (2017) behandelt in dem BiB Working Paper: “Wandel der Lebensformen in Deutschland” die Entwicklung der Lebensformen in Deutschland in den letzten beiden Jahrzehnten. Die Anzahl von Alleinlebenden in Einpersonenhaushalten ist von 1991 bis 2015 in Deutschland deutlich angestiegen. Insgesamt hat der Anteil von Alleinlebenden in Einpersonenhaushalten von jüngeren und älteren Personen über die Jahre zugenommen (S. 10 ff.).\n",
    "\n",
    "Die Studie des statistischen Bundesamtes (Destatis) aus dem Jahr 2017: “Entwicklung der Privathaushalte bis 2035” enthält eine Prognose der zukünftigen Entwicklung der Haushalte bis zum Jahr 2035 in ganz Deutschland. Diese Prognose wurde durch eine Haushaltsvorausberechnung erstellt. Die Berechnung hat ergeben, dass sich die Anzahl der Ein- und Zweipersonenhaushalte bis 2035 vergrößern wird. Im Gegensatz dazu wird sich die Zahl der Mehrpersonenhaushalte mit drei Personen und mehr verkleinern (S. 6 f.).\n",
    "\n",
    "## 3. Methode \n",
    "\n",
    "In diesem Projekt wurde ein Methodenmix angewandt. Es wurde vorerst nach relevanten Studien und Daten recherchiert. Es wurde hauptsächlich im Stadtportal Kassel recherchiert, aber auch auf der Webseite des Statistischen Bundesamtes (Destatis) mit den Suchbegriffen: \"Privathaushalte\", \"Einpersonenhaushalte\" sowie \"Kassel in Zahlen\".\n",
    "\n",
    "Nach der Literaturrecherche und der Literaturanalyse erfolgte die Datenbereinigung.\n",
    "\n",
    "Nach der Datenbereinigung erfolgte die Datenanalyse.\n",
    "\n",
    "## 4. Berechnung des Verhältnisses zwischen Alter und Einpersonenhaushalten\n"
   ]
  },
  {
   "cell_type": "code",
   "execution_count": null,
   "metadata": {},
   "outputs": [],
   "source": [
    "#Importieren des Pandas-Pakets \n",
    "\n",
    "import pandas as pd\n",
    "\n",
    "#Importieren der bereinigten und angepassten Forschungsdatentabelle\n",
    "\n",
    "kassel = pd.read_csv('Forschungsdaten04csv.csv', sep=\";\")\n",
    "print(kassel)"
   ]
  },
  {
   "cell_type": "code",
   "execution_count": null,
   "metadata": {},
   "outputs": [],
   "source": [
    "# Entwicklungen und Zusammenhang der rel.Häufigkeit Einpersonenhaushalte und rel. Häufigkeit der über 60-jährigen Einwohner\n",
    "\n",
    "# 1. Inhaltliche Hypothese: Je höher der Anteil an Einpersonenhaushalten, desto höher der Anteil der über 60-Jährigen.\n",
    "# 1. Statistische Hypothese: Vermutet wird ein positiver Korrelationskoeffizient zwischen Var1 und Var2.\n",
    "\n",
    "# Benennen der Variablen: \n",
    "\n",
    "# Var1 - die relative Häufigkeit der Einpersonenhaushalte an den Haushalten insgesamt\n",
    "# Var2 - die relative Häufigkeit der Einwohner über 6o an den Einwohner insgesamt\n",
    "\n",
    "# Berechnen der Variablen: \n",
    "\n",
    "# Var1= 1PHHgesamt / HHgesamt \n",
    "# Var2 = EWueber60 / EWgesamt "
   ]
  },
  {
   "cell_type": "code",
   "execution_count": null,
   "metadata": {},
   "outputs": [],
   "source": [
    "# Berechnung Var1 (rel.Häufigkeit Einpersonenhaushalte): \n",
    "kassel[\"Rel1PHH\"] = kassel[\"1PHHgesamt\"] / kassel[\"HHgesamt\"]\n",
    "print(kassel[\"Rel1PHH\"])"
   ]
  },
  {
   "cell_type": "code",
   "execution_count": null,
   "metadata": {},
   "outputs": [],
   "source": [
    "# Beschreibung der Entwicklung der Var1: zwischen 2007 und 2010 steigt und sinkt der Wert jährlich. Zwischen 2011-2015 steigt der\n",
    "# Wert kontinuierlich. Im Jahre 2015 erreicht er seinen Höhepunkt. Nach 2015 sinkt die relative Häufigkeit leicht ab."
   ]
  },
  {
   "cell_type": "code",
   "execution_count": null,
   "metadata": {},
   "outputs": [],
   "source": [
    "# Berechnung Var2 (rel. Häufigkeit der über 60-jährigen Einwohner):\n",
    "kassel[\"RelEW60\"] = kassel[\"EWueber60\"] / kassel[\"Ewgesamt\"]\n",
    "print(kassel[\"RelEW60\"]) "
   ]
  },
  {
   "cell_type": "code",
   "execution_count": null,
   "metadata": {},
   "outputs": [],
   "source": [
    "# Berechnung des Korrelationskoeffizienten \n",
    "# zwischen der rel-Häufigkeit der 1Personenhaushalte und der rel.Häufigkeit der Einwohner über 60 Jahre (Pearson Koefizient):\n",
    "kassel[\"Rel1PHH\"].corr(kassel[\"RelEW60\"]) "
   ]
  },
  {
   "cell_type": "code",
   "execution_count": null,
   "metadata": {},
   "outputs": [],
   "source": [
    "# Ergebnis: die Hypothese hat sich nicht bestätigt. Es besteht im Gegenteil ein starker negativen Zusammenhang\n",
    "# zwischen den zwischen der rel-Häufigkeit der 1Personenhaushalte und der rel.Häufigkeit der Einwohner über 60 Jahre."
   ]
  },
  {
   "cell_type": "code",
   "execution_count": null,
   "metadata": {},
   "outputs": [],
   "source": [
    "# Entwicklungen und Zusammenhang der rel.Häufigkeit Einpersonenhaushalte und rel. Häufigkeit der unter 30-jährigen Einwohner.\n",
    "\n",
    "# 2. Inhaltliche Hypothese: Je höher der Anteil an Einpersonenhaushalten, desto höher der Anteil der unter 30-Jährigen.\n",
    "# 2. Statistische Hypothese: Vermutet wird ein positiver Korrelationskoeffizient zwischen Var1 und Var3.\n",
    "\n",
    "# Benennen der Variablen: \n",
    "\n",
    "# Var1 - die relative Häufigkeit der Einpersonenhaushalte an den Haushalten insgesamt\n",
    "# Var3 - die relative Häufigkeit der Einwohner unter 30 an den Einwohner insgesamt\n",
    "\n",
    "# Berechnen der Variablen: \n",
    "# Var1= 1PHHgesamt / HHgesamt \n",
    "# Var3 = EWunter30 / Ewgesamt "
   ]
  },
  {
   "cell_type": "code",
   "execution_count": null,
   "metadata": {},
   "outputs": [],
   "source": [
    "# Berechnung von Var3 (rel. Häufigkeit der unter 30-Jährigen):\n",
    "kassel[\"RelEW30\"] = kassel[\"EWunter30\"] / kassel[\"Ewgesamt\"]\n",
    "print(kassel[\"RelEW30\"])"
   ]
  },
  {
   "cell_type": "code",
   "execution_count": null,
   "metadata": {},
   "outputs": [],
   "source": [
    "# Beschreibung der Enticklung der Var3: der Wert steigt kontinuierlich. Die extremste Steigerung findet zwischen den Jahren\n",
    "# 2013 und 2014 statt."
   ]
  },
  {
   "cell_type": "code",
   "execution_count": null,
   "metadata": {},
   "outputs": [],
   "source": [
    "# Berechnung des Korrelationskoeffizienten\n",
    "# zwischen der rel.Häufigkeit der 1Personenhaushalte und der rel.Häufigkeit der Einwohner unter 30 Jahre (Pearson Koefizient): \n",
    "kassel[\"Rel1PHH\"].corr(kassel[\"RelEW30\"])"
   ]
  },
  {
   "cell_type": "code",
   "execution_count": null,
   "metadata": {},
   "outputs": [],
   "source": [
    "# Ergebnis: die Hypothese hat sich bestätigt. Es besteht ein starker Zusammenhang \n",
    "# zwischen der rel.Häufigkeit der 1Personenhaushalte und der rel.Häufigkeit der Einwohner unter 30 Jahre"
   ]
  },
  {
   "cell_type": "code",
   "execution_count": null,
   "metadata": {},
   "outputs": [],
   "source": [
    "# Entwicklungen und Zusammenhang der rel.Häufigkeit Einpersonenhaushalte und rel. Häufigkeit der zwischen 30 und 60-jährigen \n",
    "# Einwohner\n",
    "\n",
    "# 3. Inhaltliche Hypothese: Je höher der Anteil an Einpersonenhaushalten, desto geringer der Anteil der 30 bis 60-Jährigen\n",
    "# 3. Statistische Hypothese: Vermutet wird ein negativer Korrelationskoeffizient zwischen Var1 und Var4.\n",
    "\n",
    "# Benennen der Variablen: \n",
    "\n",
    "# Var1 - die relative Häufigkeit der Einpersonenhaushalte an den Haushalten insgesamt\n",
    "# Var4 - die relative Häufigkeit der Einwohner unter zwischen 30 und 60 an den Einwohner insgesamt\n",
    "\n",
    "# Berechnung der Variablen:\n",
    "# Var1 = 1PHHgesamt / HHgesamt\n",
    "# Var4 = EW30bis60 / Ewgesamt"
   ]
  },
  {
   "cell_type": "code",
   "execution_count": null,
   "metadata": {},
   "outputs": [],
   "source": [
    "# Berechnung von Var4 (rel.Häufigkeit der 30 bis 60-Jährigen):\n",
    "kassel[\"RelEW30bis60\"] = kassel[\"EW30bis60\"] / kassel[\"Ewgesamt\"]\n",
    "print(kassel[\"RelEW30bis60\"])"
   ]
  },
  {
   "cell_type": "code",
   "execution_count": null,
   "metadata": {},
   "outputs": [],
   "source": [
    "# Beschreibung der Enticklung der Var4: der Wert sinkt zwischen 2007-2010. Zwischen 2010-2013 steigt der Wert, besonders zwischen\n",
    "# 2011-2012. Seinen Höhepunkt erreicht er im Jahre 2013, danach fällt er kontinuierlich und erreicht seinen Tiefpunkt im Jahre \n",
    "# 2017."
   ]
  },
  {
   "cell_type": "code",
   "execution_count": null,
   "metadata": {},
   "outputs": [],
   "source": [
    "# Berechnung des Korrelationskoeffizienten\n",
    "# zwischen der rel.Häufigkeit der 1Personenhaushalte und der rel.Häufigkeit der Einwohner 30 bis 60 Jahre (Pearson Koefizient):\n",
    "kassel[\"Rel1PHH\"].corr(kassel[\"RelEW30bis60\"]) "
   ]
  },
  {
   "cell_type": "code",
   "execution_count": null,
   "metadata": {},
   "outputs": [],
   "source": [
    "# Ergebnis: die Hypothese hat sich bestätigt. Es gibt ein starker Zusammenhang\n",
    "# zwischen der rel.Häufigkeit der 1Personenhaushalte und der rel.Häufigkeit der Einwohner zwischen 30 und 60 Jahre "
   ]
  },
  {
   "cell_type": "code",
   "execution_count": null,
   "metadata": {},
   "outputs": [],
   "source": [
    "kassel.describe()"
   ]
  },
  {
   "cell_type": "code",
   "execution_count": null,
   "metadata": {},
   "outputs": [],
   "source": [
    "kassel.head()"
   ]
  },
  {
   "cell_type": "markdown",
   "metadata": {},
   "source": [
    "## Berechnung des Verhältnisses der Altersgruppen in Einpersonenhaushalten"
   ]
  },
  {
   "cell_type": "code",
   "execution_count": null,
   "metadata": {},
   "outputs": [],
   "source": [
    "# Inhaltliche Fragestellung: Welche der drei Altersgruppen macht den größten Anteil der Alleinwohnenden aus und wie entwickelten\n",
    "# sich diese Anteile von 2007 bis 2017?\n",
    "# Statistische Herangehensweise: die relative Häufigkeit jeder Altersgruppe im Bezug auf die Gesamtanzahl der Einpersonenhaushalte\n",
    "\n",
    "# Benennen der Variablen: \n",
    "\n",
    "# Var5 - die relative Häufigkeit der Einpersonenhaushalte der unter 30-Jährigen an den Haushalten insgesamt\n",
    "# Var6 - die relative Häufigkeit der Einpersonenhaushalte der zwischen 30- und 60-Jährigen an den Haushalten insgesamt\n",
    "# Var7 - die relative Häufigkeit der Einpersonenhaushalte der über 60-Jährigen an den Haushalten insgesamt\n",
    "\n",
    "# Berechnen der Variablen: \n",
    "\n",
    "# Var4 = Einpersonenhaushalte der unter 30-Jährigen / Einpersonenhaushalte gesamt\n",
    "# Var5 = Einpersonenhaushalte der 30-60-Jährigen / Einpersonenhaushalte gesamt\n",
    "# Var6 = Einpersonenhaushalte der über 60-Jährigen / Einpersonenhaushalte gesamt"
   ]
  },
  {
   "cell_type": "code",
   "execution_count": null,
   "metadata": {},
   "outputs": [],
   "source": [
    "#Berechnung der Var 5 (relative Häufigkeit der Einpersonenhaushalte der unter 30-Jährigen an den Haushalten insgesamt)\n",
    "kassel[\"Rel1PHHunter30\"] = kassel[\"1PHHunter30\"] / kassel[\"1PHHgesamt\"]\n",
    "print(kassel[\"Rel1PHHunter30\"])"
   ]
  },
  {
   "cell_type": "code",
   "execution_count": null,
   "metadata": {},
   "outputs": [],
   "source": [
    "# Beschreibung der Entwicklung der Variable 5: zwischen den Jahren 2008 und 2009 sinkt der Wert leicht. Ab 2009 steigt der Wert \n",
    "# kontinierlich. Seinen Höhepunkt erreicht er im Jahre 2016, danach fällt er wieder leicht."
   ]
  },
  {
   "cell_type": "code",
   "execution_count": null,
   "metadata": {},
   "outputs": [],
   "source": [
    "#Berechnung der Var 6 (relative Häufigkeit der Einpersonenhaushalte der 30-60-Jährigen an den Haushalten insgesamt)\n",
    "\n",
    "kassel[\"Rel1PHH30bis60\"] = kassel[\"1PHH30bis60\"] / kassel[\"1PHHgesamt\"]\n",
    "print(kassel[\"Rel1PHH30bis60\"])"
   ]
  },
  {
   "cell_type": "code",
   "execution_count": null,
   "metadata": {},
   "outputs": [],
   "source": [
    "# Beschreibung der Entwicklung der Variable 6: ?"
   ]
  },
  {
   "cell_type": "code",
   "execution_count": null,
   "metadata": {},
   "outputs": [],
   "source": [
    "#Berechnung der Var 7 (relative Häufigkeit der Einpersonenhaushalte über 60 Jahre an den Haushalten insgesamt)\n",
    "\n",
    "kassel[\"Rel1PHHueber60\"] = kassel[\"1PHHueber60\"] / kassel[\"1PHHgesamt\"]\n",
    "print(kassel[\"Rel1PHHueber60\"])"
   ]
  },
  {
   "cell_type": "code",
   "execution_count": null,
   "metadata": {},
   "outputs": [],
   "source": [
    "kassel.head()"
   ]
  },
  {
   "cell_type": "markdown",
   "metadata": {},
   "source": [
    "# Visualisierungen"
   ]
  },
  {
   "cell_type": "code",
   "execution_count": null,
   "metadata": {},
   "outputs": [],
   "source": [
    "# Grafische Darstellung der Entwicklung (2007-2017) der relativen Häufigkeit der Einpersonenhaushalte an den Haushalten insgesamt\n",
    "\n",
    "# Importieren des Matplot-Pakets \n",
    "\n",
    "import matplotlib.pyplot as plt \n",
    "\n",
    "plt.plot(kassel[\"Rel1PHH\"]*100) # Umrechnung in prozentuale Anteile\n",
    "\n",
    "plt.xticks(range(len(kassel)), kassel[\"Jahr\"])\n",
    "plt.title(\"Relative Häufigkeit der Einpersonenhaushalte an den Haushalten insgesamt\")\n",
    "plt.xlabel(\"Jahr\")\n",
    "plt.ylabel(\"Anteil der Einpersonhaushalte (%)\")"
   ]
  },
  {
   "cell_type": "code",
   "execution_count": null,
   "metadata": {},
   "outputs": [],
   "source": [
    "# Grafische Darstellung der Entwicklung (2007-2017) der prozentualen Anteile der Altersgruppen am Einperonhaushalt.\n",
    "\n",
    "# Definieren der Variablen für die lesbarkeit und Umrechnen in prozentuale Anteile\n",
    "import numpy as np\n",
    "\n",
    "junge = kassel[\"Rel1PHHunter30\"]*100\n",
    "mittlere = kassel[\"Rel1PHH30bis60\"]*100\n",
    "alte = kassel[\"Rel1PHHueber60\"]*100\n",
    "\n",
    "# Erstellen von Balken, sodass sie aufeinander liegen und mit verschiedenem Farbton unterschieden werden können. \n",
    "\n",
    "serie1 = plt.bar(range(len(kassel)), junge, color=\"CornflowerBlue\") \n",
    "serie2 = plt.bar(range(len(kassel)), mittlere, bottom=junge, color=\"Blue\") \n",
    "serie3 = plt.bar(range(len(kassel)), alte, bottom=junge+mittlere, color=\"DarkBlue\")\n",
    "\n",
    "# Benennen der Grafik und der x-Achse  \n",
    "\n",
    "plt.xticks(range(len(kassel)), kassel[\"Jahr\"])\n",
    "plt.title(\"Anteil der 3 Altersgruppen an den gesamten Einpersonhaushalten (in %)\")\n",
    "plt.xlabel(\"Jahr\")\n",
    "\n",
    "# Einfügen der Legende\n",
    "# offene Frage: wie verschiebt man die Legende?? (ist bislang nicht geglückt..)\n",
    "plt.legend((serie1,serie2,serie3), (\"Junge\", \"Mittlere\", \"Alte\"))\n",
    "\n",
    "\n",
    "plt.show()"
   ]
  },
  {
   "cell_type": "code",
   "execution_count": null,
   "metadata": {},
   "outputs": [],
   "source": [
    "#  Grafische Darstellung der Entwicklung (2007-2017) der Altersgruppen am Einpersonenhaushalt - absolute Zahlen\n",
    "\n",
    "junge = kassel[\"1PHHunter30\"]\n",
    "mittlere = kassel[\"1PHH30bis60\"]\n",
    "alte = kassel[\"1PHHueber60\"]\n",
    "\n",
    "serie1 = plt.bar(range(len(kassel)), junge, color=\"CornflowerBlue\") \n",
    "serie2 = plt.bar(range(len(kassel)), mittlere, bottom=junge, color=\"Blue\") \n",
    "serie3 = plt.bar(range(len(kassel)), alte, bottom=junge+mittlere, color=\"DarkBlue\")\n",
    "\n",
    "plt.xticks(range(len(kassel)), kassel[\"Jahr\"])\n",
    "plt.title(\"Anteile der 3 Altersgruppen an der Gesamtzahl der Einpersonhaushalte (absolute Häufigkeiten)\")\n",
    "plt.xlabel(\"Jahr\")\n",
    "\n",
    "plt.legend((serie1,serie2,serie3), (\"Junge\", \"Mittlere\", \"Alte\"))\n"
   ]
  },
  {
   "cell_type": "code",
   "execution_count": null,
   "metadata": {},
   "outputs": [],
   "source": [
    "# Üben der \"plt.scatter\" Funktion\n",
    "\n",
    "plt.scatter(kassel[\"1PHHgesamt\"], kassel[\"Rel1PHH\"])"
   ]
  },
  {
   "cell_type": "code",
   "execution_count": null,
   "metadata": {},
   "outputs": [],
   "source": [
    "Üben der \"plt.scatter\" Funktion\n",
    "\n",
    "plt.scatter(kassel[\"Ewgesamt\"], kassel[\"EWunter30\"])"
   ]
  },
  {
   "cell_type": "code",
   "execution_count": null,
   "metadata": {},
   "outputs": [],
   "source": [
    "# Entwicklung der Gesamtzahl der Einpersonenhaushalte von 2007-2017\n",
    "\n",
    "plt.bar(range(len(kassel)), kassel['1PHHgesamt'])\n",
    "plt.xticks(range(len(kassel)), kassel['Jahr'])\n",
    "plt.show()"
   ]
  },
  {
   "cell_type": "code",
   "execution_count": null,
   "metadata": {},
   "outputs": [],
   "source": [
    "#Umrechnen der Var4,5,6 (rel.Häufigkeiten) % und Anpassen der Grafik\n",
    "plt.plot((kassel[\"Rel1PHHunter30\"]*100), label='Einpersonenhaushalte <30-Jährige')\n",
    "plt.plot((kassel[\"Rel1PHH30bis60\"]*100), label='Einpersonenhaushalte 30-60-Jährige')\n",
    "plt.plot((kassel[\"Rel1PHHueber60\"]*100), label='Einpersonenhaushalte >60-Jährige')\n",
    "\n",
    "#Achsen-Beschriftungen\n",
    "plt.ylabel('Anteil an den gesamten Einpersonenhaushalten')\n",
    "plt.xlabel('Jahre 2007-2017')\n",
    "\n",
    "#Diagramm-Beschriftung\n",
    "plt.title('Entwicklung der prozentualen Anteile der Altersgruppen an den Bewohnern von Einpersonenhaushalten')\n",
    "plt.legend(loc=2)\n",
    "          \n",
    "plt.show() "
   ]
  }
 ],
 "metadata": {
  "kernelspec": {
   "display_name": "Python 3",
   "language": "python",
   "name": "python3"
  },
  "language_info": {
   "codemirror_mode": {
    "name": "ipython",
    "version": 3
   },
   "file_extension": ".py",
   "mimetype": "text/x-python",
   "name": "python",
   "nbconvert_exporter": "python",
   "pygments_lexer": "ipython3",
   "version": "3.7.0"
  }
 },
 "nbformat": 4,
 "nbformat_minor": 2
}
