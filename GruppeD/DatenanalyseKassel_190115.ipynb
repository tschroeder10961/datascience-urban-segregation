{
 "cells": [
  {
   "cell_type": "markdown",
   "metadata": {},
   "source": [
    "## 1. Einleitung \n",
    "\n",
    "In Deutschland vollzieht sich ein zunehmender Trend, der die Haushaltsgröße betrifft. “Als privater Haushalt zählt hier jede zusammen wohnende und eine wirtschaftende Einheit bildende Personengemeinschaft sowie Personen, die allein wohnen und wirtschaften. Personen in Alters- oder Pflegeheimen, Kasernen und ähnlichen Einrichtungen, die dort keinen eigenen Haushalt führen, sondern gemeinschaftlich versorgt werden, zählen zu den Personen in Gemeinschaftsunterkünften und nicht zu den Personen in Privathaushalten.” (Statistisches Bundesamt (Destatis) (Hrsg.), 2017, S. 3). Der Anteil der Einpersonenhaushalte in ganz Deutschland ist von 1991 bis 2015 von 17,8 % aller Erwachsenen auf 24,3 % kontinuierlich angestiegen (vgl. Grünheid, 2017, S. 10). Zu der Stadt mit einer hohen Anzahl von Einpersonenhaushalten zählt u.a. Kassel. Im Jahr 2017 betrug der Anteil der Einpersonenhaushalte in Kassel 51,7% (vgl. Stadt Kassel (Hrsg.), 2017, S. 18). Aus diesem Grund wurde im Rahmen des Projektes: “Data Science: Spielerischer und fachwissenschaftlicher Umgang mit digitalen Daten” die Stadt Kassel hinsichtlich der Einpersonenhaushalte nach den Altersgruppen zwischen 2007 bis 2017 untersucht.\n",
    "\n",
    "## 1.1 Forschungsfrage und Abgrenzung \n",
    "\n",
    "Im Rahmen des Projektes wird die folgende Forschungsfrage untersucht: Eine Analyse der Einpersonenhaushalte in der Stadt Kassel bezogen auf die Altersgruppen in den Jahren 2007 bis 2017. Die Analyse beschränkt sich nur auf die Altersgruppen unter 30 Jahren, zwischen 30 bis 60 Jahren und über 60 Jahren.\n",
    "\n",
    "## 1.2 Hypothesen und Fragestellung \n",
    "\n",
    "Es wurden die beiden inhaltlichen Hypothesen aufgestellt, dass je höher der Anteil an Einpersonenhaushalten ist, desto höher ist auch der Anteil der über 60-Jährigen und der unter 30-Jährigen. Aus diesen beiden inhaltlichen Hypothesen folgt dementsprechend die statistische Hypothese, dass ein positiver Korrelationskoeffizient zwischen den Einpersonenhaushalten und den über 60-Jährigen sowie der unter 30-Jährigen vermutet wird. Diese inhaltlichen Hypothesen wurden aus Grünheid 2017 entnommen: “Bei den Jüngeren und den Älteren (bis 70 Jahre) ist vor allem die steigende Zahl Alleinlebender (Alleinstehend im Einpersonenhaushalt) hervorzuheben.” (S. 29). Diese auf ganz Deutschland bezogene Aussage kann demnach auch auf Kassel übertragen werden. Es werden jedoch mit dieser Aussage die Altersgruppen der zwischen 30 bis 60-Jährigen ausgeschlossen. Dementsprechend wurde daraus die dritte inhaltliche Hypothese abgeleitet, dass je höher der Anteil an Einpersonenhaushalten ist, desto geringer ist auch der Anteil der 30 bis 60-Jährigen. Aus dieser dritten Hypothese folgt die statistische Hypothese, dass ein negativer Korrelationskoeffizient zwischen den Einpersonenhaushalten und den 30 bis 60-Jährigen erwartet wird.\n",
    "\n",
    "Des Weiteren wurde die folgende Fragestellung untersucht: Die Entwicklung des Verhältnisses der drei Altersgruppen in den Einpersonenhaushalten über die Jahre 2007-2017. Hierbei wurde die Entwicklung der in Einpersonenhaushalten lebenden Personen über die Jahre berechnet und hinsichtlich der drei Altersgruppen miteinander verglichen.\n",
    "\n",
    "## 2. Forschungsstand \n",
    "\n",
    "Der Jahresbericht der Stadt Kassel 2018: “Statistische Informationen - Jahresbericht 2017” enthält Daten aus diversen Bereichen des städtischen Lebens (S. 1). Es werden u.a. Daten zur Haushaltsgröße tabellarisch zur Verfügung gestellt (S. 18 ff.). Zudem werden die Haushalte nach den Altersgruppen getrennt. Die Anzahl der Einpersonenhaushalte mit unter 30-Jährigen betrug im Jahr 2017 14 920. Die Anzahl der Einpersonenhaushalte mit zwischen 30 und 60-Jährigen betrug im Jahr 2017 23 991 und die Anzahl der Einpersonenhaushalte mit über 60-Jährigen betrug im Jahr 2017 17 758 (S. 19).\n",
    "\n",
    "Des Weiteren hat die Stadt Kassel einen Statistikatlas 2017 veröffentlicht. In diesem Statistikatlas werden die Daten zur Stadt Kassel und zu deren Stadtteilen grafisch von 2005 bis 2017 visualisiert. Insgesamt wurden im Jahr 2017 109.533 Haushalte verzeichnet, wobei im vorderen Westen mehr Haushalte vorhanden waren als im Stadtteil Nordshausen. Im Durchschnitt lebten 1,86 Personen im Haushalt 2017 in ganz Kassel. Das unterscheidet sich zwischen den Stadtteilen, denn in Waldau lebten 2,28 und in Mitte nur 1,55 Personen im Haushalt. Der prozentuale Anteil unterscheidet sich ebenfalls zwischen den Stadtteilen. In Kassel Mitte wurde der höchste Anteil von Einpersonenhaushalten mit 67% verzeichnet, wohingegen in Waldau der Anteil 34,1% betrug. Der Statistikatlas Kassel enthält jedoch keine Daten zu den Altersgruppen, die in Einpersonenhaushalten leben, sondern nur allgemein zum Durchschnittsalter der Bevölkerung.\n",
    "\n",
    "Grünheid (2017) behandelt in dem BiB Working Paper: “Wandel der Lebensformen in Deutschland” die Entwicklung der Lebensformen in Deutschland in den letzten beiden Jahrzehnten. Die Anzahl von Alleinlebenden in Einpersonenhaushalten ist von 1991 bis 2015 in Deutschland deutlich angestiegen. Insgesamt hat der Anteil von Alleinlebenden in Einpersonenhaushalten von jüngeren und älteren Personen über die Jahre zugenommen (S. 10 ff.).\n",
    "\n",
    "Die Studie des statistischen Bundesamtes (Destatis) aus dem Jahr 2017: “Entwicklung der Privathaushalte bis 2035” enthält eine Prognose der zukünftigen Entwicklung der Haushalte bis zum Jahr 2035 in ganz Deutschland. Diese Prognose wurde durch eine Haushaltsvorausberechnung erstellt. Die Berechnung hat ergeben, dass sich die Anzahl der Ein- und Zweipersonenhaushalte bis 2035 vergrößern wird. Im Gegensatz dazu wird sich die Zahl der Mehrpersonenhaushalte mit drei Personen und mehr verkleinern (S. 6 f.).\n",
    "\n",
    "## 3. Methode \n",
    "\n",
    "In diesem Projekt wurde ein Methodenmix angewandt. Es wurde vorerst nach relevanten Studien und Daten recherchiert. Es wurde hauptsächlich im Stadtportal Kassel recherchiert, aber auch auf der Webseite des Statistischen Bundesamtes (Destatis) mit den Suchbegriffen: \"Privathaushalte\", \"Einpersonenhaushalte\" sowie \"Kassel in Zahlen\".\n",
    "\n",
    "Nach der Literaturrecherche und der Literaturanalyse erfolgte die Datenbereinigung.\n",
    "\n",
    "Nach der Datenbereinigung erfolgte die Datenanalyse."
   ]
  },
  {
   "cell_type": "markdown",
   "metadata": {},
   "source": [
    "# 4. Berechnung des Verhältnisses zwischen Alter und Einpersonenhaushalten"
   ]
  },
  {
   "cell_type": "code",
   "execution_count": 1,
   "metadata": {},
   "outputs": [
    {
     "name": "stdout",
     "output_type": "stream",
     "text": [
      "    Jahr  Ewgesamt  EWunter30  EW30bis60  EWueber60  HHgesamt  1PHHgesamt  \\\n",
      "0   2007    192121      63659      79496      48966    102003       49692   \n",
      "1   2008    191959      63925      78989      49045    102384       50656   \n",
      "2   2009    192241      64397      78687      49157    102867       50467   \n",
      "3   2010    193112      64838      79028      49246    103884       51726   \n",
      "4   2011    194109      65179      79448      49482    102343       50814   \n",
      "5   2012    195422      65787      80114      49521    103825       52210   \n",
      "6   2013    196758      66270      80826      49662    105889       54076   \n",
      "7   2014    197092      66596      80572      49924    106459       54653   \n",
      "8   2015    200507      68790      81453      50264    108082       56145   \n",
      "9   2016    201907      69862      81458      50587    108913       56541   \n",
      "10  2017    204021      70873      82160      50988    109533       56669   \n",
      "\n",
      "    1PHHunter30  1PHH30bis60  1PHHueber60  \n",
      "0         11660        21157        16875  \n",
      "1         12451        22425        15780  \n",
      "2         12355        21226        16886  \n",
      "3         12782        21735        17209  \n",
      "4         12782        22026        16006  \n",
      "5         13238        22628        16344  \n",
      "6         14165        23223        16688  \n",
      "7         14341        23392        16920  \n",
      "8         14918        24173        17054  \n",
      "9         15110        23939        17492  \n",
      "10        14920        23991        17758  \n"
     ]
    }
   ],
   "source": [
    "#Importieren des Pandas-Pakets \n",
    "\n",
    "import pandas as pd\n",
    "\n",
    "#Importieren der bereinigten und angepassten Forschungsdatentabelle\n",
    "\n",
    "kassel = pd.read_csv('Forschungsdaten04csv.csv', sep=\";\")\n",
    "print(kassel)"
   ]
  },
  {
   "cell_type": "code",
   "execution_count": 2,
   "metadata": {},
   "outputs": [
    {
     "name": "stdout",
     "output_type": "stream",
     "text": [
      "0     0.487162\n",
      "1     0.494765\n",
      "2     0.490604\n",
      "3     0.497921\n",
      "4     0.496507\n",
      "5     0.502865\n",
      "6     0.510686\n",
      "7     0.513371\n",
      "8     0.519467\n",
      "9     0.519139\n",
      "10    0.517369\n",
      "Name: Rel1PHH, dtype: float64\n"
     ]
    }
   ],
   "source": [
    "# Berechnung Var1 (rel.Häufigkeit Einpersonenhaushalte): \n",
    "kassel[\"Rel1PHH\"] = kassel[\"1PHHgesamt\"] / kassel[\"HHgesamt\"]\n",
    "print(kassel[\"Rel1PHH\"])"
   ]
  },
  {
   "cell_type": "code",
   "execution_count": 3,
   "metadata": {},
   "outputs": [
    {
     "name": "stdout",
     "output_type": "stream",
     "text": [
      "0     0.254871\n",
      "1     0.255497\n",
      "2     0.255705\n",
      "3     0.255013\n",
      "4     0.254919\n",
      "5     0.253405\n",
      "6     0.252401\n",
      "7     0.253303\n",
      "8     0.250685\n",
      "9     0.250546\n",
      "10    0.249915\n",
      "Name: RelEW60, dtype: float64\n"
     ]
    }
   ],
   "source": [
    "# Berechnung Var2 (rel. Häufigkeit der über 60-jährigen Einwohner):\n",
    "kassel[\"RelEW60\"] = kassel[\"EWueber60\"] / kassel[\"Ewgesamt\"]\n",
    "print(kassel[\"RelEW60\"]) "
   ]
  },
  {
   "cell_type": "code",
   "execution_count": 4,
   "metadata": {},
   "outputs": [
    {
     "name": "stdout",
     "output_type": "stream",
     "text": [
      "0     0.331348\n",
      "1     0.333014\n",
      "2     0.334981\n",
      "3     0.335753\n",
      "4     0.335786\n",
      "5     0.336641\n",
      "6     0.336810\n",
      "7     0.337893\n",
      "8     0.343080\n",
      "9     0.346011\n",
      "10    0.347381\n",
      "Name: RelEW30, dtype: float64\n"
     ]
    }
   ],
   "source": [
    "# Berechnung von Var3 (rel. Häufigkeit der unter 30-Jährigen):\n",
    "kassel[\"RelEW30\"] = kassel[\"EWunter30\"] / kassel[\"Ewgesamt\"]\n",
    "print(kassel[\"RelEW30\"])"
   ]
  },
  {
   "cell_type": "code",
   "execution_count": 5,
   "metadata": {},
   "outputs": [
    {
     "name": "stdout",
     "output_type": "stream",
     "text": [
      "0     0.413781\n",
      "1     0.411489\n",
      "2     0.409314\n",
      "3     0.409234\n",
      "4     0.409296\n",
      "5     0.409954\n",
      "6     0.410789\n",
      "7     0.408804\n",
      "8     0.406235\n",
      "9     0.403443\n",
      "10    0.402704\n",
      "Name: RelEW30bis60, dtype: float64\n"
     ]
    }
   ],
   "source": [
    "# Berechnung von Var4 (rel.Häufigkeit der 30 bis 60-Jährigen):\n",
    "kassel[\"RelEW30bis60\"] = kassel[\"EW30bis60\"] / kassel[\"Ewgesamt\"]\n",
    "print(kassel[\"RelEW30bis60\"])"
   ]
  },
  {
   "cell_type": "code",
   "execution_count": 6,
   "metadata": {},
   "outputs": [
    {
     "name": "stdout",
     "output_type": "stream",
     "text": [
      "0     0.234645\n",
      "1     0.245795\n",
      "2     0.244813\n",
      "3     0.247110\n",
      "4     0.251545\n",
      "5     0.253553\n",
      "6     0.261946\n",
      "7     0.262401\n",
      "8     0.265705\n",
      "9     0.267240\n",
      "10    0.263283\n",
      "Name: Rel1PHHunter30, dtype: float64\n"
     ]
    }
   ],
   "source": [
    "kassel[\"Rel1PHHunter30\"] = kassel[\"1PHHunter30\"] / kassel[\"1PHHgesamt\"]\n",
    "print(kassel[\"Rel1PHHunter30\"])"
   ]
  },
  {
   "cell_type": "code",
   "execution_count": 7,
   "metadata": {},
   "outputs": [
    {
     "name": "stdout",
     "output_type": "stream",
     "text": [
      "0     0.425763\n",
      "1     0.442692\n",
      "2     0.420592\n",
      "3     0.420195\n",
      "4     0.433463\n",
      "5     0.433404\n",
      "6     0.429451\n",
      "7     0.428009\n",
      "8     0.430546\n",
      "9     0.423392\n",
      "10    0.423353\n",
      "Name: Rel1PHH30bis60, dtype: float64\n"
     ]
    }
   ],
   "source": [
    "kassel[\"Rel1PHH30bis60\"] = kassel[\"1PHH30bis60\"] / kassel[\"1PHHgesamt\"]\n",
    "print(kassel[\"Rel1PHH30bis60\"])"
   ]
  },
  {
   "cell_type": "code",
   "execution_count": 8,
   "metadata": {},
   "outputs": [
    {
     "name": "stdout",
     "output_type": "stream",
     "text": [
      "0     0.339592\n",
      "1     0.311513\n",
      "2     0.334595\n",
      "3     0.332695\n",
      "4     0.314992\n",
      "5     0.313043\n",
      "6     0.308603\n",
      "7     0.309590\n",
      "8     0.303749\n",
      "9     0.309368\n",
      "10    0.313364\n",
      "Name: Rel1PHHueber60, dtype: float64\n"
     ]
    }
   ],
   "source": [
    "kassel[\"Rel1PHHueber60\"] = kassel[\"1PHHueber60\"] / kassel[\"1PHHgesamt\"]\n",
    "print(kassel[\"Rel1PHHueber60\"])"
   ]
  },
  {
   "cell_type": "code",
   "execution_count": 9,
   "metadata": {},
   "outputs": [
    {
     "data": {
      "text/html": [
       "<div>\n",
       "<style scoped>\n",
       "    .dataframe tbody tr th:only-of-type {\n",
       "        vertical-align: middle;\n",
       "    }\n",
       "\n",
       "    .dataframe tbody tr th {\n",
       "        vertical-align: top;\n",
       "    }\n",
       "\n",
       "    .dataframe thead th {\n",
       "        text-align: right;\n",
       "    }\n",
       "</style>\n",
       "<table border=\"1\" class=\"dataframe\">\n",
       "  <thead>\n",
       "    <tr style=\"text-align: right;\">\n",
       "      <th></th>\n",
       "      <th>Jahr</th>\n",
       "      <th>Ewgesamt</th>\n",
       "      <th>EWunter30</th>\n",
       "      <th>EW30bis60</th>\n",
       "      <th>EWueber60</th>\n",
       "      <th>HHgesamt</th>\n",
       "      <th>1PHHgesamt</th>\n",
       "      <th>1PHHunter30</th>\n",
       "      <th>1PHH30bis60</th>\n",
       "      <th>1PHHueber60</th>\n",
       "      <th>Rel1PHH</th>\n",
       "      <th>RelEW60</th>\n",
       "      <th>RelEW30</th>\n",
       "      <th>RelEW30bis60</th>\n",
       "      <th>Rel1PHHunter30</th>\n",
       "      <th>Rel1PHH30bis60</th>\n",
       "      <th>Rel1PHHueber60</th>\n",
       "    </tr>\n",
       "  </thead>\n",
       "  <tbody>\n",
       "    <tr>\n",
       "      <th>0</th>\n",
       "      <td>2007</td>\n",
       "      <td>192121</td>\n",
       "      <td>63659</td>\n",
       "      <td>79496</td>\n",
       "      <td>48966</td>\n",
       "      <td>102003</td>\n",
       "      <td>49692</td>\n",
       "      <td>11660</td>\n",
       "      <td>21157</td>\n",
       "      <td>16875</td>\n",
       "      <td>0.487162</td>\n",
       "      <td>0.254871</td>\n",
       "      <td>0.331348</td>\n",
       "      <td>0.413781</td>\n",
       "      <td>0.234645</td>\n",
       "      <td>0.425763</td>\n",
       "      <td>0.339592</td>\n",
       "    </tr>\n",
       "    <tr>\n",
       "      <th>1</th>\n",
       "      <td>2008</td>\n",
       "      <td>191959</td>\n",
       "      <td>63925</td>\n",
       "      <td>78989</td>\n",
       "      <td>49045</td>\n",
       "      <td>102384</td>\n",
       "      <td>50656</td>\n",
       "      <td>12451</td>\n",
       "      <td>22425</td>\n",
       "      <td>15780</td>\n",
       "      <td>0.494765</td>\n",
       "      <td>0.255497</td>\n",
       "      <td>0.333014</td>\n",
       "      <td>0.411489</td>\n",
       "      <td>0.245795</td>\n",
       "      <td>0.442692</td>\n",
       "      <td>0.311513</td>\n",
       "    </tr>\n",
       "    <tr>\n",
       "      <th>2</th>\n",
       "      <td>2009</td>\n",
       "      <td>192241</td>\n",
       "      <td>64397</td>\n",
       "      <td>78687</td>\n",
       "      <td>49157</td>\n",
       "      <td>102867</td>\n",
       "      <td>50467</td>\n",
       "      <td>12355</td>\n",
       "      <td>21226</td>\n",
       "      <td>16886</td>\n",
       "      <td>0.490604</td>\n",
       "      <td>0.255705</td>\n",
       "      <td>0.334981</td>\n",
       "      <td>0.409314</td>\n",
       "      <td>0.244813</td>\n",
       "      <td>0.420592</td>\n",
       "      <td>0.334595</td>\n",
       "    </tr>\n",
       "    <tr>\n",
       "      <th>3</th>\n",
       "      <td>2010</td>\n",
       "      <td>193112</td>\n",
       "      <td>64838</td>\n",
       "      <td>79028</td>\n",
       "      <td>49246</td>\n",
       "      <td>103884</td>\n",
       "      <td>51726</td>\n",
       "      <td>12782</td>\n",
       "      <td>21735</td>\n",
       "      <td>17209</td>\n",
       "      <td>0.497921</td>\n",
       "      <td>0.255013</td>\n",
       "      <td>0.335753</td>\n",
       "      <td>0.409234</td>\n",
       "      <td>0.247110</td>\n",
       "      <td>0.420195</td>\n",
       "      <td>0.332695</td>\n",
       "    </tr>\n",
       "    <tr>\n",
       "      <th>4</th>\n",
       "      <td>2011</td>\n",
       "      <td>194109</td>\n",
       "      <td>65179</td>\n",
       "      <td>79448</td>\n",
       "      <td>49482</td>\n",
       "      <td>102343</td>\n",
       "      <td>50814</td>\n",
       "      <td>12782</td>\n",
       "      <td>22026</td>\n",
       "      <td>16006</td>\n",
       "      <td>0.496507</td>\n",
       "      <td>0.254919</td>\n",
       "      <td>0.335786</td>\n",
       "      <td>0.409296</td>\n",
       "      <td>0.251545</td>\n",
       "      <td>0.433463</td>\n",
       "      <td>0.314992</td>\n",
       "    </tr>\n",
       "  </tbody>\n",
       "</table>\n",
       "</div>"
      ],
      "text/plain": [
       "   Jahr  Ewgesamt  EWunter30  EW30bis60  EWueber60  HHgesamt  1PHHgesamt  \\\n",
       "0  2007    192121      63659      79496      48966    102003       49692   \n",
       "1  2008    191959      63925      78989      49045    102384       50656   \n",
       "2  2009    192241      64397      78687      49157    102867       50467   \n",
       "3  2010    193112      64838      79028      49246    103884       51726   \n",
       "4  2011    194109      65179      79448      49482    102343       50814   \n",
       "\n",
       "   1PHHunter30  1PHH30bis60  1PHHueber60   Rel1PHH   RelEW60   RelEW30  \\\n",
       "0        11660        21157        16875  0.487162  0.254871  0.331348   \n",
       "1        12451        22425        15780  0.494765  0.255497  0.333014   \n",
       "2        12355        21226        16886  0.490604  0.255705  0.334981   \n",
       "3        12782        21735        17209  0.497921  0.255013  0.335753   \n",
       "4        12782        22026        16006  0.496507  0.254919  0.335786   \n",
       "\n",
       "   RelEW30bis60  Rel1PHHunter30  Rel1PHH30bis60  Rel1PHHueber60  \n",
       "0      0.413781        0.234645        0.425763        0.339592  \n",
       "1      0.411489        0.245795        0.442692        0.311513  \n",
       "2      0.409314        0.244813        0.420592        0.334595  \n",
       "3      0.409234        0.247110        0.420195        0.332695  \n",
       "4      0.409296        0.251545        0.433463        0.314992  "
      ]
     },
     "execution_count": 9,
     "metadata": {},
     "output_type": "execute_result"
    }
   ],
   "source": [
    "kassel.head()"
   ]
  },
  {
   "cell_type": "code",
   "execution_count": 18,
   "metadata": {},
   "outputs": [
    {
     "data": {
      "text/plain": [
       "Text(0,0.5,'Anteil der Einpersonhaushalte (%)')"
      ]
     },
     "execution_count": 18,
     "metadata": {},
     "output_type": "execute_result"
    },
    {
     "data": {
      "image/png": "[encoded data removed]",
      "text/plain": [
       "<Figure size 432x288 with 1 Axes>"
      ]
     },
     "metadata": {
      "needs_background": "light"
     },
     "output_type": "display_data"
    }
   ],
   "source": [
    "# Grafische Darstellung der Entwicklung (2007-2017) der relativen Häufigkeit der Einpersonenhaushalte an den Haushalten insgesamt:\n",
    "\n",
    "# Importieren des Matplot-Pakets \n",
    "\n",
    "import matplotlib.pyplot as plt \n",
    "\n",
    "plt.plot(kassel[\"Rel1PHH\"]*100) # Umrechnung in prozentuale Anteile\n",
    "\n",
    "plt.xticks(range(len(kassel)), kassel[\"Jahr\"])\n",
    "plt.title(\"Relative Häufigkeit der Einpersonenhaushalte an den Haushalten insgesamt\")\n",
    "plt.xlabel(\"Jahr\")\n",
    "plt.ylabel(\"Anteil der Einpersonhaushalte (%)\")"
   ]
  },
  {
   "cell_type": "code",
   "execution_count": 19,
   "metadata": {},
   "outputs": [
    {
     "data": {
      "text/plain": [
       "<matplotlib.legend.Legend at 0x1e22a0026a0>"
      ]
     },
     "execution_count": 19,
     "metadata": {},
     "output_type": "execute_result"
    },
    {
     "data": {
      "image/png": "[encoded data removed]",
      "text/plain": [
       "<Figure size 432x288 with 1 Axes>"
      ]
     },
     "metadata": {
      "needs_background": "light"
     },
     "output_type": "display_data"
    }
   ],
   "source": [
    "# Grafische Darstellung der Entwicklung (2007-2017) der prozentualen Anteile der Altersgruppen am Einpersonhaushalt:\n",
    "\n",
    "# Definieren der Variablen für die Lesbarkeit und Umrechnen in prozentuale Anteile\n",
    "\n",
    "junge = kassel[\"Rel1PHHunter30\"]*100\n",
    "mittlere = kassel[\"Rel1PHH30bis60\"]*100\n",
    "alte = kassel[\"Rel1PHHueber60\"]*100\n",
    "\n",
    "# Erstellen von Balken, sodass sie aufeinander liegen und mit verschiedenem Farbton unterschieden werden können\n",
    "\n",
    "serie1 = plt.bar(range(len(kassel)), junge, color=\"CornflowerBlue\") \n",
    "serie2 = plt.bar(range(len(kassel)), mittlere, bottom=junge, color=\"Blue\") \n",
    "serie3 = plt.bar(range(len(kassel)), alte, bottom=junge+mittlere, color=\"DarkBlue\")\n",
    "\n",
    "# Benennen der Grafik und der x-Achse  \n",
    "\n",
    "plt.xticks(range(len(kassel)), kassel[\"Jahr\"])\n",
    "plt.title(\"Anteil verschiedener Altersgruppen an dem Einpersonhaushalt (%)\")\n",
    "plt.xlabel(\"Jahr\")\n",
    "\n",
    "# Einfügen der Legende\n",
    "\n",
    "plt.legend((serie1,serie2,serie3), (\"Junge\", \"Mittlere\", \"Alte\"))\n"
   ]
  },
  {
   "cell_type": "code",
   "execution_count": 20,
   "metadata": {},
   "outputs": [
    {
     "data": {
      "text/plain": [
       "<matplotlib.legend.Legend at 0x1e22a0bf630>"
      ]
     },
     "execution_count": 20,
     "metadata": {},
     "output_type": "execute_result"
    },
    {
     "data": {
      "image/png": "[encoded data removed]",
      "text/plain": [
       "<Figure size 432x288 with 1 Axes>"
      ]
     },
     "metadata": {
      "needs_background": "light"
     },
     "output_type": "display_data"
    }
   ],
   "source": [
    "#  Grafische Darstellung der Entwicklung (2007-2017) der Altersgruppen am Einperonhaushalt - ganze Zahlen:\n",
    "\n",
    "junge = kassel[\"1PHHunter30\"]\n",
    "mittlere = kassel[\"1PHH30bis60\"]\n",
    "alte = kassel[\"1PHHueber60\"]\n",
    "\n",
    "serie1 = plt.bar(range(len(kassel)), junge, color=\"CornflowerBlue\") \n",
    "serie2 = plt.bar(range(len(kassel)), mittlere, bottom=junge, color=\"Blue\") \n",
    "serie3 = plt.bar(range(len(kassel)), alte, bottom=junge+mittlere, color=\"DarkBlue\")\n",
    "\n",
    "plt.xticks(range(len(kassel)), kassel[\"Jahr\"])\n",
    "plt.title(\"Anteil verschiedener Altersgruppen an dem Einpersonhaushalt\")\n",
    "plt.xlabel(\"Jahr\")\n",
    "\n",
    "plt.legend((serie1,serie2,serie3), (\"Junge\", \"Mittlere\", \"Alte\"))\n"
   ]
  },
  {
   "cell_type": "code",
   "execution_count": 16,
   "metadata": {},
   "outputs": [
    {
     "data": {
      "text/plain": [
       "<matplotlib.collections.PathCollection at 0x1e229eec588>"
      ]
     },
     "execution_count": 16,
     "metadata": {},
     "output_type": "execute_result"
    },
    {
     "data": {
      "image/png": "[encoded data removed]",
      "text/plain": [
       "<Figure size 432x288 with 1 Axes>"
      ]
     },
     "metadata": {
      "needs_background": "light"
     },
     "output_type": "display_data"
    }
   ],
   "source": [
    "# Zeigt keinen relevanten Zusammenhang - Üben der \"plt.scatter\" Funktion\n",
    "\n",
    "plt.scatter(kassel[\"1PHHgesamt\"], kassel[\"Rel1PHH\"])"
   ]
  },
  {
   "cell_type": "code",
   "execution_count": 17,
   "metadata": {},
   "outputs": [
    {
     "data": {
      "text/plain": [
       "<matplotlib.collections.PathCollection at 0x1e229f4e2b0>"
      ]
     },
     "execution_count": 17,
     "metadata": {},
     "output_type": "execute_result"
    },
    {
     "data": {
      "image/png": "[encoded data removed]",
      "text/plain": [
       "<Figure size 432x288 with 1 Axes>"
      ]
     },
     "metadata": {
      "needs_background": "light"
     },
     "output_type": "display_data"
    }
   ],
   "source": [
    "# Zeigt keinen relevanten Zusammenhang - Üben von \"plt.scatter\" Funktion\n",
    "\n",
    "plt.scatter(kassel[\"Ewgesamt\"], kassel[\"EWunter30\"])"
   ]
  },
  {
   "cell_type": "code",
   "execution_count": null,
   "metadata": {},
   "outputs": [],
   "source": []
  }
 ],
 "metadata": {
  "kernelspec": {
   "display_name": "Python 3",
   "language": "python",
   "name": "python3"
  },
  "language_info": {
   "codemirror_mode": {
    "name": "ipython",
    "version": 3
   },
   "file_extension": ".py",
   "mimetype": "text/x-python",
   "name": "python",
   "nbconvert_exporter": "python",
   "pygments_lexer": "ipython3",
   "version": "3.7.0"
  }
 },
 "nbformat": 4,
 "nbformat_minor": 2
}
