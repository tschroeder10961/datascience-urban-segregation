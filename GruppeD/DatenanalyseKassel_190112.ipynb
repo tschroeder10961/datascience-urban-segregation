{
 "cells": [
  {
   "cell_type": "code",
   "execution_count": null,
   "metadata": {},
   "outputs": [],
   "source": []
  },
  {
   "cell_type": "markdown",
   "metadata": {},
   "source": [
    "# 1. Einleitung\n",
    "\n",
    "In Deutschland vollzieht sich ein zunehmender Trend, der die Haushaltsgröße betrifft. “Als privater Haushalt zählt hier jede zusammen wohnende und eine wirtschaftende Einheit bildende Personengemeinschaft sowie Personen, die allein wohnen und wirtschaften. Personen in Alters- oder Pflegeheimen, Kasernen und ähnlichen Einrichtungen, die dort keinen eigenen Haushalt führen, sondern gemeinschaftlich versorgt werden, zählen zu den Personen in Gemeinschaftsunterkünften und nicht zu den Personen in Privathaushalten.” (Statistisches Bundesamt (Destatis) (Hrsg.), 2017, S. 3). Der Anteil der Einpersonenhaushalte in ganz Deutschland ist von 1991 bis 2015 von 17,8 % aller Erwachsenen auf 24,3 % kontinuierlich angestiegen (vgl. Grünheid, 2017, S. 10). Zu der Stadt mit einer hohen Anzahl von Einpersonenhaushalten zählt u.a. Kassel. Im Jahr 2017 betrug der Anteil der Einpersonenhaushalte in Kassel 51,7% (vgl. Stadt Kassel (Hrsg.), 2017, S. 18). Aus diesem Grund wurde im Rahmen des Projektes: “Data Science: Spielerischer und fachwissenschaftlicher Umgang mit digitalen Daten” die Stadt Kassel hinsichtlich der Einpersonenhaushalte nach den Altersgruppen zwischen 2007 bis 2017 untersucht."
   ]
  },
  {
   "cell_type": "markdown",
   "metadata": {},
   "source": [
    "# 1.1 Forschungsfrage und Abgrenzung\n",
    "\n",
    "Im Rahmen des Projektes wird die folgende Forschungsfrage untersucht: Eine Analyse der Einpersonenhaushalte in der Stadt Kassel bezogen auf die Altersgruppen in den Jahren 2007 bis 2017. Die Analyse beschränkt sich nur auf die Altersgruppen unter 30 Jahren, zwischen 30 bis 60 Jahren und über 60 Jahren."
   ]
  },
  {
   "cell_type": "markdown",
   "metadata": {},
   "source": [
    "# 1.2 Hypothesen und Fragestellung\n",
    "\n",
    "Es wurden die beiden inhaltlichen Hypothesen aufgestellt, dass je höher der Anteil an Einpersonenhaushalten ist, desto höher ist auch der Anteil der über 60-jährigen und der unter 30-jährigen. Aus diesen beiden inhaltlichen Hypothesen folgt dementsprechend die statistische Hypothese, dass ein positiver Korrelationskoeffizient zwischen den Einpersonenhaushalten und den über 60-jährigen sowie der unter 30-jährigen vermutet wird. Diese inhaltlichen Hypothesen wurden aus Grünheid 2017 entnommen: “Bei den Jüngeren und den Älteren (bis 70 Jahre) ist vor allem die steigende Zahl Alleinlebender (Alleinstehend im Einpersonenhaushalt) hervorzuheben.” (S. 29). Diese auf ganz Deutschland bezogene Aussage kann demnach auch auf Kassel übertragen werden. Es werden jedoch mit dieser Aussage die Altersgruppen der zwischen 30 bis 60-jährigen ausgeschlossen. Dementsprechend wurde daraus die dritte inhaltliche Hypothese abgeleitet, dass je höher der Anteil an Einpersonenhaushalten ist, desto geringer ist auch der Anteil der 30 bis 60-jährigen. Aus dieser dritten Hypothese folgt die statistische Hypothese, dass ein negativer Korrelationskoeffizient zwischen den Einpersonenhaushalten und den 30 bis 60-jährigen erwartet wird.\n",
    "\n",
    "Des Weiteren wurde die folgende Fragestellung untersucht: Die Entwicklung des Verhältnisses der drei Altersgruppen in den Einpersonenhaushalten über die Jahre 2007-2017. Hierbei wurde die Entwicklung der in Einpersonenhaushalten lebenden Personen über die Jahre berechnet und hinsichtlich der drei Altersgruppen miteinander verglichen."
   ]
  },
  {
   "cell_type": "markdown",
   "metadata": {},
   "source": [
    "# 2. Forschungsstand\n",
    "\n",
    "Der Jahresbericht der Stadt Kassel 2018: “Statistische Informationen - Jahresbericht 2017” enthält Daten aus diversen Bereichen des städtischen Lebens (S. 1). Es werden u.a. Daten zur Haushaltsgröße tabellarisch zur Verfügung gestellt (S. 18 ff.). Zudem werden die Haushalte nach den Altersgruppen getrennt. Die Anzahl der Einpersonenhaushalte mit unter 30-jährigen betrug im Jahr 2017 14 920. Die Anzahl der Einpersonenhaushalte mit zwischen 30 und 60-jährigen betrug im Jahr 2017 23 991 und die Anzahl der Einpersonenhaushalte mit über 60-jährigen betrug im Jahr 2017 17 758 (S. 19).\n",
    "\n",
    "Des Weiteren hat die Stadt Kassel einen Statistikatlas 2017 veröffentlicht. In diesem Statistikatlas werden die Daten zur Stadt Kassel und zu deren Stadtteilen grafisch von 2005 bis 2017 visualisiert. Insgesamt wurden im Jahr 2017 109.533 Haushalte verzeichnet, wobei im vorderen Westen mehr Haushalte vorhanden waren als im Stadtteil Nordshausen. Im Durchschnitt lebten 1,86 Personen im Haushalt 2017 in ganz Kassel. Das unterscheidet sich zwischen den Stadtteilen, denn in Waldau lebten 2,28 und in Mitte nur 1,55 Personen im Haushalt. Der prozentuale Anteil unterscheidet sich ebenfalls zwischen den Stadtteilen. In Kassel Mitte wurde der höchste Anteil von Einpersonenhaushalten mit 67% verzeichnet, wohingegen in Waldau der Anteil 34,1% betrug. Der Statistikatlas Kassel enthält jedoch keine Daten zu den Altersgruppen, die in Einpersonenhaushalten leben, sondern nur allgemein zum Durchschnittsalter der Bevölkerung.\n",
    "\n",
    "Grünheid (2017) behandelt in dem BiB Working Paper: “Wandel der Lebensformen in Deutschland” die Entwicklung der Lebensformen in Deutschland in den letzten beiden Jahrzehnten. Die Anzahl von Alleinlebenden in Einpersonenhaushalten ist von 1991 bis 2015 in Deutschland deutlich angestiegen. Insgesamt hat der Anteil von Alleinlebenden in Einpersonenhaushalten von jüngeren und älteren Personen über die Jahre zugenommen (S. 10 ff.).\n",
    "\n",
    "Die Studie des statistischen Bundesamtes (Destatis) aus dem Jahr 2017: “Entwicklung der Privathaushalte bis 2035” enthält eine Prognose der zukünftigen Entwicklung der Haushalte bis zum Jahr 2035 in ganz Deutschland. Diese Prognose wurde durch eine Haushaltsvorausberechnung erstellt. Die Berechnung hat ergeben, dass sich die Anzahl der Ein- und Zweipersonenhaushalte bis 2035 vergrößern wird. Im Gegensatz dazu wird sich die Zahl der Mehrpersonenhaushalte mit drei Personen und mehr verkleinern (S. 6 f.)."
   ]
  },
  {
   "cell_type": "markdown",
   "metadata": {},
   "source": [
    "# 3. Methode\n",
    "\n",
    "In diesem Projekt wurde ein Methodenmix angewandt. Es wurde vorerst nach relevanten Studien und Daten recherchiert. Es wurde hauptsächlich im Stadtportal Kassel recherchiert, aber auch auf der Webseite des Statistischen Bundesamtes (Destatis) mit den Suchbegriffen: \"Privathaushalte\", \"Einpersonenhaushalte\" sowie \"Kassel in Zahlen\".\n",
    "\n",
    "Nach der Literaturrecherche erfolgte die Datenbereinigung.\n",
    "\n",
    "Nach der Datenbereinigung erfolgte die Datenanalyse."
   ]
  },
  {
   "cell_type": "markdown",
   "metadata": {},
   "source": [
    "# Datenaufbereitung \n",
    "\n",
    "Quellen angeben"
   ]
  },
  {
   "cell_type": "code",
   "execution_count": 1,
   "metadata": {},
   "outputs": [
    {
     "name": "stdout",
     "output_type": "stream",
     "text": [
      "      Ewgesamt  EWunter30  EW30bis60  EWueber60  HHgesamt  1PHHgesamt  \\\n",
      "2007    192121      63659      79496      48966    102003       49692   \n",
      "2008    191959      63925      78989      49045    102384       50656   \n",
      "2009    192241      64397      78687      49157    102867       50467   \n",
      "2010    193112      64838      79028      49246    103884       51726   \n",
      "2011    194109      65179      79448      49482    102343       50814   \n",
      "2012    195422      65787      80114      49521    103825       52210   \n",
      "2013    196758      66270      80826      49662    105889       54076   \n",
      "2014    197092      66596      80572      49924    106459       54653   \n",
      "2015    200507      68790      81453      50264    108082       56145   \n",
      "2016    201907      69862      81458      50587    108913       56541   \n",
      "2017    204021      70873      82160      50988    109533       56669   \n",
      "\n",
      "      1PHHunter30  1PHH30bis60  1PHHueber60  \n",
      "2007        11660        21157        16875  \n",
      "2008        12451        22425        15780  \n",
      "2009        12355        21226        16886  \n",
      "2010        12782        21735        17209  \n",
      "2011        12782        22026        16006  \n",
      "2012        13238        22628        16344  \n",
      "2013        14165        23223        16688  \n",
      "2014        14341        23392        16920  \n",
      "2015        14918        24173        17054  \n",
      "2016        15110        23939        17492  \n",
      "2017        14920        23991        17758  \n"
     ]
    }
   ],
   "source": [
    "#Imporiteren des Pandas Pakets \n",
    "\n",
    "import pandas as pd\n",
    "\n",
    "#Imporiteren der bereinigten und angepasten Forschungsdatentabelle\n",
    "\n",
    "kassel = pd.read_csv('Forschungsdaten04csv.csv', sep=\";\", index_col=0)\n",
    "print(kassel) \n"
   ]
  },
  {
   "cell_type": "markdown",
   "metadata": {},
   "source": [
    "## Berechnung des Verhältnisses zwischen Alter und Einpersonenhaushalten - \n",
    "\n",
    "Hypothese 1, Hypothese 2"
   ]
  },
  {
   "cell_type": "code",
   "execution_count": 2,
   "metadata": {},
   "outputs": [],
   "source": [
    "# Entwicklungen und Zusammenhang der rel.Häufigkeit Einpersonenhaushalte und rel. Häufigkeit der über 60-jährigen Einwohner\n",
    "\n",
    "# 1. Inhaltliche Hypothese: Je höher der Anteil an Einpersonenhaushalten, desto höher der Anteil der über 60-jährigen.\n",
    "# 1. Statistische Hypothese: Vermutet wird ein positiver Korrelationskoeffizient zwischen Var1 und Var2.\n",
    "\n",
    "# Benennen der Variablen: \n",
    "\n",
    "# Var1 - die relative Häufigkeit der Einpersonenhaushalte an den Haushalten insgesamt\n",
    "# Var2 - die relative Häufigkeit der Einwohner über 6o an den Einwohner insgesamt\n",
    "\n",
    "# Berechnen der Variablen: \n",
    "\n",
    "# Var1= 1PHHgesamt / HHgesamt \n",
    "# Var2 = EWueber60 / EWgesamt"
   ]
  },
  {
   "cell_type": "code",
   "execution_count": 3,
   "metadata": {},
   "outputs": [
    {
     "name": "stdout",
     "output_type": "stream",
     "text": [
      "2007    0.487162\n",
      "2008    0.494765\n",
      "2009    0.490604\n",
      "2010    0.497921\n",
      "2011    0.496507\n",
      "2012    0.502865\n",
      "2013    0.510686\n",
      "2014    0.513371\n",
      "2015    0.519467\n",
      "2016    0.519139\n",
      "2017    0.517369\n",
      "Name: Rel1PHH, dtype: float64\n"
     ]
    }
   ],
   "source": [
    "# Berechnung Var1 (rel.Häufigkeit Einpersonenhaushalte): \n",
    "kassel[\"Rel1PHH\"] = kassel[\"1PHHgesamt\"] / kassel[\"HHgesamt\"]\n",
    "print(kassel[\"Rel1PHH\"])"
   ]
  },
  {
   "cell_type": "code",
   "execution_count": 4,
   "metadata": {},
   "outputs": [],
   "source": [
    "# Beschreibung der Entwicklung der Var1: zwischen 2007 und 2010 sinkt und steigt der Wert jährlich. Zwischen 2010-2015 steigt der\n",
    "# Wert kontinuierlich. Im Jahre 2015 erreicht er seinen Höhepunkt. Nach 2015 sinkt die relative Häufigkeit leicht ab.  "
   ]
  },
  {
   "cell_type": "code",
   "execution_count": 5,
   "metadata": {
    "scrolled": true
   },
   "outputs": [
    {
     "name": "stdout",
     "output_type": "stream",
     "text": [
      "2007    0.254871\n",
      "2008    0.255497\n",
      "2009    0.255705\n",
      "2010    0.255013\n",
      "2011    0.254919\n",
      "2012    0.253405\n",
      "2013    0.252401\n",
      "2014    0.253303\n",
      "2015    0.250685\n",
      "2016    0.250546\n",
      "2017    0.249915\n",
      "Name: RelEW60, dtype: float64\n"
     ]
    }
   ],
   "source": [
    "# Berechnung Var2 (rel. Häufigkeit der über 60-jährigen Einwohner):\n",
    "kassel[\"RelEW60\"] = kassel[\"EWueber60\"] / kassel[\"Ewgesamt\"]\n",
    "print(kassel[\"RelEW60\"]) "
   ]
  },
  {
   "cell_type": "code",
   "execution_count": 6,
   "metadata": {},
   "outputs": [
    {
     "data": {
      "text/plain": [
       "-0.9263834775423547"
      ]
     },
     "execution_count": 6,
     "metadata": {},
     "output_type": "execute_result"
    }
   ],
   "source": [
    "# Berechnung des Korrelationskoeffizienten \n",
    "# zwischen der rel-Häufigkeit der 1Personenhaushalte und der rel.Häufigkeit der Einwohner über 60 Jahre (Pearson Koefizient):\n",
    "kassel[\"Rel1PHH\"].corr(kassel[\"RelEW60\"])\n"
   ]
  },
  {
   "cell_type": "code",
   "execution_count": 7,
   "metadata": {},
   "outputs": [],
   "source": [
    "#Ergebnis: die Hypothese hat sich nicht bestätigt. Es besteht im Gegenteil ein starker negativen Zusammenhang\n",
    "# zwischen den zwischen der rel-Häufigkeit der 1Personenhaushalte und der rel.Häufigkeit der Einwohner über 60 Jahre."
   ]
  },
  {
   "cell_type": "code",
   "execution_count": 8,
   "metadata": {},
   "outputs": [],
   "source": [
    "# Entwicklungen und Zusammenhang der rel.Häufigkeit Einpersonenhaushalte und rel. Häufigkeit der unter 30-jährigen Einwohner.\n",
    "\n",
    "# 2. Inhaltliche Hypothese: Je höher der Anteil an Einpersonenhaushalten, desto höher der Anteil der unter 30-jährigen.\n",
    "# 2. Statistische Hypothese: Vermutet wird ein positiver Korrelationskoeffizient zwischen Var1 und Var3.\n",
    "\n",
    "# Benennen der Variablen: \n",
    "\n",
    "# Var1 - die relative Häufigkeit der Einpersonenhaushalte an den Haushalten insgesamt\n",
    "# Var3 - die relative Häufigkeit der Einwohner unter 30 an den Einwohner insgesamt\n",
    "\n",
    "# Berechnen der Variablen: \n",
    "# Var1= 1PHHgesamt / HHgesamt \n",
    "# Var3 = EWunter30 / Ewgesamt "
   ]
  },
  {
   "cell_type": "code",
   "execution_count": 9,
   "metadata": {},
   "outputs": [
    {
     "name": "stdout",
     "output_type": "stream",
     "text": [
      "2007    0.331348\n",
      "2008    0.333014\n",
      "2009    0.334981\n",
      "2010    0.335753\n",
      "2011    0.335786\n",
      "2012    0.336641\n",
      "2013    0.336810\n",
      "2014    0.337893\n",
      "2015    0.343080\n",
      "2016    0.346011\n",
      "2017    0.347381\n",
      "Name: RelEW30, dtype: float64\n"
     ]
    }
   ],
   "source": [
    "# Berechnung von Var3 (rel. Häufigkeit der unter 30-jährigen):\n",
    "kassel[\"RelEW30\"] = kassel[\"EWunter30\"] / kassel[\"Ewgesamt\"]\n",
    "print(kassel[\"RelEW30\"]) "
   ]
  },
  {
   "cell_type": "code",
   "execution_count": 10,
   "metadata": {},
   "outputs": [],
   "source": [
    "# Beschreibung der Enticklung der Var3: der Wert steigt kontinuierlich. Die extremste Steigerung findet zwischen den Jahren\n",
    "# 2013 und 2014 statt. "
   ]
  },
  {
   "cell_type": "code",
   "execution_count": 11,
   "metadata": {},
   "outputs": [
    {
     "data": {
      "text/plain": [
       "0.8834033857337682"
      ]
     },
     "execution_count": 11,
     "metadata": {},
     "output_type": "execute_result"
    }
   ],
   "source": [
    "# Berechnung des Korrelationskoeffizienten\n",
    "# zwischen der rel-Häufigkeit der 1Personenhaushalte und der rel.Häufigkeit der Einwohner unter 30 Jahre (Pearson Koefizient): \n",
    "kassel[\"Rel1PHH\"].corr(kassel[\"RelEW30\"]) "
   ]
  },
  {
   "cell_type": "code",
   "execution_count": 12,
   "metadata": {},
   "outputs": [],
   "source": [
    "# Ergebnis: die Hypothese hat sich bestätigt. Es besteht ein starker Zusammenhang \n",
    "# zwischen der rel-Häufigkeit der 1Personenhaushalte und der rel.Häufigkeit der Einwohner unter 30 Jahre"
   ]
  },
  {
   "cell_type": "code",
   "execution_count": 13,
   "metadata": {},
   "outputs": [],
   "source": [
    "# Entwicklungen und Zusammenhang der rel.Häufigkeit Einpersonenhaushalte und rel. Häufigkeit der zwischen 30 und 60-jährigen \n",
    "# Einwohner\n",
    "\n",
    "# 3. Inhaltliche Hypothese: Je höher der Anteil an Einpersonenhaushalten, desto geringer der Anteil der 30 bis 60-jährigen\n",
    "# 3. Statistische Hypothese: Vermutet wird ein negativer Korrelationskoeffizient zwischen Var1 und Var4.\n",
    "\n",
    "# Benennen der Variablen: \n",
    "\n",
    "# Var1 - die relative Häufigkeit der Einpersonenhaushalte an den Haushalten insgesamt\n",
    "# Var4 - die relative Häufigkeit der Einwohner unter zwischen 30 und 60 an den Einwohner insgesamt\n",
    "\n",
    "# Berechnung der Variablen:\n",
    "# Var1 = 1PHHgesamt / HHgesamt\n",
    "# Var4 = EW30bis60 / Ewgesamt\n"
   ]
  },
  {
   "cell_type": "code",
   "execution_count": 14,
   "metadata": {},
   "outputs": [
    {
     "name": "stdout",
     "output_type": "stream",
     "text": [
      "2007    0.413781\n",
      "2008    0.411489\n",
      "2009    0.409314\n",
      "2010    0.409234\n",
      "2011    0.409296\n",
      "2012    0.409954\n",
      "2013    0.410789\n",
      "2014    0.408804\n",
      "2015    0.406235\n",
      "2016    0.403443\n",
      "2017    0.402704\n",
      "Name: RelEW30bis60, dtype: float64\n"
     ]
    }
   ],
   "source": [
    "# Berechnung von Var4 (rel.Häufigkeit der 30 bis 60-jährigen):\n",
    "kassel[\"RelEW30bis60\"] = kassel[\"EW30bis60\"] / kassel[\"Ewgesamt\"]\n",
    "print(kassel[\"RelEW30bis60\"])"
   ]
  },
  {
   "cell_type": "code",
   "execution_count": 15,
   "metadata": {},
   "outputs": [],
   "source": [
    "# Beschreibung der Enticklung der Var4: der Wert sinkt zwischen 2007-2010. Zwischen 2010-2013 steigt der Wert, besonders zwischen\n",
    "# 2011-2012. Seinen Höhepunkt erreicht er im Jahre 2013, danach fällt er kontinuierlich und erreicht seinen Tiefpunkt im Jahre \n",
    "# 2017. "
   ]
  },
  {
   "cell_type": "code",
   "execution_count": 16,
   "metadata": {},
   "outputs": [
    {
     "data": {
      "text/plain": [
       "-0.7871079878497586"
      ]
     },
     "execution_count": 16,
     "metadata": {},
     "output_type": "execute_result"
    }
   ],
   "source": [
    "# Berechnung des Korrelationskoeffizienten\n",
    "# zwischen der rel-Häufigkeit der 1Personenhaushalte und der rel.Häufigkeit der Einwohner 30 bis 60 Jahre (Pearson Koefizient):\n",
    "kassel[\"Rel1PHH\"].corr(kassel[\"RelEW30bis60\"])\n"
   ]
  },
  {
   "cell_type": "code",
   "execution_count": 17,
   "metadata": {},
   "outputs": [],
   "source": [
    "# Ergebnis: die Hypothese hat sich bestätigt. Es gibt ein starker Zusammenhang\n",
    "# zwischen der rel-Häufigkeit der 1Personenhaushalte und der rel.Häufigkeit der Einwohner zwischen 30 und 60 Jahre"
   ]
  },
  {
   "cell_type": "code",
   "execution_count": 18,
   "metadata": {},
   "outputs": [
    {
     "data": {
      "text/html": [
       "<div>\n",
       "<style scoped>\n",
       "    .dataframe tbody tr th:only-of-type {\n",
       "        vertical-align: middle;\n",
       "    }\n",
       "\n",
       "    .dataframe tbody tr th {\n",
       "        vertical-align: top;\n",
       "    }\n",
       "\n",
       "    .dataframe thead th {\n",
       "        text-align: right;\n",
       "    }\n",
       "</style>\n",
       "<table border=\"1\" class=\"dataframe\">\n",
       "  <thead>\n",
       "    <tr style=\"text-align: right;\">\n",
       "      <th></th>\n",
       "      <th>Ewgesamt</th>\n",
       "      <th>EWunter30</th>\n",
       "      <th>EW30bis60</th>\n",
       "      <th>EWueber60</th>\n",
       "      <th>HHgesamt</th>\n",
       "      <th>1PHHgesamt</th>\n",
       "      <th>1PHHunter30</th>\n",
       "      <th>1PHH30bis60</th>\n",
       "      <th>1PHHueber60</th>\n",
       "      <th>Rel1PHH</th>\n",
       "      <th>RelEW60</th>\n",
       "      <th>RelEW30</th>\n",
       "      <th>RelEW30bis60</th>\n",
       "    </tr>\n",
       "  </thead>\n",
       "  <tbody>\n",
       "    <tr>\n",
       "      <th>count</th>\n",
       "      <td>11.000000</td>\n",
       "      <td>11.000000</td>\n",
       "      <td>11.000000</td>\n",
       "      <td>11.000000</td>\n",
       "      <td>11.000000</td>\n",
       "      <td>11.000000</td>\n",
       "      <td>11.000000</td>\n",
       "      <td>11.000000</td>\n",
       "      <td>11.000000</td>\n",
       "      <td>11.000000</td>\n",
       "      <td>11.000000</td>\n",
       "      <td>11.000000</td>\n",
       "      <td>11.000000</td>\n",
       "    </tr>\n",
       "    <tr>\n",
       "      <th>mean</th>\n",
       "      <td>196295.363636</td>\n",
       "      <td>66379.636364</td>\n",
       "      <td>80202.818182</td>\n",
       "      <td>49712.909091</td>\n",
       "      <td>105107.454545</td>\n",
       "      <td>53059.000000</td>\n",
       "      <td>13520.181818</td>\n",
       "      <td>22719.545455</td>\n",
       "      <td>16819.272727</td>\n",
       "      <td>0.504532</td>\n",
       "      <td>0.253296</td>\n",
       "      <td>0.338063</td>\n",
       "      <td>0.408640</td>\n",
       "    </tr>\n",
       "    <tr>\n",
       "      <th>std</th>\n",
       "      <td>4220.265899</td>\n",
       "      <td>2443.628379</td>\n",
       "      <td>1171.415197</td>\n",
       "      <td>660.447342</td>\n",
       "      <td>2796.627553</td>\n",
       "      <td>2638.602319</td>\n",
       "      <td>1210.824828</td>\n",
       "      <td>1101.796566</td>\n",
       "      <td>595.237447</td>\n",
       "      <td>0.011913</td>\n",
       "      <td>0.002129</td>\n",
       "      <td>0.005190</td>\n",
       "      <td>0.003319</td>\n",
       "    </tr>\n",
       "    <tr>\n",
       "      <th>min</th>\n",
       "      <td>191959.000000</td>\n",
       "      <td>63659.000000</td>\n",
       "      <td>78687.000000</td>\n",
       "      <td>48966.000000</td>\n",
       "      <td>102003.000000</td>\n",
       "      <td>49692.000000</td>\n",
       "      <td>11660.000000</td>\n",
       "      <td>21157.000000</td>\n",
       "      <td>15780.000000</td>\n",
       "      <td>0.487162</td>\n",
       "      <td>0.249915</td>\n",
       "      <td>0.331348</td>\n",
       "      <td>0.402704</td>\n",
       "    </tr>\n",
       "    <tr>\n",
       "      <th>25%</th>\n",
       "      <td>192676.500000</td>\n",
       "      <td>64617.500000</td>\n",
       "      <td>79238.000000</td>\n",
       "      <td>49201.500000</td>\n",
       "      <td>102625.500000</td>\n",
       "      <td>50735.000000</td>\n",
       "      <td>12616.500000</td>\n",
       "      <td>21880.500000</td>\n",
       "      <td>16516.000000</td>\n",
       "      <td>0.495636</td>\n",
       "      <td>0.251543</td>\n",
       "      <td>0.335367</td>\n",
       "      <td>0.407520</td>\n",
       "    </tr>\n",
       "    <tr>\n",
       "      <th>50%</th>\n",
       "      <td>195422.000000</td>\n",
       "      <td>65787.000000</td>\n",
       "      <td>80114.000000</td>\n",
       "      <td>49521.000000</td>\n",
       "      <td>103884.000000</td>\n",
       "      <td>52210.000000</td>\n",
       "      <td>13238.000000</td>\n",
       "      <td>22628.000000</td>\n",
       "      <td>16886.000000</td>\n",
       "      <td>0.502865</td>\n",
       "      <td>0.253405</td>\n",
       "      <td>0.336641</td>\n",
       "      <td>0.409296</td>\n",
       "    </tr>\n",
       "    <tr>\n",
       "      <th>75%</th>\n",
       "      <td>198799.500000</td>\n",
       "      <td>67693.000000</td>\n",
       "      <td>81139.500000</td>\n",
       "      <td>50094.000000</td>\n",
       "      <td>107270.500000</td>\n",
       "      <td>55399.000000</td>\n",
       "      <td>14629.500000</td>\n",
       "      <td>23665.500000</td>\n",
       "      <td>17131.500000</td>\n",
       "      <td>0.515370</td>\n",
       "      <td>0.254966</td>\n",
       "      <td>0.340487</td>\n",
       "      <td>0.410371</td>\n",
       "    </tr>\n",
       "    <tr>\n",
       "      <th>max</th>\n",
       "      <td>204021.000000</td>\n",
       "      <td>70873.000000</td>\n",
       "      <td>82160.000000</td>\n",
       "      <td>50988.000000</td>\n",
       "      <td>109533.000000</td>\n",
       "      <td>56669.000000</td>\n",
       "      <td>15110.000000</td>\n",
       "      <td>24173.000000</td>\n",
       "      <td>17758.000000</td>\n",
       "      <td>0.519467</td>\n",
       "      <td>0.255705</td>\n",
       "      <td>0.347381</td>\n",
       "      <td>0.413781</td>\n",
       "    </tr>\n",
       "  </tbody>\n",
       "</table>\n",
       "</div>"
      ],
      "text/plain": [
       "            Ewgesamt     EWunter30     EW30bis60     EWueber60       HHgesamt  \\\n",
       "count      11.000000     11.000000     11.000000     11.000000      11.000000   \n",
       "mean   196295.363636  66379.636364  80202.818182  49712.909091  105107.454545   \n",
       "std      4220.265899   2443.628379   1171.415197    660.447342    2796.627553   \n",
       "min    191959.000000  63659.000000  78687.000000  48966.000000  102003.000000   \n",
       "25%    192676.500000  64617.500000  79238.000000  49201.500000  102625.500000   \n",
       "50%    195422.000000  65787.000000  80114.000000  49521.000000  103884.000000   \n",
       "75%    198799.500000  67693.000000  81139.500000  50094.000000  107270.500000   \n",
       "max    204021.000000  70873.000000  82160.000000  50988.000000  109533.000000   \n",
       "\n",
       "         1PHHgesamt   1PHHunter30   1PHH30bis60   1PHHueber60    Rel1PHH  \\\n",
       "count     11.000000     11.000000     11.000000     11.000000  11.000000   \n",
       "mean   53059.000000  13520.181818  22719.545455  16819.272727   0.504532   \n",
       "std     2638.602319   1210.824828   1101.796566    595.237447   0.011913   \n",
       "min    49692.000000  11660.000000  21157.000000  15780.000000   0.487162   \n",
       "25%    50735.000000  12616.500000  21880.500000  16516.000000   0.495636   \n",
       "50%    52210.000000  13238.000000  22628.000000  16886.000000   0.502865   \n",
       "75%    55399.000000  14629.500000  23665.500000  17131.500000   0.515370   \n",
       "max    56669.000000  15110.000000  24173.000000  17758.000000   0.519467   \n",
       "\n",
       "         RelEW60    RelEW30  RelEW30bis60  \n",
       "count  11.000000  11.000000     11.000000  \n",
       "mean    0.253296   0.338063      0.408640  \n",
       "std     0.002129   0.005190      0.003319  \n",
       "min     0.249915   0.331348      0.402704  \n",
       "25%     0.251543   0.335367      0.407520  \n",
       "50%     0.253405   0.336641      0.409296  \n",
       "75%     0.254966   0.340487      0.410371  \n",
       "max     0.255705   0.347381      0.413781  "
      ]
     },
     "execution_count": 18,
     "metadata": {},
     "output_type": "execute_result"
    }
   ],
   "source": [
    " kassel.describe()"
   ]
  },
  {
   "cell_type": "markdown",
   "metadata": {},
   "source": [
    "# Berechnung des Verhältnisses der Altersgruppen in Einpersonenhaushalten"
   ]
  },
  {
   "cell_type": "code",
   "execution_count": 19,
   "metadata": {},
   "outputs": [],
   "source": [
    "# Inhaltliche Fragestellung: Welche der drei Altersgruppen macht den größten Anteil der Alleinwohnenden aus und wie entwickelten sich diese Anteile von 2007 bis 2017?\n",
    "# Statistische Herangehensweise: die relative Häufigkeit jeder Altersgruppe im Bezug auf die Gesamtanzahl der Einpersonenhaushalte\n",
    "\n",
    "# Benennen der Variablen: \n",
    "\n",
    "# Var4 - die relative Häufigkeit der Einpersonenhaushalte der unter 30-jährigen an den Haushalten insgesamt\n",
    "# Var5 - die relative Häufigkeit der Einpersonenhaushalte der zwischen 30- und 60-jährigen an den Haushalten insgesamt\n",
    "# Var6 - die relative Häufigkeit der Einpersonenhaushalte der über 60-jährigen an den Haushalten insgesamt\n",
    "\n",
    "# Berechnen der Variablen: \n",
    "\n",
    "# Var4 = Einpersonenhaushalte der unter 30-jährigen / Einpersonenhaushalte gesamt\n",
    "# Var5 = Einpersonenhaushalte der 30-60-jährigen / Einpersonenhaushalte gesamt\n",
    "# Var6 = Einpersonenhaushalte der über 60-jährigen / Einpersonenhaushalte gesamt"
   ]
  },
  {
   "cell_type": "code",
   "execution_count": 20,
   "metadata": {},
   "outputs": [
    {
     "name": "stdout",
     "output_type": "stream",
     "text": [
      "2007    0.234645\n",
      "2008    0.245795\n",
      "2009    0.244813\n",
      "2010    0.247110\n",
      "2011    0.251545\n",
      "2012    0.253553\n",
      "2013    0.261946\n",
      "2014    0.262401\n",
      "2015    0.265705\n",
      "2016    0.267240\n",
      "2017    0.263283\n",
      "Name: Rel1PHHunter30, dtype: float64\n"
     ]
    }
   ],
   "source": [
    "#Berechnung der Var 4 (relative Häufigkeit der Einpersonenhaushalte der unter 30-jährigen an den Haushalten insgesamt)\n",
    "\n",
    "kassel[\"Rel1PHHunter30\"] = kassel[\"1PHHunter30\"] / kassel[\"1PHHgesamt\"]\n",
    "print(kassel[\"Rel1PHHunter30\"])"
   ]
  },
  {
   "cell_type": "code",
   "execution_count": 21,
   "metadata": {},
   "outputs": [],
   "source": [
    "# Beschreibung"
   ]
  },
  {
   "cell_type": "code",
   "execution_count": 22,
   "metadata": {},
   "outputs": [
    {
     "name": "stdout",
     "output_type": "stream",
     "text": [
      "2007    0.425763\n",
      "2008    0.442692\n",
      "2009    0.420592\n",
      "2010    0.420195\n",
      "2011    0.433463\n",
      "2012    0.433404\n",
      "2013    0.429451\n",
      "2014    0.428009\n",
      "2015    0.430546\n",
      "2016    0.423392\n",
      "2017    0.423353\n",
      "Name: Rel1PHH30bis60, dtype: float64\n"
     ]
    }
   ],
   "source": [
    "#Berechnung der Var 5 (relative Häufigkeit der Einpersonenhaushalte der  30-60jährigen an den Haushalten insgesamt)\n",
    "\n",
    "kassel[\"Rel1PHH30bis60\"] = kassel[\"1PHH30bis60\"] / kassel[\"1PHHgesamt\"]\n",
    "print(kassel[\"Rel1PHH30bis60\"])"
   ]
  },
  {
   "cell_type": "code",
   "execution_count": 24,
   "metadata": {},
   "outputs": [],
   "source": [
    "#Beschreibung"
   ]
  },
  {
   "cell_type": "code",
   "execution_count": null,
   "metadata": {},
   "outputs": [],
   "source": [
    "#Berechnung der Var 6 (relative Häufigkeit der Einpersonenhaushalte der  30-60jährigen an den Haushalten insgesamt)\n",
    "\n",
    "kassel[\"Rel1PHHueber60\"] = kassel[\"1PHHueber60\"] / kassel[\"1PHHgesamt\"]\n",
    "print(kassel[\"Rel1PHHueber60\"])"
   ]
  },
  {
   "cell_type": "code",
   "execution_count": null,
   "metadata": {},
   "outputs": [],
   "source": [
    "Beschreibung"
   ]
  },
  {
   "cell_type": "code",
   "execution_count": null,
   "metadata": {},
   "outputs": [],
   "source": [
    "#Visualisierung der Entwicklung (2007-2017) der prozentualen Anteile der Altersgruppen am....\n",
    "\n",
    "#Importieren von Maltplotlib\n",
    "import matplotlib.pyplot as plt\n",
    "\n",
    "#Umrechnen der Var4,5,6 (rel.Häufigkeiten) % und Anpassen der Grafik\n",
    "plt.plot((kassel[\"Rel1PHHunter30\"]*100), label='Einpersonenhaushalte <30-Jährige')\n",
    "plt.plot((kassel[\"Rel1PHH30bis60\"]*100), label='Einpersonenhaushalte 30-60-Jährige')\n",
    "plt.plot((kassel[\"Rel1PHHueber60\"]*100), label='Einpersonenhaushalte >60-Jährige')\n",
    "\n",
    "\n",
    "plt.axis([2007, 2017, 0, 100])\n",
    "\n",
    "#Achsen-Beschriftungen\n",
    "plt.ylabel('Anteil an den gesamten Einpersonenhaushalten')\n",
    "plt.xlabel('Jahre 2007-2017')\n",
    "\n",
    "#Diagramm-Beschriftung\n",
    "plt.title('Entwicklung der prozentualen Anteile der Altersgruppen an den Bewohnern von Einpersonenhaushalten')\n",
    "plt.legend(loc=2)\n",
    "          \n",
    "plt.show() "
   ]
  },
  {
   "cell_type": "code",
   "execution_count": 25,
   "metadata": {},
   "outputs": [
    {
     "ename": "SyntaxError",
     "evalue": "invalid syntax (<ipython-input-25-866bf8630047>, line 10)",
     "output_type": "error",
     "traceback": [
      "\u001b[1;36m  File \u001b[1;32m\"<ipython-input-25-866bf8630047>\"\u001b[1;36m, line \u001b[1;32m10\u001b[0m\n\u001b[1;33m    plt.show()\u001b[0m\n\u001b[1;37m      ^\u001b[0m\n\u001b[1;31mSyntaxError\u001b[0m\u001b[1;31m:\u001b[0m invalid syntax\n"
     ]
    }
   ],
   "source": [
    "import matplotlib.pyplot as plt\n",
    "junge = kassel[\"1PHHunter30\"]\n",
    "mittlere = kassel[\"1PHH30bis60\"]\n",
    "alte = kassel[\"1PHHueber60\"]\n",
    "\n",
    "serie1 = plt.bar(range(len(kassel)), junge, color='CornflowerBlue') \n",
    "serie2 = plt.bar(range(len(kassel)), mittlere, bottom=junge, color='Blue') #legt den Balken für \"mittlere\" auf den Balken für \"junge\"\n",
    "serie3 = plt.bar(range(len(kassel), alte, bottom=junge+mittlere, color='DarkBlue') \n",
    "\n",
    "plt.show()\n",
    "\n",
    "\n"
   ]
  },
  {
   "cell_type": "code",
   "execution_count": null,
   "metadata": {},
   "outputs": [],
   "source": [
    "kassel.describe()"
   ]
  },
  {
   "cell_type": "code",
   "execution_count": null,
   "metadata": {},
   "outputs": [],
   "source": []
  },
  {
   "cell_type": "code",
   "execution_count": null,
   "metadata": {},
   "outputs": [],
   "source": []
  }
 ],
 "metadata": {
  "kernelspec": {
   "display_name": "Python 3",
   "language": "python",
   "name": "python3"
  },
  "language_info": {
   "codemirror_mode": {
    "name": "ipython",
    "version": 3
   },
   "file_extension": ".py",
   "mimetype": "text/x-python",
   "name": "python",
   "nbconvert_exporter": "python",
   "pygments_lexer": "ipython3",
   "version": "3.7.0"
  }
 },
 "nbformat": 4,
 "nbformat_minor": 2
}
